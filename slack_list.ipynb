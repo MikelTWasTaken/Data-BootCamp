{
 "cells": [
  {
   "cell_type": "code",
   "execution_count": 3,
   "metadata": {},
   "outputs": [
    {
     "name": "stdout",
     "output_type": "stream",
     "text": [
      "              id                                name\n",
      "0    C03BABAC86S                         recruitment\n",
      "1    C03BB306R7U                              random\n",
      "2    C03BCSAH666                     rightsizing-hpa\n",
      "3    C03BDD2UZ5J                             general\n",
      "4    C03BK7RJK3L                    reading-material\n",
      "..           ...                                 ...\n",
      "569  C07E08U4F9Q                      gd_s1_scaleops\n",
      "570  C07NL5J24CT             via-scaleops-globaldots\n",
      "571  C056G3Z8BD5              ext-explorium-scaleops\n",
      "572  C080VHSQCN6  internal-realcloud-scaleops-pipefy\n",
      "573  C080Y7YLLCS    internal-realcloud-scaleops-itau\n",
      "\n",
      "[574 rows x 2 columns]\n"
     ]
    }
   ],
   "source": [
    "import pandas as pd\n",
    "\n",
    "# Load the JSON file\n",
    "file_path = '/Users/teitelbaumsair/Desktop/slack_list.json'\n",
    "df = pd.read_json(file_path)\n",
    "\n",
    "# Print the DataFrame\n",
    "print(df)\n",
    "\n",
    "# Export to Excel or CSV\n",
    "df.to_csv('output.csv', index=False)"
   ]
  },
  {
   "cell_type": "code",
   "execution_count": null,
   "metadata": {},
   "outputs": [],
   "source": []
  }
 ],
 "metadata": {
  "kernelspec": {
   "display_name": "Python 3",
   "language": "python",
   "name": "python3"
  },
  "language_info": {
   "codemirror_mode": {
    "name": "ipython",
    "version": 3
   },
   "file_extension": ".py",
   "mimetype": "text/x-python",
   "name": "python",
   "nbconvert_exporter": "python",
   "pygments_lexer": "ipython3",
   "version": "3.12.6"
  }
 },
 "nbformat": 4,
 "nbformat_minor": 2
}

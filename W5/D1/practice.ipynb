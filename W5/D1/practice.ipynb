{
 "cells": [
  {
   "cell_type": "code",
   "execution_count": null,
   "metadata": {},
   "outputs": [
    {
     "name": "stdout",
     "output_type": "stream",
     "text": [
      "   values  normalized_list_1_to_10\n",
      "0      10                 1.000000\n",
      "1      20                 1.089109\n",
      "2      30                 1.178218\n",
      "3      40                 1.267327\n",
      "4      50                 1.356436\n",
      "5      60                 1.445545\n",
      "6     300                 3.584158\n",
      "7     500                 5.366337\n",
      "8    1000                 9.821782\n",
      "9    1020                10.000000\n"
     ]
    }
   ],
   "source": [
    "#normalization for 1-10 scale\n",
    "\n",
    "import pandas as pd\n",
    "\n",
    "list = [10,20,30,40,50,60,300,500,1000,1020]\n",
    "df = pd.DataFrame({'values':[10,20,30,40,50,60,300,500,1000,1020]})\n",
    "#normalize the list so the values are between 1 and 10\n",
    "#Min value in range is 1 \n",
    "#Max value in range is 10\n",
    "df['normalized_list_1_to_10'] = 1 + 9 * (df['values'] - df['values'].min()) / (df['values'].max() - df['values'].min())\n",
    "print(df)"
   ]
  },
  {
   "cell_type": "code",
   "execution_count": 10,
   "metadata": {},
   "outputs": [
    {
     "name": "stdout",
     "output_type": "stream",
     "text": [
      "   values  normalized_list_1_to_10\n",
      "0      10                 1.000000\n",
      "1      20                 1.089109\n",
      "2      30                 1.178218\n",
      "3      40                 1.267327\n",
      "4      50                 1.356436\n",
      "5      60                 1.445545\n",
      "6     300                 3.584158\n",
      "7     500                 5.366337\n",
      "8    1000                 9.821782\n",
      "9    1020                10.000000\n"
     ]
    }
   ],
   "source": [
    "import pandas as pd\n",
    "from sklearn.preprocessing import MinMaxScaler\n",
    "\n",
    "# Create the DataFrame\n",
    "df = pd.DataFrame({'values': [10, 20, 30, 40, 50, 60, 300, 500, 1000, 1020]})\n",
    "\n",
    "# Initialize MinMaxScaler with feature range [1, 10]\n",
    "scaler = MinMaxScaler(feature_range=(1, 10))\n",
    "\n",
    "# Scale the values and add them to the DataFrame\n",
    "df['normalized_list_1_to_10'] = scaler.fit_transform(df[['values']])\n",
    "\n",
    "print(df)"
   ]
  },
  {
   "cell_type": "code",
   "execution_count": null,
   "metadata": {},
   "outputs": [
    {
     "data": {
      "text/html": [
       "<div>\n",
       "<style scoped>\n",
       "    .dataframe tbody tr th:only-of-type {\n",
       "        vertical-align: middle;\n",
       "    }\n",
       "\n",
       "    .dataframe tbody tr th {\n",
       "        vertical-align: top;\n",
       "    }\n",
       "\n",
       "    .dataframe thead th {\n",
       "        text-align: right;\n",
       "    }\n",
       "</style>\n",
       "<table border=\"1\" class=\"dataframe\">\n",
       "  <thead>\n",
       "    <tr style=\"text-align: right;\">\n",
       "      <th></th>\n",
       "      <th>values</th>\n",
       "      <th>normalized_list_1_to_10_standard</th>\n",
       "    </tr>\n",
       "  </thead>\n",
       "  <tbody>\n",
       "    <tr>\n",
       "      <th>0</th>\n",
       "      <td>10</td>\n",
       "      <td>-0.763837</td>\n",
       "    </tr>\n",
       "    <tr>\n",
       "      <th>1</th>\n",
       "      <td>20</td>\n",
       "      <td>-0.737768</td>\n",
       "    </tr>\n",
       "    <tr>\n",
       "      <th>2</th>\n",
       "      <td>30</td>\n",
       "      <td>-0.711698</td>\n",
       "    </tr>\n",
       "    <tr>\n",
       "      <th>3</th>\n",
       "      <td>40</td>\n",
       "      <td>-0.685629</td>\n",
       "    </tr>\n",
       "    <tr>\n",
       "      <th>4</th>\n",
       "      <td>50</td>\n",
       "      <td>-0.659559</td>\n",
       "    </tr>\n",
       "    <tr>\n",
       "      <th>5</th>\n",
       "      <td>60</td>\n",
       "      <td>-0.633490</td>\n",
       "    </tr>\n",
       "    <tr>\n",
       "      <th>6</th>\n",
       "      <td>300</td>\n",
       "      <td>-0.007821</td>\n",
       "    </tr>\n",
       "    <tr>\n",
       "      <th>7</th>\n",
       "      <td>500</td>\n",
       "      <td>0.513570</td>\n",
       "    </tr>\n",
       "    <tr>\n",
       "      <th>8</th>\n",
       "      <td>1000</td>\n",
       "      <td>1.817046</td>\n",
       "    </tr>\n",
       "    <tr>\n",
       "      <th>9</th>\n",
       "      <td>1020</td>\n",
       "      <td>1.869185</td>\n",
       "    </tr>\n",
       "  </tbody>\n",
       "</table>\n",
       "</div>"
      ],
      "text/plain": [
       "   values  normalized_list_1_to_10_standard\n",
       "0      10                         -0.763837\n",
       "1      20                         -0.737768\n",
       "2      30                         -0.711698\n",
       "3      40                         -0.685629\n",
       "4      50                         -0.659559\n",
       "5      60                         -0.633490\n",
       "6     300                         -0.007821\n",
       "7     500                          0.513570\n",
       "8    1000                          1.817046\n",
       "9    1020                          1.869185"
      ]
     },
     "execution_count": 21,
     "metadata": {},
     "output_type": "execute_result"
    }
   ],
   "source": [
    "from sklearn.preprocessing import StandardScaler\n",
    "import pandas as pd\n",
    "\n",
    "scaler = StandardScaler()\n",
    "df['normalized_list_1_to_10_standard'] = scaler.fit_transform(df[['values']])\n",
    "df.drop(['normalized_list_1_to_10','normalized_list_1_to_10 standard'], axis=1, inplace=True)\n",
    "\n",
    "df"
   ]
  }
 ],
 "metadata": {
  "kernelspec": {
   "display_name": "Python 3",
   "language": "python",
   "name": "python3"
  },
  "language_info": {
   "codemirror_mode": {
    "name": "ipython",
    "version": 3
   },
   "file_extension": ".py",
   "mimetype": "text/x-python",
   "name": "python",
   "nbconvert_exporter": "python",
   "pygments_lexer": "ipython3",
   "version": "3.12.6"
  }
 },
 "nbformat": 4,
 "nbformat_minor": 2
}

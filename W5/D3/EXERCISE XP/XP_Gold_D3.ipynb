{
 "cells": [
  {
   "cell_type": "markdown",
   "metadata": {},
   "source": [
    "What you will create :\n",
    "A scatter plot in plotnine with aesthetic mappings that visually distinguishes data points based on a categorical variable.\n",
    "A stacked bar chart in plotnine to display the distribution of a categorical variable, segmented by another category.\n",
    "A series of facet-wrapped plots in plotnine to compare subsets of data across different categories or conditions.\n",
    "An interactive line chart in Plotly showcasing GDP per capita over time for a selected country from the Gapminder dataset.\n",
    "A 3D scatter plot in Plotly that visually differentiates Iris flower species based on sepal and petal measurements.\n",
    "An interactive heatmap in Plotly illustrating the frequency of flights between major US cities, with detailed hover-over information.\n",
    "A Matplotlib time-series plot representing stock market trends over time, with features enabling users to zoom and pan through the large dataset.\n",
    "An interactive Plotly scatter plot to analyze flight delay data, focusing on delay duration and time of the day, with hover details for deeper insights.\n",
    "\n",
    "\n",
    "\n",
    "\n",
    "\n",
    "\n",
    "\n",
    "\n",
    "\n",
    "\n",
    "\n",
    "\n",
    "\n",
    "\n",
    "\n",
    "\n",
    "\n",
    "\n",
    "Exercise 7: Visualizing Large Time-Series Data with Matplotlib\n",
    "Objective:\n",
    "\n",
    "Create a time-series plot using Matplotlib to visualize large-scale stock market data over time.\n",
    "\n",
    "Instructions\n",
    "Download the stock market dataset from the Yahoo Finance API (use yfinance Python package to access data for a major stock index like S&P 500 over the past 10 years).\n",
    "Load the data into a pandas DataFrame.\n",
    "Import matplotlib.pyplot.\n",
    "Plot the closing prices (Close column) against the dates.\n",
    "Ensure your plot handles the large dataset efficiently by aggregating data or using data sampling.\n",
    "Customize the plot with a title, axis labels, and a grid.\n",
    "Implement interactive features like zooming and panning for better usability.\n",
    "Expected Learning Outcome:\n",
    "\n",
    "Learn techniques for efficiently visualizing large time-series data using Matplotlib.\n",
    "\n",
    "\n",
    "\n",
    "Exercise 8: Interactive Data Exploration with Plotly on Flight Delays Dataset\n",
    "Objective:\n",
    "\n",
    "Use Plotly to create an interactive scatter plot to explore a large dataset of flight delays, focusing on the relationship between the delay duration and the time of the day.\n",
    "\n",
    "Dataset URL\n",
    "\n",
    "Flight Delay Data\n",
    "\n",
    "Instructions\n",
    "Download the flight delay dataset from the provided URL, focusing on a single year of data for a comprehensive yet manageable size.\n",
    "Load the data into a pandas DataFrame.\n",
    "Import the necessary components from plotly.\n",
    "Create an interactive scatter plot with the time of the day on the x-axis and delay duration on the y-axis.\n",
    "Color-code the points based on the airline.\n",
    "Add hover-over text displaying the flight number, departure, and arrival cities.\n",
    "Customize the layout, including a title, axis labels, and a legend.\n",
    "Expected Learning Outcome:\n",
    "\n",
    "Develop skills in creating interactive visualizations for large datasets and learn how to extract meaningful insights from complex data patterns using Plotly."
   ]
  },
  {
   "cell_type": "markdown",
   "metadata": {},
   "source": [
    "Exercise 1: Creating a Scatter Plot with Aesthetic Mappings\n",
    "Objective:\n",
    "\n",
    "Use plotnine to create a scatter plot from a given dataset. The plot should map at least two variables to the x and y-axes and include an aesthetic mapping for color based on a third variable.\n",
    "\n",
    "Instructions\n",
    "Load your dataset into a pandas DataFrame.\n",
    "Import the necessary components from plotnine.\n",
    "Create a scatter plot using geom_point() where you map the x-axis to one variable and the y-axis to another.\n",
    "Add an aesthetic mapping to color the points based on a third variable.\n",
    "Customize the labels and title of the plot.\n",
    "Display the plot.\n",
    "Expected Learning Outcome:\n",
    "\n",
    "Understand how to create scatter plots and apply aesthetic mappings in plotnine.\n",
    "\n"
   ]
  },
  {
   "cell_type": "code",
   "execution_count": 13,
   "metadata": {},
   "outputs": [
    {
     "data": {
      "text/html": [
       "<div>\n",
       "<style scoped>\n",
       "    .dataframe tbody tr th:only-of-type {\n",
       "        vertical-align: middle;\n",
       "    }\n",
       "\n",
       "    .dataframe tbody tr th {\n",
       "        vertical-align: top;\n",
       "    }\n",
       "\n",
       "    .dataframe thead th {\n",
       "        text-align: right;\n",
       "    }\n",
       "</style>\n",
       "<table border=\"1\" class=\"dataframe\">\n",
       "  <thead>\n",
       "    <tr style=\"text-align: right;\">\n",
       "      <th></th>\n",
       "      <th>sepal length (cm)</th>\n",
       "      <th>sepal width (cm)</th>\n",
       "      <th>petal length (cm)</th>\n",
       "      <th>petal width (cm)</th>\n",
       "    </tr>\n",
       "  </thead>\n",
       "  <tbody>\n",
       "    <tr>\n",
       "      <th>0</th>\n",
       "      <td>5.1</td>\n",
       "      <td>3.5</td>\n",
       "      <td>1.4</td>\n",
       "      <td>0.2</td>\n",
       "    </tr>\n",
       "    <tr>\n",
       "      <th>1</th>\n",
       "      <td>4.9</td>\n",
       "      <td>3.0</td>\n",
       "      <td>1.4</td>\n",
       "      <td>0.2</td>\n",
       "    </tr>\n",
       "    <tr>\n",
       "      <th>2</th>\n",
       "      <td>4.7</td>\n",
       "      <td>3.2</td>\n",
       "      <td>1.3</td>\n",
       "      <td>0.2</td>\n",
       "    </tr>\n",
       "    <tr>\n",
       "      <th>3</th>\n",
       "      <td>4.6</td>\n",
       "      <td>3.1</td>\n",
       "      <td>1.5</td>\n",
       "      <td>0.2</td>\n",
       "    </tr>\n",
       "    <tr>\n",
       "      <th>4</th>\n",
       "      <td>5.0</td>\n",
       "      <td>3.6</td>\n",
       "      <td>1.4</td>\n",
       "      <td>0.2</td>\n",
       "    </tr>\n",
       "  </tbody>\n",
       "</table>\n",
       "</div>"
      ],
      "text/plain": [
       "   sepal length (cm)  sepal width (cm)  petal length (cm)  petal width (cm)\n",
       "0                5.1               3.5                1.4               0.2\n",
       "1                4.9               3.0                1.4               0.2\n",
       "2                4.7               3.2                1.3               0.2\n",
       "3                4.6               3.1                1.5               0.2\n",
       "4                5.0               3.6                1.4               0.2"
      ]
     },
     "execution_count": 13,
     "metadata": {},
     "output_type": "execute_result"
    }
   ],
   "source": [
    "import matplotlib.pyplot as plt\n",
    "import pandas as pd \n",
    "import numpy as np\n",
    "import seaborn as sns\n",
    "import sklearn.datasets as datasets\n",
    "from sklearn.linear_model import LinearRegression\n",
    "from sklearn.preprocessing import MinMaxScaler\n",
    "from plotnine import * \n",
    "import plotly.express as px\n",
    "from sklearn.datasets import load_iris\n",
    "import datetime \n",
    "import plotly.express as px\n",
    "import plotly.graph_objects as go\n",
    "import yfinance as yf\n",
    "\n",
    "\n",
    "\n",
    "iris = load_iris()\n",
    "iris_df = pd.DataFrame(\n",
    "    data = iris.data, \n",
    "    columns=iris.feature_names)\n",
    "\n",
    "iris_df.head()"
   ]
  },
  {
   "cell_type": "code",
   "execution_count": 14,
   "metadata": {},
   "outputs": [
    {
     "data": {
      "image/png": "[encoded data removed]",
      "text/plain": [
       "<Figure size 640x480 with 1 Axes>"
      ]
     },
     "metadata": {
      "image/png": {
       "height": 487,
       "width": 646
      }
     },
     "output_type": "display_data"
    }
   ],
   "source": [
    "plot = (\n",
    "    ggplot(iris_df, aes(x='sepal width (cm)', y='petal length (cm)')) +\n",
    "    geom_point(color='blue') +  # Add points to the plot\n",
    "    labs(\n",
    "        title=\"Iris Dataset Scatter Plot\",\n",
    "        x=\"Sepal Width (cm)\",\n",
    "        y=\"Petal Length (cm)\"\n",
    "    )\n",
    ")\n",
    "\n",
    "# Display the plot\n",
    "plot.show()"
   ]
  },
  {
   "cell_type": "markdown",
   "metadata": {},
   "source": [
    "\n",
    "Exercise 2: Building a Stacked Bar Chart\n",
    "Objective\n",
    "\n",
    "Create a stacked bar chart using plotnine that visualizes the counts of a categorical variable, stacked by another categorical variable.\n",
    "\n",
    "Instructions\n",
    "- Load your dataset into a pandas DataFrame.\n",
    "- Import the necessary components from plotnine.\n",
    "- Use geom_bar() to create a bar chart. Ensure the bars are stacked.\n",
    "- Map the x-axis to a categorical variable.\n",
    "- Use the fill aesthetic to stack the bars based on another categorical variable.\n",
    "- Add appropriate labels and a title to your chart.\n",
    "- Display the plot.\n",
    "\n",
    "Expected Learning Outcome:\n",
    "\n",
    "- Learn to create and customize stacked bar charts in plotnine.\n"
   ]
  },
  {
   "cell_type": "code",
   "execution_count": 15,
   "metadata": {},
   "outputs": [
    {
     "data": {
      "image/png": "[encoded data removed]",
      "text/plain": [
       "<Figure size 640x480 with 1 Axes>"
      ]
     },
     "metadata": {
      "image/png": {
       "height": 487,
       "width": 647
      }
     },
     "output_type": "display_data"
    }
   ],
   "source": [
    "iris_df['species'] = pd.Categorical.from_codes(iris.target, iris.target_names)\n",
    "\n",
    "# Create a new categorical variable using pd.cut for 'sepal length (cm)'\n",
    "bins = [4, 5, 6, 7, 8]  # Define bin edges\n",
    "labels = ['short', 'average', 'long', 'very long']  # Define bin labels\n",
    "iris_df['sepal_length_bins'] = pd.cut(iris_df['sepal length (cm)'], bins=bins, labels=labels)\n",
    "\n",
    "# Create a stacked bar chart based on the new categorical variable\n",
    "plot = (\n",
    "    ggplot(iris_df, aes(x='sepal_length_bins', fill='species')) +  # Map x to bins and fill to species\n",
    "    geom_bar() +  # Bar chart\n",
    "    labs(\n",
    "        title=\"Distribution of Iris Species by Sepal Length Bins\",\n",
    "        x=\"Sepal Length (cm) Bins\",\n",
    "        y=\"Count\",\n",
    "        fill=\"Species\"\n",
    "    )\n",
    ")\n",
    "\n",
    "plot.show()"
   ]
  },
  {
   "cell_type": "markdown",
   "metadata": {},
   "source": [
    "Exercise 3: Exploring Facet Wrapping in Plotnine\n",
    "Objective:\n",
    "\n",
    "- Use plotnine to create a series of plots for different subsets of your data using facet wrapping.\n",
    "\n",
    "Instructions\n",
    "- Load your dataset into a pandas DataFrame.\n",
    "- Import the necessary components from plotnine.\n",
    "- Create a basic plot (like a scatter plot or bar chart) using your dataset.\n",
    "- Apply facet_wrap() to your plot to create multiple panels, each representing a subset of your data based on a specified variable.\n",
    "- Customize the layout and appearance of the facet grid.\n",
    "- Add appropriate labels and titles to your plots.\n",
    "- Display the final plot.\n",
    "Expected Learning Outcome:\n",
    "\n",
    "- Gain experience with creating multi-panel plots using facet wrapping in plotnine.\n",
    "\n"
   ]
  },
  {
   "cell_type": "code",
   "execution_count": 16,
   "metadata": {},
   "outputs": [
    {
     "data": {
      "image/png": "[encoded data removed]"
     },
     "metadata": {
      "image/png": {
       "height": 480,
       "width": 640
      }
     },
     "output_type": "display_data"
    }
   ],
   "source": [
    "facet_plot = (ggplot(iris_df, aes(x='petal length (cm)', y='petal width (cm)', color='species')) +\n",
    "              geom_point(size=3, alpha=0.6) +\n",
    "              geom_smooth(method='lm', se=True) +\n",
    "              facet_wrap('~species') +\n",
    "              labs(title=\"Faceted Plot by Species\",\n",
    "                   subtitle=\"Each panel represents a different Species\",\n",
    "                   x=\"Petal Length (cm)\",\n",
    "                   y=\"Petal Width (cm)\",\n",
    "                   color=\"Species\") +\n",
    "              scale_color_manual(values=[\"blue\", \"green\", \"red\"]))\n",
    "facet_plot\n"
   ]
  },
  {
   "cell_type": "markdown",
   "metadata": {},
   "source": [
    "Exercise 4: Interactive Line Chart with the Gapminder Dataset\n",
    "Objective:\n",
    "\n",
    "- Create an interactive line chart using Plotly that visualizes the GDP per capita over time for a selected country from the Gapminder dataset.\n",
    "\n",
    "Instructions\n",
    "- Load the GapMinder - Income Inequality Dataset into a pandas DataFrame.\n",
    "- Import the necessary components from plotly.\n",
    "- Filter the dataset for a specific country of your choice.\n",
    "- Create a line chart that plots year on the x-axis and GDP per capita on the y-axis.\n",
    "- Ensure the chart is interactive, allowing for hover-over details.\n",
    "- Add appropriate labels and a title to your chart.\n",
    "\n",
    "Expected Learning Outcome:\n",
    "\n",
    "- Learn to create interactive line charts and handle time series data in Plotly."
   ]
  },
  {
   "cell_type": "markdown",
   "metadata": {},
   "source": [
    "Exercise 5: 3D Scatter Plot with the Iris Dataset\n",
    "Objective:\n",
    "\n",
    "- Use Plotly to create a 3D scatter plot that visualizes the three different species of the Iris dataset with respect to their sepal length, sepal width, and petal length.\n",
    "\n",
    "Instructions\n",
    "- Load the Iris dataset into a pandas DataFrame.\n",
    "- Import the necessary components from plotly.\n",
    "- Create a 3D scatter plot mapping sepal length, sepal width, and petal length to the three axes.\n",
    "- Use color to distinguish between the different species.\n",
    "- Add hover-over text for each data point displaying its species name.\n",
    "- Include a descriptive title and axis labels.\n",
    "Expected Learning Outcome:\n",
    "\n",
    "- Understand how to create and customize 3D scatter plots in Plotly."
   ]
  },
  {
   "cell_type": "code",
   "execution_count": 17,
   "metadata": {},
   "outputs": [
    {
     "data": {
      "application/vnd.plotly.v1+json": {
       "config": {
        "plotlyServerURL": "https://plot.ly"
       },
       "data": [
        {
         "hovertemplate": "Species=setosa<br>Sepal Length (cm)=%{x}<br>Sepal Width (cm)=%{y}<br>Petal Length (cm)=%{z}<extra></extra>",
         "legendgroup": "setosa",
         "marker": {
          "color": "#636efa",
          "symbol": "circle"
         },
         "mode": "markers",
         "name": "setosa",
         "scene": "scene",
         "showlegend": true,
         "type": "scatter3d",
         "x": [
          5.1,
          4.9,
          4.7,
          4.6,
          5,
          5.4,
          4.6,
          5,
          4.4,
          4.9,
          5.4,
          4.8,
          4.8,
          4.3,
          5.8,
          5.7,
          5.4,
          5.1,
          5.7,
          5.1,
          5.4,
          5.1,
          4.6,
          5.1,
          4.8,
          5,
          5,
          5.2,
          5.2,
          4.7,
          4.8,
          5.4,
          5.2,
          5.5,
          4.9,
          5,
          5.5,
          4.9,
          4.4,
          5.1,
          5,
          4.5,
          4.4,
          5,
          5.1,
          4.8,
          5.1,
          4.6,
          5.3,
          5
         ],
         "y": [
          3.5,
          3,
          3.2,
          3.1,
          3.6,
          3.9,
          3.4,
          3.4,
          2.9,
          3.1,
          3.7,
          3.4,
          3,
          3,
          4,
          4.4,
          3.9,
          3.5,
          3.8,
          3.8,
          3.4,
          3.7,
          3.6,
          3.3,
          3.4,
          3,
          3.4,
          3.5,
          3.4,
          3.2,
          3.1,
          3.4,
          4.1,
          4.2,
          3.1,
          3.2,
          3.5,
          3.6,
          3,
          3.4,
          3.5,
          2.3,
          3.2,
          3.5,
          3.8,
          3,
          3.8,
          3.2,
          3.7,
          3.3
         ],
         "z": [
          1.4,
          1.4,
          1.3,
          1.5,
          1.4,
          1.7,
          1.4,
          1.5,
          1.4,
          1.5,
          1.5,
          1.6,
          1.4,
          1.1,
          1.2,
          1.5,
          1.3,
          1.4,
          1.7,
          1.5,
          1.7,
          1.5,
          1,
          1.7,
          1.9,
          1.6,
          1.6,
          1.5,
          1.4,
          1.6,
          1.6,
          1.5,
          1.5,
          1.4,
          1.5,
          1.2,
          1.3,
          1.4,
          1.3,
          1.5,
          1.3,
          1.3,
          1.3,
          1.6,
          1.9,
          1.4,
          1.6,
          1.4,
          1.5,
          1.4
         ]
        },
        {
         "hovertemplate": "Species=versicolor<br>Sepal Length (cm)=%{x}<br>Sepal Width (cm)=%{y}<br>Petal Length (cm)=%{z}<extra></extra>",
         "legendgroup": "versicolor",
         "marker": {
          "color": "#EF553B",
          "symbol": "circle"
         },
         "mode": "markers",
         "name": "versicolor",
         "scene": "scene",
         "showlegend": true,
         "type": "scatter3d",
         "x": [
          7,
          6.4,
          6.9,
          5.5,
          6.5,
          5.7,
          6.3,
          4.9,
          6.6,
          5.2,
          5,
          5.9,
          6,
          6.1,
          5.6,
          6.7,
          5.6,
          5.8,
          6.2,
          5.6,
          5.9,
          6.1,
          6.3,
          6.1,
          6.4,
          6.6,
          6.8,
          6.7,
          6,
          5.7,
          5.5,
          5.5,
          5.8,
          6,
          5.4,
          6,
          6.7,
          6.3,
          5.6,
          5.5,
          5.5,
          6.1,
          5.8,
          5,
          5.6,
          5.7,
          5.7,
          6.2,
          5.1,
          5.7
         ],
         "y": [
          3.2,
          3.2,
          3.1,
          2.3,
          2.8,
          2.8,
          3.3,
          2.4,
          2.9,
          2.7,
          2,
          3,
          2.2,
          2.9,
          2.9,
          3.1,
          3,
          2.7,
          2.2,
          2.5,
          3.2,
          2.8,
          2.5,
          2.8,
          2.9,
          3,
          2.8,
          3,
          2.9,
          2.6,
          2.4,
          2.4,
          2.7,
          2.7,
          3,
          3.4,
          3.1,
          2.3,
          3,
          2.5,
          2.6,
          3,
          2.6,
          2.3,
          2.7,
          3,
          2.9,
          2.9,
          2.5,
          2.8
         ],
         "z": [
          4.7,
          4.5,
          4.9,
          4,
          4.6,
          4.5,
          4.7,
          3.3,
          4.6,
          3.9,
          3.5,
          4.2,
          4,
          4.7,
          3.6,
          4.4,
          4.5,
          4.1,
          4.5,
          3.9,
          4.8,
          4,
          4.9,
          4.7,
          4.3,
          4.4,
          4.8,
          5,
          4.5,
          3.5,
          3.8,
          3.7,
          3.9,
          5.1,
          4.5,
          4.5,
          4.7,
          4.4,
          4.1,
          4,
          4.4,
          4.6,
          4,
          3.3,
          4.2,
          4.2,
          4.2,
          4.3,
          3,
          4.1
         ]
        },
        {
         "hovertemplate": "Species=virginica<br>Sepal Length (cm)=%{x}<br>Sepal Width (cm)=%{y}<br>Petal Length (cm)=%{z}<extra></extra>",
         "legendgroup": "virginica",
         "marker": {
          "color": "#00cc96",
          "symbol": "circle"
         },
         "mode": "markers",
         "name": "virginica",
         "scene": "scene",
         "showlegend": true,
         "type": "scatter3d",
         "x": [
          6.3,
          5.8,
          7.1,
          6.3,
          6.5,
          7.6,
          4.9,
          7.3,
          6.7,
          7.2,
          6.5,
          6.4,
          6.8,
          5.7,
          5.8,
          6.4,
          6.5,
          7.7,
          7.7,
          6,
          6.9,
          5.6,
          7.7,
          6.3,
          6.7,
          7.2,
          6.2,
          6.1,
          6.4,
          7.2,
          7.4,
          7.9,
          6.4,
          6.3,
          6.1,
          7.7,
          6.3,
          6.4,
          6,
          6.9,
          6.7,
          6.9,
          5.8,
          6.8,
          6.7,
          6.7,
          6.3,
          6.5,
          6.2,
          5.9
         ],
         "y": [
          3.3,
          2.7,
          3,
          2.9,
          3,
          3,
          2.5,
          2.9,
          2.5,
          3.6,
          3.2,
          2.7,
          3,
          2.5,
          2.8,
          3.2,
          3,
          3.8,
          2.6,
          2.2,
          3.2,
          2.8,
          2.8,
          2.7,
          3.3,
          3.2,
          2.8,
          3,
          2.8,
          3,
          2.8,
          3.8,
          2.8,
          2.8,
          2.6,
          3,
          3.4,
          3.1,
          3,
          3.1,
          3.1,
          3.1,
          2.7,
          3.2,
          3.3,
          3,
          2.5,
          3,
          3.4,
          3
         ],
         "z": [
          6,
          5.1,
          5.9,
          5.6,
          5.8,
          6.6,
          4.5,
          6.3,
          5.8,
          6.1,
          5.1,
          5.3,
          5.5,
          5,
          5.1,
          5.3,
          5.5,
          6.7,
          6.9,
          5,
          5.7,
          4.9,
          6.7,
          4.9,
          5.7,
          6,
          4.8,
          4.9,
          5.6,
          5.8,
          6.1,
          6.4,
          5.6,
          5.1,
          5.6,
          6.1,
          5.6,
          5.5,
          4.8,
          5.4,
          5.6,
          5.1,
          5.1,
          5.9,
          5.7,
          5.2,
          5,
          5.2,
          5.4,
          5.1
         ]
        }
       ],
       "layout": {
        "legend": {
         "title": {
          "text": "Species"
         },
         "tracegroupgap": 0
        },
        "scene": {
         "domain": {
          "x": [
           0,
           1
          ],
          "y": [
           0,
           1
          ]
         },
         "xaxis": {
          "title": {
           "text": "Sepal Length (cm)"
          }
         },
         "yaxis": {
          "title": {
           "text": "Sepal Width (cm)"
          }
         },
         "zaxis": {
          "title": {
           "text": "Petal Length (cm)"
          }
         }
        },
        "template": {
         "data": {
          "bar": [
           {
            "error_x": {
             "color": "#2a3f5f"
            },
            "error_y": {
             "color": "#2a3f5f"
            },
            "marker": {
             "line": {
              "color": "#E5ECF6",
              "width": 0.5
             },
             "pattern": {
              "fillmode": "overlay",
              "size": 10,
              "solidity": 0.2
             }
            },
            "type": "bar"
           }
          ],
          "barpolar": [
           {
            "marker": {
             "line": {
              "color": "#E5ECF6",
              "width": 0.5
             },
             "pattern": {
              "fillmode": "overlay",
              "size": 10,
              "solidity": 0.2
             }
            },
            "type": "barpolar"
           }
          ],
          "carpet": [
           {
            "aaxis": {
             "endlinecolor": "#2a3f5f",
             "gridcolor": "white",
             "linecolor": "white",
             "minorgridcolor": "white",
             "startlinecolor": "#2a3f5f"
            },
            "baxis": {
             "endlinecolor": "#2a3f5f",
             "gridcolor": "white",
             "linecolor": "white",
             "minorgridcolor": "white",
             "startlinecolor": "#2a3f5f"
            },
            "type": "carpet"
           }
          ],
          "choropleth": [
           {
            "colorbar": {
             "outlinewidth": 0,
             "ticks": ""
            },
            "type": "choropleth"
           }
          ],
          "contour": [
           {
            "colorbar": {
             "outlinewidth": 0,
             "ticks": ""
            },
            "colorscale": [
             [
              0,
              "#0d0887"
             ],
             [
              0.1111111111111111,
              "#46039f"
             ],
             [
              0.2222222222222222,
              "#7201a8"
             ],
             [
              0.3333333333333333,
              "#9c179e"
             ],
             [
              0.4444444444444444,
              "#bd3786"
             ],
             [
              0.5555555555555556,
              "#d8576b"
             ],
             [
              0.6666666666666666,
              "#ed7953"
             ],
             [
              0.7777777777777778,
              "#fb9f3a"
             ],
             [
              0.8888888888888888,
              "#fdca26"
             ],
             [
              1,
              "#f0f921"
             ]
            ],
            "type": "contour"
           }
          ],
          "contourcarpet": [
           {
            "colorbar": {
             "outlinewidth": 0,
             "ticks": ""
            },
            "type": "contourcarpet"
           }
          ],
          "heatmap": [
           {
            "colorbar": {
             "outlinewidth": 0,
             "ticks": ""
            },
            "colorscale": [
             [
              0,
              "#0d0887"
             ],
             [
              0.1111111111111111,
              "#46039f"
             ],
             [
              0.2222222222222222,
              "#7201a8"
             ],
             [
              0.3333333333333333,
              "#9c179e"
             ],
             [
              0.4444444444444444,
              "#bd3786"
             ],
             [
              0.5555555555555556,
              "#d8576b"
             ],
             [
              0.6666666666666666,
              "#ed7953"
             ],
             [
              0.7777777777777778,
              "#fb9f3a"
             ],
             [
              0.8888888888888888,
              "#fdca26"
             ],
             [
              1,
              "#f0f921"
             ]
            ],
            "type": "heatmap"
           }
          ],
          "heatmapgl": [
           {
            "colorbar": {
             "outlinewidth": 0,
             "ticks": ""
            },
            "colorscale": [
             [
              0,
              "#0d0887"
             ],
             [
              0.1111111111111111,
              "#46039f"
             ],
             [
              0.2222222222222222,
              "#7201a8"
             ],
             [
              0.3333333333333333,
              "#9c179e"
             ],
             [
              0.4444444444444444,
              "#bd3786"
             ],
             [
              0.5555555555555556,
              "#d8576b"
             ],
             [
              0.6666666666666666,
              "#ed7953"
             ],
             [
              0.7777777777777778,
              "#fb9f3a"
             ],
             [
              0.8888888888888888,
              "#fdca26"
             ],
             [
              1,
              "#f0f921"
             ]
            ],
            "type": "heatmapgl"
           }
          ],
          "histogram": [
           {
            "marker": {
             "pattern": {
              "fillmode": "overlay",
              "size": 10,
              "solidity": 0.2
             }
            },
            "type": "histogram"
           }
          ],
          "histogram2d": [
           {
            "colorbar": {
             "outlinewidth": 0,
             "ticks": ""
            },
            "colorscale": [
             [
              0,
              "#0d0887"
             ],
             [
              0.1111111111111111,
              "#46039f"
             ],
             [
              0.2222222222222222,
              "#7201a8"
             ],
             [
              0.3333333333333333,
              "#9c179e"
             ],
             [
              0.4444444444444444,
              "#bd3786"
             ],
             [
              0.5555555555555556,
              "#d8576b"
             ],
             [
              0.6666666666666666,
              "#ed7953"
             ],
             [
              0.7777777777777778,
              "#fb9f3a"
             ],
             [
              0.8888888888888888,
              "#fdca26"
             ],
             [
              1,
              "#f0f921"
             ]
            ],
            "type": "histogram2d"
           }
          ],
          "histogram2dcontour": [
           {
            "colorbar": {
             "outlinewidth": 0,
             "ticks": ""
            },
            "colorscale": [
             [
              0,
              "#0d0887"
             ],
             [
              0.1111111111111111,
              "#46039f"
             ],
             [
              0.2222222222222222,
              "#7201a8"
             ],
             [
              0.3333333333333333,
              "#9c179e"
             ],
             [
              0.4444444444444444,
              "#bd3786"
             ],
             [
              0.5555555555555556,
              "#d8576b"
             ],
             [
              0.6666666666666666,
              "#ed7953"
             ],
             [
              0.7777777777777778,
              "#fb9f3a"
             ],
             [
              0.8888888888888888,
              "#fdca26"
             ],
             [
              1,
              "#f0f921"
             ]
            ],
            "type": "histogram2dcontour"
           }
          ],
          "mesh3d": [
           {
            "colorbar": {
             "outlinewidth": 0,
             "ticks": ""
            },
            "type": "mesh3d"
           }
          ],
          "parcoords": [
           {
            "line": {
             "colorbar": {
              "outlinewidth": 0,
              "ticks": ""
             }
            },
            "type": "parcoords"
           }
          ],
          "pie": [
           {
            "automargin": true,
            "type": "pie"
           }
          ],
          "scatter": [
           {
            "fillpattern": {
             "fillmode": "overlay",
             "size": 10,
             "solidity": 0.2
            },
            "type": "scatter"
           }
          ],
          "scatter3d": [
           {
            "line": {
             "colorbar": {
              "outlinewidth": 0,
              "ticks": ""
             }
            },
            "marker": {
             "colorbar": {
              "outlinewidth": 0,
              "ticks": ""
             }
            },
            "type": "scatter3d"
           }
          ],
          "scattercarpet": [
           {
            "marker": {
             "colorbar": {
              "outlinewidth": 0,
              "ticks": ""
             }
            },
            "type": "scattercarpet"
           }
          ],
          "scattergeo": [
           {
            "marker": {
             "colorbar": {
              "outlinewidth": 0,
              "ticks": ""
             }
            },
            "type": "scattergeo"
           }
          ],
          "scattergl": [
           {
            "marker": {
             "colorbar": {
              "outlinewidth": 0,
              "ticks": ""
             }
            },
            "type": "scattergl"
           }
          ],
          "scattermapbox": [
           {
            "marker": {
             "colorbar": {
              "outlinewidth": 0,
              "ticks": ""
             }
            },
            "type": "scattermapbox"
           }
          ],
          "scatterpolar": [
           {
            "marker": {
             "colorbar": {
              "outlinewidth": 0,
              "ticks": ""
             }
            },
            "type": "scatterpolar"
           }
          ],
          "scatterpolargl": [
           {
            "marker": {
             "colorbar": {
              "outlinewidth": 0,
              "ticks": ""
             }
            },
            "type": "scatterpolargl"
           }
          ],
          "scatterternary": [
           {
            "marker": {
             "colorbar": {
              "outlinewidth": 0,
              "ticks": ""
             }
            },
            "type": "scatterternary"
           }
          ],
          "surface": [
           {
            "colorbar": {
             "outlinewidth": 0,
             "ticks": ""
            },
            "colorscale": [
             [
              0,
              "#0d0887"
             ],
             [
              0.1111111111111111,
              "#46039f"
             ],
             [
              0.2222222222222222,
              "#7201a8"
             ],
             [
              0.3333333333333333,
              "#9c179e"
             ],
             [
              0.4444444444444444,
              "#bd3786"
             ],
             [
              0.5555555555555556,
              "#d8576b"
             ],
             [
              0.6666666666666666,
              "#ed7953"
             ],
             [
              0.7777777777777778,
              "#fb9f3a"
             ],
             [
              0.8888888888888888,
              "#fdca26"
             ],
             [
              1,
              "#f0f921"
             ]
            ],
            "type": "surface"
           }
          ],
          "table": [
           {
            "cells": {
             "fill": {
              "color": "#EBF0F8"
             },
             "line": {
              "color": "white"
             }
            },
            "header": {
             "fill": {
              "color": "#C8D4E3"
             },
             "line": {
              "color": "white"
             }
            },
            "type": "table"
           }
          ]
         },
         "layout": {
          "annotationdefaults": {
           "arrowcolor": "#2a3f5f",
           "arrowhead": 0,
           "arrowwidth": 1
          },
          "autotypenumbers": "strict",
          "coloraxis": {
           "colorbar": {
            "outlinewidth": 0,
            "ticks": ""
           }
          },
          "colorscale": {
           "diverging": [
            [
             0,
             "#8e0152"
            ],
            [
             0.1,
             "#c51b7d"
            ],
            [
             0.2,
             "#de77ae"
            ],
            [
             0.3,
             "#f1b6da"
            ],
            [
             0.4,
             "#fde0ef"
            ],
            [
             0.5,
             "#f7f7f7"
            ],
            [
             0.6,
             "#e6f5d0"
            ],
            [
             0.7,
             "#b8e186"
            ],
            [
             0.8,
             "#7fbc41"
            ],
            [
             0.9,
             "#4d9221"
            ],
            [
             1,
             "#276419"
            ]
           ],
           "sequential": [
            [
             0,
             "#0d0887"
            ],
            [
             0.1111111111111111,
             "#46039f"
            ],
            [
             0.2222222222222222,
             "#7201a8"
            ],
            [
             0.3333333333333333,
             "#9c179e"
            ],
            [
             0.4444444444444444,
             "#bd3786"
            ],
            [
             0.5555555555555556,
             "#d8576b"
            ],
            [
             0.6666666666666666,
             "#ed7953"
            ],
            [
             0.7777777777777778,
             "#fb9f3a"
            ],
            [
             0.8888888888888888,
             "#fdca26"
            ],
            [
             1,
             "#f0f921"
            ]
           ],
           "sequentialminus": [
            [
             0,
             "#0d0887"
            ],
            [
             0.1111111111111111,
             "#46039f"
            ],
            [
             0.2222222222222222,
             "#7201a8"
            ],
            [
             0.3333333333333333,
             "#9c179e"
            ],
            [
             0.4444444444444444,
             "#bd3786"
            ],
            [
             0.5555555555555556,
             "#d8576b"
            ],
            [
             0.6666666666666666,
             "#ed7953"
            ],
            [
             0.7777777777777778,
             "#fb9f3a"
            ],
            [
             0.8888888888888888,
             "#fdca26"
            ],
            [
             1,
             "#f0f921"
            ]
           ]
          },
          "colorway": [
           "#636efa",
           "#EF553B",
           "#00cc96",
           "#ab63fa",
           "#FFA15A",
           "#19d3f3",
           "#FF6692",
           "#B6E880",
           "#FF97FF",
           "#FECB52"
          ],
          "font": {
           "color": "#2a3f5f"
          },
          "geo": {
           "bgcolor": "white",
           "lakecolor": "white",
           "landcolor": "#E5ECF6",
           "showlakes": true,
           "showland": true,
           "subunitcolor": "white"
          },
          "hoverlabel": {
           "align": "left"
          },
          "hovermode": "closest",
          "mapbox": {
           "style": "light"
          },
          "paper_bgcolor": "white",
          "plot_bgcolor": "#E5ECF6",
          "polar": {
           "angularaxis": {
            "gridcolor": "white",
            "linecolor": "white",
            "ticks": ""
           },
           "bgcolor": "#E5ECF6",
           "radialaxis": {
            "gridcolor": "white",
            "linecolor": "white",
            "ticks": ""
           }
          },
          "scene": {
           "xaxis": {
            "backgroundcolor": "#E5ECF6",
            "gridcolor": "white",
            "gridwidth": 2,
            "linecolor": "white",
            "showbackground": true,
            "ticks": "",
            "zerolinecolor": "white"
           },
           "yaxis": {
            "backgroundcolor": "#E5ECF6",
            "gridcolor": "white",
            "gridwidth": 2,
            "linecolor": "white",
            "showbackground": true,
            "ticks": "",
            "zerolinecolor": "white"
           },
           "zaxis": {
            "backgroundcolor": "#E5ECF6",
            "gridcolor": "white",
            "gridwidth": 2,
            "linecolor": "white",
            "showbackground": true,
            "ticks": "",
            "zerolinecolor": "white"
           }
          },
          "shapedefaults": {
           "line": {
            "color": "#2a3f5f"
           }
          },
          "ternary": {
           "aaxis": {
            "gridcolor": "white",
            "linecolor": "white",
            "ticks": ""
           },
           "baxis": {
            "gridcolor": "white",
            "linecolor": "white",
            "ticks": ""
           },
           "bgcolor": "#E5ECF6",
           "caxis": {
            "gridcolor": "white",
            "linecolor": "white",
            "ticks": ""
           }
          },
          "title": {
           "x": 0.05
          },
          "xaxis": {
           "automargin": true,
           "gridcolor": "white",
           "linecolor": "white",
           "ticks": "",
           "title": {
            "standoff": 15
           },
           "zerolinecolor": "white",
           "zerolinewidth": 2
          },
          "yaxis": {
           "automargin": true,
           "gridcolor": "white",
           "linecolor": "white",
           "ticks": "",
           "title": {
            "standoff": 15
           },
           "zerolinecolor": "white",
           "zerolinewidth": 2
          }
         }
        },
        "title": {
         "text": "3D Scatter Plot of Iris Species"
        }
       }
      }
     },
     "metadata": {},
     "output_type": "display_data"
    }
   ],
   "source": [
    "import plotly.express as px\n",
    "import pandas as pd\n",
    "from sklearn.datasets import load_iris\n",
    "# Create the 3D scatter plot\n",
    "fig = px.scatter_3d(iris_df, \n",
    "                    x='sepal length (cm)', \n",
    "                    y='sepal width (cm)', \n",
    "                    z='petal length (cm)', \n",
    "                    color='species',\n",
    "                    title='3D Scatter Plot of Iris Species',\n",
    "                    labels={'sepal length (cm)': 'Sepal Length (cm)',\n",
    "                            'sepal width (cm)': 'Sepal Width (cm)',\n",
    "                            'petal length (cm)': 'Petal Length (cm)',\n",
    "                            'species': 'Species'})\n",
    "\n",
    "# Show the plot\n",
    "fig.show()"
   ]
  },
  {
   "cell_type": "markdown",
   "metadata": {},
   "source": [
    "Exercise 6: Interactive Heatmap using Flight Data\n",
    "Objective:\n",
    "\n",
    "- Create an interactive heatmap using Plotly to visualize flight frequency between different US cities using a flight dataset.\n",
    "\n",
    "Instructions\n",
    "- Load a dataset containing flight frequencies between major US cities like this Airlines Dataset to predict a delay.\n",
    "- Import the necessary components from plotly.\n",
    "- Use the plotly.graph_objects module to create a heatmap.\n",
    "- The x-axis should represent departure cities, and the y-axis should represent arrival cities.\n",
    "- The color intensity of each cell in the heatmap should represent the number of flights.\n",
    "- Ensure interactivity with hover-over text for each cell showing the exact number of flights.\n",
    "\n",
    "Expected Learning Outcome:\n",
    "\n",
    "- Gain skills in creating and interpreting heatmaps, and handling geographical data in Plotly."
   ]
  },
  {
   "cell_type": "code",
   "execution_count": 18,
   "metadata": {},
   "outputs": [
    {
     "data": {
      "application/vnd.plotly.v1+json": {
       "config": {
        "plotlyServerURL": "https://plot.ly"
       },
       "data": [
        {
         "colorbar": {
          "title": {
           "text": "Average Delay"
          }
         },
         "colorscale": [
          [
           0,
           "rgb(255,255,204)"
          ],
          [
           0.125,
           "rgb(255,237,160)"
          ],
          [
           0.25,
           "rgb(254,217,118)"
          ],
          [
           0.375,
           "rgb(254,178,76)"
          ],
          [
           0.5,
           "rgb(253,141,60)"
          ],
          [
           0.625,
           "rgb(252,78,42)"
          ],
          [
           0.75,
           "rgb(227,26,28)"
          ],
          [
           0.875,
           "rgb(189,0,38)"
          ],
          [
           1,
           "rgb(128,0,38)"
          ]
         ],
         "type": "heatmap",
         "x": [
          1,
          2,
          3,
          4,
          5,
          6,
          7
         ],
         "y": [
          "9E",
          "AA",
          "AS",
          "B6",
          "CO",
          "DL",
          "EV",
          "F9",
          "FL",
          "HA",
          "MQ",
          "OH",
          "OO",
          "UA",
          "US",
          "WN",
          "XE",
          "YV"
         ],
         "z": [
          [
           0.4573560767590618,
           0.4091880341880342,
           0.4075666380051591,
           0.3765975575120704,
           0.369240546552272,
           0.32317346481398473,
           0.43310911808669655
          ],
          [
           0.37568148025772347,
           0.4,
           0.41930778411351277,
           0.3870583564906709,
           0.3661093794275999,
           0.38028687017285767,
           0.3864969006533758
          ],
          [
           0.34405778069599474,
           0.3486360612109115,
           0.3421891604675877,
           0.3305526590198123,
           0.35013698630136986,
           0.33607784431137727,
           0.3221024258760108
          ],
          [
           0.4093567251461988,
           0.4440544098288723,
           0.5473572188719404,
           0.5626037861175689,
           0.43439363817097415,
           0.39926402943882244,
           0.43483657426561856
          ],
          [
           0.5114029025570145,
           0.5765176299527445,
           0.6422045387562629,
           0.6022294725394236,
           0.528125910813174,
           0.5222125435540069,
           0.5555140186915888
          ],
          [
           0.5114781974978744,
           0.46133600701842337,
           0.4718978824460716,
           0.44822927723632155,
           0.3995698043634129,
           0.355440097799511,
           0.49283199195171024
          ],
          [
           0.503841059602649,
           0.4270833333333333,
           0.417395011724579,
           0.3747087481465791,
           0.33134328358208953,
           0.32257012393998696,
           0.43927292756816305
          ],
          [
           0.375,
           0.5094117647058823,
           0.4519774011299435,
           0.4810009267840593,
           0.4857142857142857,
           0.36507936507936506,
           0.4430538172715895
          ],
          [
           0.3516841724013039,
           0.32111492936235203,
           0.33965728274173806,
           0.278854498119757,
           0.20341929875398435,
           0.29016141429669484,
           0.3491944548520045
          ],
          [
           0.3781163434903047,
           0.3151862464183381,
           0.2454337899543379,
           0.33714285714285713,
           0.3649789029535865,
           0.23255813953488372,
           0.36675824175824173
          ],
          [
           0.36986579910532735,
           0.3365189101260675,
           0.368130081300813,
           0.33458156952132856,
           0.32660290471130005,
           0.34054585689697564,
           0.3610411418975651
          ],
          [
           0.32690124858115777,
           0.2757437070938215,
           0.27579908675799086,
           0.2727686703096539,
           0.25052192066805845,
           0.2140468227424749,
           0.31134401972872994
          ],
          [
           0.46939376103590347,
           0.4221954161640531,
           0.44784984556901875,
           0.4510914454277286,
           0.4490241397021058,
           0.44820104863496657,
           0.48397338977925614
          ],
          [
           0.34764881761348193,
           0.3315962698848053,
           0.32103079274950863,
           0.3127455259711916,
           0.3194192377495463,
           0.31349458943348185,
           0.3243092380686575
          ],
          [
           0.34130291730642687,
           0.3442513368983957,
           0.3575428474461225,
           0.3324351633546649,
           0.2967071667547103,
           0.30696378830083565,
           0.3726165862623478
          ],
          [
           0.7261086820737039,
           0.6874609618988132,
           0.7353269636431319,
           0.7271994043926046,
           0.6874174946154381,
           0.637013583903585,
           0.6506923140701434
          ],
          [
           0.37202448424393564,
           0.37441803479539326,
           0.4282025819265144,
           0.384,
           0.3522323192414066,
           0.3402894648266577,
           0.38465322183964584
          ],
          [
           0.24395727937043282,
           0.2448512585812357,
           0.24552772808586762,
           0.2337942955920484,
           0.21846153846153846,
           0.23249839434810532,
           0.2879955947136564
          ]
         ]
        }
       ],
       "layout": {
        "template": {
         "data": {
          "bar": [
           {
            "error_x": {
             "color": "#2a3f5f"
            },
            "error_y": {
             "color": "#2a3f5f"
            },
            "marker": {
             "line": {
              "color": "#E5ECF6",
              "width": 0.5
             },
             "pattern": {
              "fillmode": "overlay",
              "size": 10,
              "solidity": 0.2
             }
            },
            "type": "bar"
           }
          ],
          "barpolar": [
           {
            "marker": {
             "line": {
              "color": "#E5ECF6",
              "width": 0.5
             },
             "pattern": {
              "fillmode": "overlay",
              "size": 10,
              "solidity": 0.2
             }
            },
            "type": "barpolar"
           }
          ],
          "carpet": [
           {
            "aaxis": {
             "endlinecolor": "#2a3f5f",
             "gridcolor": "white",
             "linecolor": "white",
             "minorgridcolor": "white",
             "startlinecolor": "#2a3f5f"
            },
            "baxis": {
             "endlinecolor": "#2a3f5f",
             "gridcolor": "white",
             "linecolor": "white",
             "minorgridcolor": "white",
             "startlinecolor": "#2a3f5f"
            },
            "type": "carpet"
           }
          ],
          "choropleth": [
           {
            "colorbar": {
             "outlinewidth": 0,
             "ticks": ""
            },
            "type": "choropleth"
           }
          ],
          "contour": [
           {
            "colorbar": {
             "outlinewidth": 0,
             "ticks": ""
            },
            "colorscale": [
             [
              0,
              "#0d0887"
             ],
             [
              0.1111111111111111,
              "#46039f"
             ],
             [
              0.2222222222222222,
              "#7201a8"
             ],
             [
              0.3333333333333333,
              "#9c179e"
             ],
             [
              0.4444444444444444,
              "#bd3786"
             ],
             [
              0.5555555555555556,
              "#d8576b"
             ],
             [
              0.6666666666666666,
              "#ed7953"
             ],
             [
              0.7777777777777778,
              "#fb9f3a"
             ],
             [
              0.8888888888888888,
              "#fdca26"
             ],
             [
              1,
              "#f0f921"
             ]
            ],
            "type": "contour"
           }
          ],
          "contourcarpet": [
           {
            "colorbar": {
             "outlinewidth": 0,
             "ticks": ""
            },
            "type": "contourcarpet"
           }
          ],
          "heatmap": [
           {
            "colorbar": {
             "outlinewidth": 0,
             "ticks": ""
            },
            "colorscale": [
             [
              0,
              "#0d0887"
             ],
             [
              0.1111111111111111,
              "#46039f"
             ],
             [
              0.2222222222222222,
              "#7201a8"
             ],
             [
              0.3333333333333333,
              "#9c179e"
             ],
             [
              0.4444444444444444,
              "#bd3786"
             ],
             [
              0.5555555555555556,
              "#d8576b"
             ],
             [
              0.6666666666666666,
              "#ed7953"
             ],
             [
              0.7777777777777778,
              "#fb9f3a"
             ],
             [
              0.8888888888888888,
              "#fdca26"
             ],
             [
              1,
              "#f0f921"
             ]
            ],
            "type": "heatmap"
           }
          ],
          "heatmapgl": [
           {
            "colorbar": {
             "outlinewidth": 0,
             "ticks": ""
            },
            "colorscale": [
             [
              0,
              "#0d0887"
             ],
             [
              0.1111111111111111,
              "#46039f"
             ],
             [
              0.2222222222222222,
              "#7201a8"
             ],
             [
              0.3333333333333333,
              "#9c179e"
             ],
             [
              0.4444444444444444,
              "#bd3786"
             ],
             [
              0.5555555555555556,
              "#d8576b"
             ],
             [
              0.6666666666666666,
              "#ed7953"
             ],
             [
              0.7777777777777778,
              "#fb9f3a"
             ],
             [
              0.8888888888888888,
              "#fdca26"
             ],
             [
              1,
              "#f0f921"
             ]
            ],
            "type": "heatmapgl"
           }
          ],
          "histogram": [
           {
            "marker": {
             "pattern": {
              "fillmode": "overlay",
              "size": 10,
              "solidity": 0.2
             }
            },
            "type": "histogram"
           }
          ],
          "histogram2d": [
           {
            "colorbar": {
             "outlinewidth": 0,
             "ticks": ""
            },
            "colorscale": [
             [
              0,
              "#0d0887"
             ],
             [
              0.1111111111111111,
              "#46039f"
             ],
             [
              0.2222222222222222,
              "#7201a8"
             ],
             [
              0.3333333333333333,
              "#9c179e"
             ],
             [
              0.4444444444444444,
              "#bd3786"
             ],
             [
              0.5555555555555556,
              "#d8576b"
             ],
             [
              0.6666666666666666,
              "#ed7953"
             ],
             [
              0.7777777777777778,
              "#fb9f3a"
             ],
             [
              0.8888888888888888,
              "#fdca26"
             ],
             [
              1,
              "#f0f921"
             ]
            ],
            "type": "histogram2d"
           }
          ],
          "histogram2dcontour": [
           {
            "colorbar": {
             "outlinewidth": 0,
             "ticks": ""
            },
            "colorscale": [
             [
              0,
              "#0d0887"
             ],
             [
              0.1111111111111111,
              "#46039f"
             ],
             [
              0.2222222222222222,
              "#7201a8"
             ],
             [
              0.3333333333333333,
              "#9c179e"
             ],
             [
              0.4444444444444444,
              "#bd3786"
             ],
             [
              0.5555555555555556,
              "#d8576b"
             ],
             [
              0.6666666666666666,
              "#ed7953"
             ],
             [
              0.7777777777777778,
              "#fb9f3a"
             ],
             [
              0.8888888888888888,
              "#fdca26"
             ],
             [
              1,
              "#f0f921"
             ]
            ],
            "type": "histogram2dcontour"
           }
          ],
          "mesh3d": [
           {
            "colorbar": {
             "outlinewidth": 0,
             "ticks": ""
            },
            "type": "mesh3d"
           }
          ],
          "parcoords": [
           {
            "line": {
             "colorbar": {
              "outlinewidth": 0,
              "ticks": ""
             }
            },
            "type": "parcoords"
           }
          ],
          "pie": [
           {
            "automargin": true,
            "type": "pie"
           }
          ],
          "scatter": [
           {
            "fillpattern": {
             "fillmode": "overlay",
             "size": 10,
             "solidity": 0.2
            },
            "type": "scatter"
           }
          ],
          "scatter3d": [
           {
            "line": {
             "colorbar": {
              "outlinewidth": 0,
              "ticks": ""
             }
            },
            "marker": {
             "colorbar": {
              "outlinewidth": 0,
              "ticks": ""
             }
            },
            "type": "scatter3d"
           }
          ],
          "scattercarpet": [
           {
            "marker": {
             "colorbar": {
              "outlinewidth": 0,
              "ticks": ""
             }
            },
            "type": "scattercarpet"
           }
          ],
          "scattergeo": [
           {
            "marker": {
             "colorbar": {
              "outlinewidth": 0,
              "ticks": ""
             }
            },
            "type": "scattergeo"
           }
          ],
          "scattergl": [
           {
            "marker": {
             "colorbar": {
              "outlinewidth": 0,
              "ticks": ""
             }
            },
            "type": "scattergl"
           }
          ],
          "scattermapbox": [
           {
            "marker": {
             "colorbar": {
              "outlinewidth": 0,
              "ticks": ""
             }
            },
            "type": "scattermapbox"
           }
          ],
          "scatterpolar": [
           {
            "marker": {
             "colorbar": {
              "outlinewidth": 0,
              "ticks": ""
             }
            },
            "type": "scatterpolar"
           }
          ],
          "scatterpolargl": [
           {
            "marker": {
             "colorbar": {
              "outlinewidth": 0,
              "ticks": ""
             }
            },
            "type": "scatterpolargl"
           }
          ],
          "scatterternary": [
           {
            "marker": {
             "colorbar": {
              "outlinewidth": 0,
              "ticks": ""
             }
            },
            "type": "scatterternary"
           }
          ],
          "surface": [
           {
            "colorbar": {
             "outlinewidth": 0,
             "ticks": ""
            },
            "colorscale": [
             [
              0,
              "#0d0887"
             ],
             [
              0.1111111111111111,
              "#46039f"
             ],
             [
              0.2222222222222222,
              "#7201a8"
             ],
             [
              0.3333333333333333,
              "#9c179e"
             ],
             [
              0.4444444444444444,
              "#bd3786"
             ],
             [
              0.5555555555555556,
              "#d8576b"
             ],
             [
              0.6666666666666666,
              "#ed7953"
             ],
             [
              0.7777777777777778,
              "#fb9f3a"
             ],
             [
              0.8888888888888888,
              "#fdca26"
             ],
             [
              1,
              "#f0f921"
             ]
            ],
            "type": "surface"
           }
          ],
          "table": [
           {
            "cells": {
             "fill": {
              "color": "#EBF0F8"
             },
             "line": {
              "color": "white"
             }
            },
            "header": {
             "fill": {
              "color": "#C8D4E3"
             },
             "line": {
              "color": "white"
             }
            },
            "type": "table"
           }
          ]
         },
         "layout": {
          "annotationdefaults": {
           "arrowcolor": "#2a3f5f",
           "arrowhead": 0,
           "arrowwidth": 1
          },
          "autotypenumbers": "strict",
          "coloraxis": {
           "colorbar": {
            "outlinewidth": 0,
            "ticks": ""
           }
          },
          "colorscale": {
           "diverging": [
            [
             0,
             "#8e0152"
            ],
            [
             0.1,
             "#c51b7d"
            ],
            [
             0.2,
             "#de77ae"
            ],
            [
             0.3,
             "#f1b6da"
            ],
            [
             0.4,
             "#fde0ef"
            ],
            [
             0.5,
             "#f7f7f7"
            ],
            [
             0.6,
             "#e6f5d0"
            ],
            [
             0.7,
             "#b8e186"
            ],
            [
             0.8,
             "#7fbc41"
            ],
            [
             0.9,
             "#4d9221"
            ],
            [
             1,
             "#276419"
            ]
           ],
           "sequential": [
            [
             0,
             "#0d0887"
            ],
            [
             0.1111111111111111,
             "#46039f"
            ],
            [
             0.2222222222222222,
             "#7201a8"
            ],
            [
             0.3333333333333333,
             "#9c179e"
            ],
            [
             0.4444444444444444,
             "#bd3786"
            ],
            [
             0.5555555555555556,
             "#d8576b"
            ],
            [
             0.6666666666666666,
             "#ed7953"
            ],
            [
             0.7777777777777778,
             "#fb9f3a"
            ],
            [
             0.8888888888888888,
             "#fdca26"
            ],
            [
             1,
             "#f0f921"
            ]
           ],
           "sequentialminus": [
            [
             0,
             "#0d0887"
            ],
            [
             0.1111111111111111,
             "#46039f"
            ],
            [
             0.2222222222222222,
             "#7201a8"
            ],
            [
             0.3333333333333333,
             "#9c179e"
            ],
            [
             0.4444444444444444,
             "#bd3786"
            ],
            [
             0.5555555555555556,
             "#d8576b"
            ],
            [
             0.6666666666666666,
             "#ed7953"
            ],
            [
             0.7777777777777778,
             "#fb9f3a"
            ],
            [
             0.8888888888888888,
             "#fdca26"
            ],
            [
             1,
             "#f0f921"
            ]
           ]
          },
          "colorway": [
           "#636efa",
           "#EF553B",
           "#00cc96",
           "#ab63fa",
           "#FFA15A",
           "#19d3f3",
           "#FF6692",
           "#B6E880",
           "#FF97FF",
           "#FECB52"
          ],
          "font": {
           "color": "#2a3f5f"
          },
          "geo": {
           "bgcolor": "white",
           "lakecolor": "white",
           "landcolor": "#E5ECF6",
           "showlakes": true,
           "showland": true,
           "subunitcolor": "white"
          },
          "hoverlabel": {
           "align": "left"
          },
          "hovermode": "closest",
          "mapbox": {
           "style": "light"
          },
          "paper_bgcolor": "white",
          "plot_bgcolor": "#E5ECF6",
          "polar": {
           "angularaxis": {
            "gridcolor": "white",
            "linecolor": "white",
            "ticks": ""
           },
           "bgcolor": "#E5ECF6",
           "radialaxis": {
            "gridcolor": "white",
            "linecolor": "white",
            "ticks": ""
           }
          },
          "scene": {
           "xaxis": {
            "backgroundcolor": "#E5ECF6",
            "gridcolor": "white",
            "gridwidth": 2,
            "linecolor": "white",
            "showbackground": true,
            "ticks": "",
            "zerolinecolor": "white"
           },
           "yaxis": {
            "backgroundcolor": "#E5ECF6",
            "gridcolor": "white",
            "gridwidth": 2,
            "linecolor": "white",
            "showbackground": true,
            "ticks": "",
            "zerolinecolor": "white"
           },
           "zaxis": {
            "backgroundcolor": "#E5ECF6",
            "gridcolor": "white",
            "gridwidth": 2,
            "linecolor": "white",
            "showbackground": true,
            "ticks": "",
            "zerolinecolor": "white"
           }
          },
          "shapedefaults": {
           "line": {
            "color": "#2a3f5f"
           }
          },
          "ternary": {
           "aaxis": {
            "gridcolor": "white",
            "linecolor": "white",
            "ticks": ""
           },
           "baxis": {
            "gridcolor": "white",
            "linecolor": "white",
            "ticks": ""
           },
           "bgcolor": "#E5ECF6",
           "caxis": {
            "gridcolor": "white",
            "linecolor": "white",
            "ticks": ""
           }
          },
          "title": {
           "x": 0.05
          },
          "xaxis": {
           "automargin": true,
           "gridcolor": "white",
           "linecolor": "white",
           "ticks": "",
           "title": {
            "standoff": 15
           },
           "zerolinecolor": "white",
           "zerolinewidth": 2
          },
          "yaxis": {
           "automargin": true,
           "gridcolor": "white",
           "linecolor": "white",
           "ticks": "",
           "title": {
            "standoff": 15
           },
           "zerolinecolor": "white",
           "zerolinewidth": 2
          }
         }
        },
        "title": {
         "text": "Average Flight Delays by Airline and Day of the Week"
        },
        "xaxis": {
         "title": {
          "text": "Day of the Week"
         }
        },
        "yaxis": {
         "title": {
          "text": "Airline"
         }
        }
       }
      }
     },
     "metadata": {},
     "output_type": "display_data"
    }
   ],
   "source": [
    "Air_df = pd.read_csv('/Users/teitelbaumsair/Desktop/DI_Bootcamp/W5/D3/EXERCISE XP/Airlines.csv')\n",
    "df = Air_df[['Airline', 'DayOfWeek', 'Delay']].dropna()\n",
    "heatmap_data = df.pivot_table(index='Airline', columns='DayOfWeek', values='Delay', aggfunc='mean')\n",
    "\n",
    "heatmap_fig = go.Figure(data=go.Heatmap(\n",
    "    z=heatmap_data.values,\n",
    "    x=heatmap_data.columns,\n",
    "    y=heatmap_data.index,\n",
    "    colorscale='YlOrRd', \n",
    "    colorbar=dict(title='Average Delay')\n",
    "))\n",
    "\n",
    "heatmap_fig.update_layout(\n",
    "    title='Average Flight Delays by Airline and Day of the Week',\n",
    "    xaxis_title='Day of the Week',\n",
    "    yaxis_title='Airline',\n",
    ")\n",
    "\n",
    "# Show the heatmap\n",
    "heatmap_fig.show()"
   ]
  },
  {
   "cell_type": "markdown",
   "metadata": {},
   "source": [
    "Exercise 7: Visualizing Large Time-Series Data with Matplotlib\n",
    "Objective:\n",
    "\n",
    "Create a time-series plot using Matplotlib to visualize large-scale stock market data over time.\n",
    "\n",
    "Instructions\n",
    "Download the stock market dataset from the Yahoo Finance API (use yfinance Python package to access data for a major stock index like S&P 500 over the past 10 years).\n",
    "Load the data into a pandas DataFrame.\n",
    "Import matplotlib.pyplot.\n",
    "Plot the closing prices (Close column) against the dates.\n",
    "Ensure your plot handles the large dataset efficiently by aggregating data or using data sampling.\n",
    "Customize the plot with a title, axis labels, and a grid.\n",
    "Implement interactive features like zooming and panning for better usability.\n",
    "Expected Learning Outcome:\n",
    "\n",
    "Learn techniques for efficiently visualizing large time-series data using Matplotlib."
   ]
  },
  {
   "cell_type": "code",
   "execution_count": 27,
   "metadata": {},
   "outputs": [
    {
     "data": {
      "text/html": [
       "<div>\n",
       "<style scoped>\n",
       "    .dataframe tbody tr th:only-of-type {\n",
       "        vertical-align: middle;\n",
       "    }\n",
       "\n",
       "    .dataframe tbody tr th {\n",
       "        vertical-align: top;\n",
       "    }\n",
       "\n",
       "    .dataframe thead th {\n",
       "        text-align: right;\n",
       "    }\n",
       "</style>\n",
       "<table border=\"1\" class=\"dataframe\">\n",
       "  <thead>\n",
       "    <tr style=\"text-align: right;\">\n",
       "      <th></th>\n",
       "      <th>Open</th>\n",
       "      <th>High</th>\n",
       "      <th>Low</th>\n",
       "      <th>Close</th>\n",
       "      <th>Volume</th>\n",
       "    </tr>\n",
       "    <tr>\n",
       "      <th>Date</th>\n",
       "      <th></th>\n",
       "      <th></th>\n",
       "      <th></th>\n",
       "      <th></th>\n",
       "      <th></th>\n",
       "    </tr>\n",
       "  </thead>\n",
       "  <tbody>\n",
       "    <tr>\n",
       "      <th>2024-11-25 00:00:00-05:00</th>\n",
       "      <td>5992.279785</td>\n",
       "      <td>6020.750000</td>\n",
       "      <td>5963.910156</td>\n",
       "      <td>5987.370117</td>\n",
       "      <td>5633150000</td>\n",
       "    </tr>\n",
       "    <tr>\n",
       "      <th>2024-11-26 00:00:00-05:00</th>\n",
       "      <td>6000.029785</td>\n",
       "      <td>6025.419922</td>\n",
       "      <td>5992.270020</td>\n",
       "      <td>6021.629883</td>\n",
       "      <td>3835170000</td>\n",
       "    </tr>\n",
       "    <tr>\n",
       "      <th>2024-11-27 00:00:00-05:00</th>\n",
       "      <td>6014.109863</td>\n",
       "      <td>6020.160156</td>\n",
       "      <td>5984.870117</td>\n",
       "      <td>5998.740234</td>\n",
       "      <td>3363340000</td>\n",
       "    </tr>\n",
       "    <tr>\n",
       "      <th>2024-11-29 00:00:00-05:00</th>\n",
       "      <td>6003.979980</td>\n",
       "      <td>6044.169922</td>\n",
       "      <td>6003.979980</td>\n",
       "      <td>6032.379883</td>\n",
       "      <td>2444420000</td>\n",
       "    </tr>\n",
       "    <tr>\n",
       "      <th>2024-12-02 00:00:00-05:00</th>\n",
       "      <td>6040.109863</td>\n",
       "      <td>6053.580078</td>\n",
       "      <td>6035.330078</td>\n",
       "      <td>6047.149902</td>\n",
       "      <td>4412470000</td>\n",
       "    </tr>\n",
       "  </tbody>\n",
       "</table>\n",
       "</div>"
      ],
      "text/plain": [
       "                                  Open         High          Low        Close  \\\n",
       "Date                                                                            \n",
       "2024-11-25 00:00:00-05:00  5992.279785  6020.750000  5963.910156  5987.370117   \n",
       "2024-11-26 00:00:00-05:00  6000.029785  6025.419922  5992.270020  6021.629883   \n",
       "2024-11-27 00:00:00-05:00  6014.109863  6020.160156  5984.870117  5998.740234   \n",
       "2024-11-29 00:00:00-05:00  6003.979980  6044.169922  6003.979980  6032.379883   \n",
       "2024-12-02 00:00:00-05:00  6040.109863  6053.580078  6035.330078  6047.149902   \n",
       "\n",
       "                               Volume  \n",
       "Date                                   \n",
       "2024-11-25 00:00:00-05:00  5633150000  \n",
       "2024-11-26 00:00:00-05:00  3835170000  \n",
       "2024-11-27 00:00:00-05:00  3363340000  \n",
       "2024-11-29 00:00:00-05:00  2444420000  \n",
       "2024-12-02 00:00:00-05:00  4412470000  "
      ]
     },
     "execution_count": 27,
     "metadata": {},
     "output_type": "execute_result"
    }
   ],
   "source": [
    "sp500 = yf.Ticker(\"^GSPC\").history(period=\"10y\")\n",
    "sp500 = sp500.drop(columns=['Dividends', 'Stock Splits'])\n",
    "sp500.tail()"
   ]
  },
  {
   "cell_type": "code",
   "execution_count": 28,
   "metadata": {},
   "outputs": [
    {
     "data": {
      "image/png": "[encoded data removed]",
      "text/plain": [
       "<Figure size 1500x500 with 1 Axes>"
      ]
     },
     "metadata": {
      "image/png": {
       "height": 450,
       "width": 1227
      }
     },
     "output_type": "display_data"
    }
   ],
   "source": [
    "plt.figure(figsize=(15, 5))\n",
    "plt.title('S&P 500 Close Price')\n",
    "plt.plot(sp500['Close'])\n",
    "plt.legend(['Close'])\n",
    "plt.show()"
   ]
  },
  {
   "cell_type": "markdown",
   "metadata": {},
   "source": [
    "Exercise 8: Interactive Data Exploration with Plotly on Flight Delays Dataset\n",
    "Objective:\n",
    "\n",
    "- Use Plotly to create an interactive scatter plot to explore a large dataset of flight delays, focusing on the relationship between the delay duration and the time of the day.\n",
    "\n",
    "Instructions\n",
    "- Download the flight delay dataset from the provided URL, focusing on a single year of data for a comprehensive yet manageable size.\n",
    "- Load the data into a pandas DataFrame.\n",
    "- Import the necessary components from plotly.\n",
    "- Create an interactive scatter plot with the time of the day on the x-axis and delay duration on the y-axis.\n",
    "- Color-code the points based on the airline.\n",
    "- Add hover-over text displaying the flight number, departure, and arrival cities.\n",
    "- Customize the layout, including a title, axis labels, and a legend.\n",
    "\n",
    "Expected Learning Outcome:\n",
    "\n",
    "- Develop skills in creating interactive visualizations for large datasets and learn how to extract meaningful insights from complex data patterns using Plotly.\n",
    "\n"
   ]
  },
  {
   "cell_type": "code",
   "execution_count": null,
   "metadata": {},
   "outputs": [],
   "source": [
    "import plotly.express as px\n",
    "Air_delay_df = pd.read_csv('/Users/teitelbaumsair/Desktop/DI_Bootcamp/W5/D3/EXERCISE XP/Airline_Delay_Cause.csv')\n",
    "\n",
    "\n",
    "# Sample data\n",
    "df = px.Air_delay_df()\n",
    "\n",
    "# Create a scatter plot\n",
    "fig = px.scatter(df, x=\"sepal_width\", y=\"sepal_length\", color=\"species\")\n",
    "\n",
    "# Show the plot\n",
    "fig.show()"
   ]
  },
  {
   "cell_type": "code",
   "execution_count": 32,
   "metadata": {},
   "outputs": [
    {
     "data": {
      "text/html": [
       "<div>\n",
       "<style scoped>\n",
       "    .dataframe tbody tr th:only-of-type {\n",
       "        vertical-align: middle;\n",
       "    }\n",
       "\n",
       "    .dataframe tbody tr th {\n",
       "        vertical-align: top;\n",
       "    }\n",
       "\n",
       "    .dataframe thead th {\n",
       "        text-align: right;\n",
       "    }\n",
       "</style>\n",
       "<table border=\"1\" class=\"dataframe\">\n",
       "  <thead>\n",
       "    <tr style=\"text-align: right;\">\n",
       "      <th></th>\n",
       "      <th>year</th>\n",
       "      <th>month</th>\n",
       "      <th>carrier</th>\n",
       "      <th>carrier_name</th>\n",
       "      <th>airport</th>\n",
       "      <th>airport_name</th>\n",
       "      <th>arr_flights</th>\n",
       "      <th>arr_del15</th>\n",
       "      <th>carrier_ct</th>\n",
       "      <th>weather_ct</th>\n",
       "      <th>...</th>\n",
       "      <th>security_ct</th>\n",
       "      <th>late_aircraft_ct</th>\n",
       "      <th>arr_cancelled</th>\n",
       "      <th>arr_diverted</th>\n",
       "      <th>arr_delay</th>\n",
       "      <th>carrier_delay</th>\n",
       "      <th>weather_delay</th>\n",
       "      <th>nas_delay</th>\n",
       "      <th>security_delay</th>\n",
       "      <th>late_aircraft_delay</th>\n",
       "    </tr>\n",
       "  </thead>\n",
       "  <tbody>\n",
       "    <tr>\n",
       "      <th>0</th>\n",
       "      <td>2024</td>\n",
       "      <td>8</td>\n",
       "      <td>9E</td>\n",
       "      <td>Endeavor Air Inc.</td>\n",
       "      <td>ABE</td>\n",
       "      <td>Allentown/Bethlehem/Easton, PA: Lehigh Valley ...</td>\n",
       "      <td>85.0</td>\n",
       "      <td>8.0</td>\n",
       "      <td>4.00</td>\n",
       "      <td>0.49</td>\n",
       "      <td>...</td>\n",
       "      <td>0.00</td>\n",
       "      <td>0.00</td>\n",
       "      <td>2.0</td>\n",
       "      <td>0.0</td>\n",
       "      <td>417.0</td>\n",
       "      <td>245.0</td>\n",
       "      <td>35.0</td>\n",
       "      <td>137.0</td>\n",
       "      <td>0.0</td>\n",
       "      <td>0.0</td>\n",
       "    </tr>\n",
       "    <tr>\n",
       "      <th>1</th>\n",
       "      <td>2024</td>\n",
       "      <td>8</td>\n",
       "      <td>9E</td>\n",
       "      <td>Endeavor Air Inc.</td>\n",
       "      <td>AEX</td>\n",
       "      <td>Alexandria, LA: Alexandria International</td>\n",
       "      <td>85.0</td>\n",
       "      <td>16.0</td>\n",
       "      <td>7.98</td>\n",
       "      <td>2.00</td>\n",
       "      <td>...</td>\n",
       "      <td>0.00</td>\n",
       "      <td>3.88</td>\n",
       "      <td>1.0</td>\n",
       "      <td>1.0</td>\n",
       "      <td>864.0</td>\n",
       "      <td>396.0</td>\n",
       "      <td>168.0</td>\n",
       "      <td>98.0</td>\n",
       "      <td>0.0</td>\n",
       "      <td>202.0</td>\n",
       "    </tr>\n",
       "    <tr>\n",
       "      <th>2</th>\n",
       "      <td>2024</td>\n",
       "      <td>8</td>\n",
       "      <td>9E</td>\n",
       "      <td>Endeavor Air Inc.</td>\n",
       "      <td>AGS</td>\n",
       "      <td>Augusta, GA: Augusta Regional at Bush Field</td>\n",
       "      <td>178.0</td>\n",
       "      <td>23.0</td>\n",
       "      <td>10.96</td>\n",
       "      <td>1.36</td>\n",
       "      <td>...</td>\n",
       "      <td>0.00</td>\n",
       "      <td>5.35</td>\n",
       "      <td>6.0</td>\n",
       "      <td>1.0</td>\n",
       "      <td>1219.0</td>\n",
       "      <td>592.0</td>\n",
       "      <td>40.0</td>\n",
       "      <td>169.0</td>\n",
       "      <td>0.0</td>\n",
       "      <td>418.0</td>\n",
       "    </tr>\n",
       "    <tr>\n",
       "      <th>3</th>\n",
       "      <td>2024</td>\n",
       "      <td>8</td>\n",
       "      <td>9E</td>\n",
       "      <td>Endeavor Air Inc.</td>\n",
       "      <td>ALB</td>\n",
       "      <td>Albany, NY: Albany International</td>\n",
       "      <td>82.0</td>\n",
       "      <td>18.0</td>\n",
       "      <td>7.06</td>\n",
       "      <td>0.00</td>\n",
       "      <td>...</td>\n",
       "      <td>0.00</td>\n",
       "      <td>6.85</td>\n",
       "      <td>5.0</td>\n",
       "      <td>0.0</td>\n",
       "      <td>988.0</td>\n",
       "      <td>416.0</td>\n",
       "      <td>0.0</td>\n",
       "      <td>172.0</td>\n",
       "      <td>0.0</td>\n",
       "      <td>400.0</td>\n",
       "    </tr>\n",
       "    <tr>\n",
       "      <th>4</th>\n",
       "      <td>2024</td>\n",
       "      <td>8</td>\n",
       "      <td>9E</td>\n",
       "      <td>Endeavor Air Inc.</td>\n",
       "      <td>ATL</td>\n",
       "      <td>Atlanta, GA: Hartsfield-Jackson Atlanta Intern...</td>\n",
       "      <td>1919.0</td>\n",
       "      <td>215.0</td>\n",
       "      <td>67.74</td>\n",
       "      <td>8.05</td>\n",
       "      <td>...</td>\n",
       "      <td>0.00</td>\n",
       "      <td>97.49</td>\n",
       "      <td>40.0</td>\n",
       "      <td>1.0</td>\n",
       "      <td>20110.0</td>\n",
       "      <td>9418.0</td>\n",
       "      <td>896.0</td>\n",
       "      <td>2047.0</td>\n",
       "      <td>0.0</td>\n",
       "      <td>7749.0</td>\n",
       "    </tr>\n",
       "    <tr>\n",
       "      <th>...</th>\n",
       "      <td>...</td>\n",
       "      <td>...</td>\n",
       "      <td>...</td>\n",
       "      <td>...</td>\n",
       "      <td>...</td>\n",
       "      <td>...</td>\n",
       "      <td>...</td>\n",
       "      <td>...</td>\n",
       "      <td>...</td>\n",
       "      <td>...</td>\n",
       "      <td>...</td>\n",
       "      <td>...</td>\n",
       "      <td>...</td>\n",
       "      <td>...</td>\n",
       "      <td>...</td>\n",
       "      <td>...</td>\n",
       "      <td>...</td>\n",
       "      <td>...</td>\n",
       "      <td>...</td>\n",
       "      <td>...</td>\n",
       "      <td>...</td>\n",
       "    </tr>\n",
       "    <tr>\n",
       "      <th>15055</th>\n",
       "      <td>2024</td>\n",
       "      <td>1</td>\n",
       "      <td>WN</td>\n",
       "      <td>Southwest Airlines</td>\n",
       "      <td>RDU</td>\n",
       "      <td>Raleigh/Durham, NC: Raleigh-Durham International</td>\n",
       "      <td>685.0</td>\n",
       "      <td>191.0</td>\n",
       "      <td>74.25</td>\n",
       "      <td>1.66</td>\n",
       "      <td>...</td>\n",
       "      <td>1.13</td>\n",
       "      <td>85.13</td>\n",
       "      <td>27.0</td>\n",
       "      <td>4.0</td>\n",
       "      <td>9326.0</td>\n",
       "      <td>3248.0</td>\n",
       "      <td>317.0</td>\n",
       "      <td>1012.0</td>\n",
       "      <td>37.0</td>\n",
       "      <td>4712.0</td>\n",
       "    </tr>\n",
       "    <tr>\n",
       "      <th>15056</th>\n",
       "      <td>2024</td>\n",
       "      <td>1</td>\n",
       "      <td>WN</td>\n",
       "      <td>Southwest Airlines</td>\n",
       "      <td>RIC</td>\n",
       "      <td>Richmond, VA: Richmond International</td>\n",
       "      <td>140.0</td>\n",
       "      <td>35.0</td>\n",
       "      <td>14.17</td>\n",
       "      <td>0.00</td>\n",
       "      <td>...</td>\n",
       "      <td>0.00</td>\n",
       "      <td>17.81</td>\n",
       "      <td>0.0</td>\n",
       "      <td>0.0</td>\n",
       "      <td>1384.0</td>\n",
       "      <td>578.0</td>\n",
       "      <td>0.0</td>\n",
       "      <td>107.0</td>\n",
       "      <td>0.0</td>\n",
       "      <td>699.0</td>\n",
       "    </tr>\n",
       "    <tr>\n",
       "      <th>15057</th>\n",
       "      <td>2024</td>\n",
       "      <td>1</td>\n",
       "      <td>WN</td>\n",
       "      <td>Southwest Airlines</td>\n",
       "      <td>RNO</td>\n",
       "      <td>Reno, NV: Reno/Tahoe International</td>\n",
       "      <td>705.0</td>\n",
       "      <td>134.0</td>\n",
       "      <td>39.02</td>\n",
       "      <td>0.52</td>\n",
       "      <td>...</td>\n",
       "      <td>0.08</td>\n",
       "      <td>80.49</td>\n",
       "      <td>12.0</td>\n",
       "      <td>7.0</td>\n",
       "      <td>6313.0</td>\n",
       "      <td>1464.0</td>\n",
       "      <td>75.0</td>\n",
       "      <td>1012.0</td>\n",
       "      <td>2.0</td>\n",
       "      <td>3760.0</td>\n",
       "    </tr>\n",
       "    <tr>\n",
       "      <th>15058</th>\n",
       "      <td>2024</td>\n",
       "      <td>1</td>\n",
       "      <td>WN</td>\n",
       "      <td>Southwest Airlines</td>\n",
       "      <td>ROC</td>\n",
       "      <td>Rochester, NY: Frederick Douglass Grtr Rochest...</td>\n",
       "      <td>170.0</td>\n",
       "      <td>51.0</td>\n",
       "      <td>23.59</td>\n",
       "      <td>1.11</td>\n",
       "      <td>...</td>\n",
       "      <td>1.00</td>\n",
       "      <td>19.85</td>\n",
       "      <td>4.0</td>\n",
       "      <td>1.0</td>\n",
       "      <td>2520.0</td>\n",
       "      <td>1121.0</td>\n",
       "      <td>130.0</td>\n",
       "      <td>233.0</td>\n",
       "      <td>37.0</td>\n",
       "      <td>999.0</td>\n",
       "    </tr>\n",
       "    <tr>\n",
       "      <th>15059</th>\n",
       "      <td>2024</td>\n",
       "      <td>1</td>\n",
       "      <td>WN</td>\n",
       "      <td>Southwest Airlines</td>\n",
       "      <td>RSW</td>\n",
       "      <td>Fort Myers, FL: Southwest Florida International</td>\n",
       "      <td>700.0</td>\n",
       "      <td>227.0</td>\n",
       "      <td>58.92</td>\n",
       "      <td>1.76</td>\n",
       "      <td>...</td>\n",
       "      <td>0.00</td>\n",
       "      <td>85.15</td>\n",
       "      <td>17.0</td>\n",
       "      <td>1.0</td>\n",
       "      <td>12562.0</td>\n",
       "      <td>3962.0</td>\n",
       "      <td>149.0</td>\n",
       "      <td>3151.0</td>\n",
       "      <td>0.0</td>\n",
       "      <td>5300.0</td>\n",
       "    </tr>\n",
       "  </tbody>\n",
       "</table>\n",
       "<p>15060 rows × 21 columns</p>\n",
       "</div>"
      ],
      "text/plain": [
       "       year  month carrier        carrier_name airport  \\\n",
       "0      2024      8      9E   Endeavor Air Inc.     ABE   \n",
       "1      2024      8      9E   Endeavor Air Inc.     AEX   \n",
       "2      2024      8      9E   Endeavor Air Inc.     AGS   \n",
       "3      2024      8      9E   Endeavor Air Inc.     ALB   \n",
       "4      2024      8      9E   Endeavor Air Inc.     ATL   \n",
       "...     ...    ...     ...                 ...     ...   \n",
       "15055  2024      1      WN  Southwest Airlines     RDU   \n",
       "15056  2024      1      WN  Southwest Airlines     RIC   \n",
       "15057  2024      1      WN  Southwest Airlines     RNO   \n",
       "15058  2024      1      WN  Southwest Airlines     ROC   \n",
       "15059  2024      1      WN  Southwest Airlines     RSW   \n",
       "\n",
       "                                            airport_name  arr_flights  \\\n",
       "0      Allentown/Bethlehem/Easton, PA: Lehigh Valley ...         85.0   \n",
       "1               Alexandria, LA: Alexandria International         85.0   \n",
       "2            Augusta, GA: Augusta Regional at Bush Field        178.0   \n",
       "3                       Albany, NY: Albany International         82.0   \n",
       "4      Atlanta, GA: Hartsfield-Jackson Atlanta Intern...       1919.0   \n",
       "...                                                  ...          ...   \n",
       "15055   Raleigh/Durham, NC: Raleigh-Durham International        685.0   \n",
       "15056               Richmond, VA: Richmond International        140.0   \n",
       "15057                 Reno, NV: Reno/Tahoe International        705.0   \n",
       "15058  Rochester, NY: Frederick Douglass Grtr Rochest...        170.0   \n",
       "15059    Fort Myers, FL: Southwest Florida International        700.0   \n",
       "\n",
       "       arr_del15  carrier_ct  weather_ct  ...  security_ct  late_aircraft_ct  \\\n",
       "0            8.0        4.00        0.49  ...         0.00              0.00   \n",
       "1           16.0        7.98        2.00  ...         0.00              3.88   \n",
       "2           23.0       10.96        1.36  ...         0.00              5.35   \n",
       "3           18.0        7.06        0.00  ...         0.00              6.85   \n",
       "4          215.0       67.74        8.05  ...         0.00             97.49   \n",
       "...          ...         ...         ...  ...          ...               ...   \n",
       "15055      191.0       74.25        1.66  ...         1.13             85.13   \n",
       "15056       35.0       14.17        0.00  ...         0.00             17.81   \n",
       "15057      134.0       39.02        0.52  ...         0.08             80.49   \n",
       "15058       51.0       23.59        1.11  ...         1.00             19.85   \n",
       "15059      227.0       58.92        1.76  ...         0.00             85.15   \n",
       "\n",
       "       arr_cancelled  arr_diverted  arr_delay  carrier_delay  weather_delay  \\\n",
       "0                2.0           0.0      417.0          245.0           35.0   \n",
       "1                1.0           1.0      864.0          396.0          168.0   \n",
       "2                6.0           1.0     1219.0          592.0           40.0   \n",
       "3                5.0           0.0      988.0          416.0            0.0   \n",
       "4               40.0           1.0    20110.0         9418.0          896.0   \n",
       "...              ...           ...        ...            ...            ...   \n",
       "15055           27.0           4.0     9326.0         3248.0          317.0   \n",
       "15056            0.0           0.0     1384.0          578.0            0.0   \n",
       "15057           12.0           7.0     6313.0         1464.0           75.0   \n",
       "15058            4.0           1.0     2520.0         1121.0          130.0   \n",
       "15059           17.0           1.0    12562.0         3962.0          149.0   \n",
       "\n",
       "       nas_delay  security_delay  late_aircraft_delay  \n",
       "0          137.0             0.0                  0.0  \n",
       "1           98.0             0.0                202.0  \n",
       "2          169.0             0.0                418.0  \n",
       "3          172.0             0.0                400.0  \n",
       "4         2047.0             0.0               7749.0  \n",
       "...          ...             ...                  ...  \n",
       "15055     1012.0            37.0               4712.0  \n",
       "15056      107.0             0.0                699.0  \n",
       "15057     1012.0             2.0               3760.0  \n",
       "15058      233.0            37.0                999.0  \n",
       "15059     3151.0             0.0               5300.0  \n",
       "\n",
       "[15060 rows x 21 columns]"
      ]
     },
     "execution_count": 32,
     "metadata": {},
     "output_type": "execute_result"
    }
   ],
   "source": [
    "Air_delay_df"
   ]
  }
 ],
 "metadata": {
  "kernelspec": {
   "display_name": "Python 3",
   "language": "python",
   "name": "python3"
  },
  "language_info": {
   "codemirror_mode": {
    "name": "ipython",
    "version": 3
   },
   "file_extension": ".py",
   "mimetype": "text/x-python",
   "name": "python",
   "nbconvert_exporter": "python",
   "pygments_lexer": "ipython3",
   "version": "3.12.6"
  }
 },
 "nbformat": 4,
 "nbformat_minor": 2
}

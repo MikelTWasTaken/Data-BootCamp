{
 "cells": [
  {
   "cell_type": "markdown",
   "metadata": {},
   "source": [
    "# Tasks\n",
    "\n",
    "## Data Import and Cleaning\n",
    "- **Import the dataset** using Pandas.\n",
    "- **Clean and preprocess the data**, addressing missing values and categorizing data as needed.\n",
    "- Convert **dates** and other relevant fields to appropriate formats.\n",
    "\n",
    "---\n",
    "\n",
    "## Exploratory Data Analysis\n",
    "- Use Pandas to explore basic statistics such as:\n",
    "  - Number of crashes\n",
    "  - Fatalities\n",
    "  - Survival rates\n",
    "- Analyze the **frequency of crashes over time** to identify trends.\n",
    "\n",
    "---\n",
    "\n",
    "## Statistical Analysis\n",
    "- Use SciPy to analyze:\n",
    "  - Distribution of fatalities and survival rates.\n",
    "  - Key statistics: **mean**, **median**, and **standard deviation**.\n",
    "- Conduct a **hypothesis test**, e.g., comparing:\n",
    "  - The average number of fatalities across different decades or regions.\n",
    "\n",
    "---\n",
    "\n",
    "## Visualization\n",
    "- Create visualizations using Matplotlib and Seaborn:\n",
    "  - Time series plots of crashes over years.\n",
    "  - Bar charts of crashes by region.\n",
    "  - Histograms of fatalities.\n",
    "\n",
    "---\n",
    "\n",
    "## Insight and Report\n",
    "- Summarize findings and provide insights into patterns or anomalies discovered in the data.\n",
    "- Prepare a **well-structured report** including:\n",
    "  - Code\n",
    "  - Visualizations\n",
    "  - Interpretations"
   ]
  },
  {
   "cell_type": "code",
   "execution_count": 30,
   "metadata": {},
   "outputs": [
    {
     "data": {
      "text/html": [
       "<div>\n",
       "<style scoped>\n",
       "    .dataframe tbody tr th:only-of-type {\n",
       "        vertical-align: middle;\n",
       "    }\n",
       "\n",
       "    .dataframe tbody tr th {\n",
       "        vertical-align: top;\n",
       "    }\n",
       "\n",
       "    .dataframe thead th {\n",
       "        text-align: right;\n",
       "    }\n",
       "</style>\n",
       "<table border=\"1\" class=\"dataframe\">\n",
       "  <thead>\n",
       "    <tr style=\"text-align: right;\">\n",
       "      <th></th>\n",
       "      <th>Date</th>\n",
       "      <th>Time</th>\n",
       "      <th>Location</th>\n",
       "      <th>Operator</th>\n",
       "      <th>Flight #</th>\n",
       "      <th>Route</th>\n",
       "      <th>AC Type</th>\n",
       "      <th>Registration</th>\n",
       "      <th>cn/ln</th>\n",
       "      <th>Aboard</th>\n",
       "      <th>Aboard Passangers</th>\n",
       "      <th>Aboard Crew</th>\n",
       "      <th>Fatalities</th>\n",
       "      <th>Fatalities Passangers</th>\n",
       "      <th>Fatalities Crew</th>\n",
       "      <th>Ground</th>\n",
       "      <th>Summary</th>\n",
       "    </tr>\n",
       "  </thead>\n",
       "  <tbody>\n",
       "    <tr>\n",
       "      <th>0</th>\n",
       "      <td>9/17/1908</td>\n",
       "      <td>17:18</td>\n",
       "      <td>Fort Myer, Virginia</td>\n",
       "      <td>Military - U.S. Army</td>\n",
       "      <td>NaN</td>\n",
       "      <td>Demonstration</td>\n",
       "      <td>Wright Flyer III</td>\n",
       "      <td>NaN</td>\n",
       "      <td>1</td>\n",
       "      <td>2.0</td>\n",
       "      <td>1.0</td>\n",
       "      <td>1.0</td>\n",
       "      <td>1.0</td>\n",
       "      <td>1.0</td>\n",
       "      <td>0.0</td>\n",
       "      <td>0.0</td>\n",
       "      <td>During a demonstration flight, a U.S. Army fly...</td>\n",
       "    </tr>\n",
       "    <tr>\n",
       "      <th>1</th>\n",
       "      <td>09/07/1909</td>\n",
       "      <td>NaN</td>\n",
       "      <td>Juvisy-sur-Orge, France</td>\n",
       "      <td>NaN</td>\n",
       "      <td>NaN</td>\n",
       "      <td>Air show</td>\n",
       "      <td>Wright Byplane</td>\n",
       "      <td>SC1</td>\n",
       "      <td>NaN</td>\n",
       "      <td>1.0</td>\n",
       "      <td>0.0</td>\n",
       "      <td>1.0</td>\n",
       "      <td>1.0</td>\n",
       "      <td>0.0</td>\n",
       "      <td>0.0</td>\n",
       "      <td>0.0</td>\n",
       "      <td>Eugene Lefebvre was the first pilot to ever be...</td>\n",
       "    </tr>\n",
       "    <tr>\n",
       "      <th>2</th>\n",
       "      <td>07/12/1912</td>\n",
       "      <td>06:30</td>\n",
       "      <td>Atlantic City, New Jersey</td>\n",
       "      <td>Military - U.S. Navy</td>\n",
       "      <td>NaN</td>\n",
       "      <td>Test flight</td>\n",
       "      <td>Dirigible</td>\n",
       "      <td>NaN</td>\n",
       "      <td>NaN</td>\n",
       "      <td>5.0</td>\n",
       "      <td>0.0</td>\n",
       "      <td>5.0</td>\n",
       "      <td>5.0</td>\n",
       "      <td>0.0</td>\n",
       "      <td>5.0</td>\n",
       "      <td>0.0</td>\n",
       "      <td>First U.S. dirigible Akron exploded just offsh...</td>\n",
       "    </tr>\n",
       "    <tr>\n",
       "      <th>3</th>\n",
       "      <td>08/06/1913</td>\n",
       "      <td>NaN</td>\n",
       "      <td>Victoria, British Columbia, Canada</td>\n",
       "      <td>Private</td>\n",
       "      <td>NaN</td>\n",
       "      <td>NaN</td>\n",
       "      <td>Curtiss seaplane</td>\n",
       "      <td>NaN</td>\n",
       "      <td>NaN</td>\n",
       "      <td>1.0</td>\n",
       "      <td>0.0</td>\n",
       "      <td>1.0</td>\n",
       "      <td>1.0</td>\n",
       "      <td>0.0</td>\n",
       "      <td>1.0</td>\n",
       "      <td>0.0</td>\n",
       "      <td>The first fatal airplane accident in Canada oc...</td>\n",
       "    </tr>\n",
       "    <tr>\n",
       "      <th>4</th>\n",
       "      <td>09/09/1913</td>\n",
       "      <td>18:30</td>\n",
       "      <td>Over the North Sea</td>\n",
       "      <td>Military - German Navy</td>\n",
       "      <td>NaN</td>\n",
       "      <td>NaN</td>\n",
       "      <td>Zeppelin L-1 (airship)</td>\n",
       "      <td>NaN</td>\n",
       "      <td>NaN</td>\n",
       "      <td>20.0</td>\n",
       "      <td>NaN</td>\n",
       "      <td>NaN</td>\n",
       "      <td>14.0</td>\n",
       "      <td>NaN</td>\n",
       "      <td>NaN</td>\n",
       "      <td>0.0</td>\n",
       "      <td>The airship flew into a thunderstorm and encou...</td>\n",
       "    </tr>\n",
       "    <tr>\n",
       "      <th>...</th>\n",
       "      <td>...</td>\n",
       "      <td>...</td>\n",
       "      <td>...</td>\n",
       "      <td>...</td>\n",
       "      <td>...</td>\n",
       "      <td>...</td>\n",
       "      <td>...</td>\n",
       "      <td>...</td>\n",
       "      <td>...</td>\n",
       "      <td>...</td>\n",
       "      <td>...</td>\n",
       "      <td>...</td>\n",
       "      <td>...</td>\n",
       "      <td>...</td>\n",
       "      <td>...</td>\n",
       "      <td>...</td>\n",
       "      <td>...</td>\n",
       "    </tr>\n",
       "    <tr>\n",
       "      <th>4993</th>\n",
       "      <td>11/21/2022</td>\n",
       "      <td>10:15</td>\n",
       "      <td>MedellÌn, Colombia</td>\n",
       "      <td>AeroPaca SAS</td>\n",
       "      <td>NaN</td>\n",
       "      <td>MedellÌn - Pizarro</td>\n",
       "      <td>Piper PA-31-350 Navajo Chieftain</td>\n",
       "      <td>HK-5121</td>\n",
       "      <td>31-7652004</td>\n",
       "      <td>8.0</td>\n",
       "      <td>6.0</td>\n",
       "      <td>2.0</td>\n",
       "      <td>8.0</td>\n",
       "      <td>6.0</td>\n",
       "      <td>2.0</td>\n",
       "      <td>0.0</td>\n",
       "      <td>The plane was chartered to carry a team of six...</td>\n",
       "    </tr>\n",
       "    <tr>\n",
       "      <th>4994</th>\n",
       "      <td>1/15/2023</td>\n",
       "      <td>10:50</td>\n",
       "      <td>Pokhara, Nepal</td>\n",
       "      <td>Yeti Airlines</td>\n",
       "      <td>YT691</td>\n",
       "      <td>Kathmandu - Pokhara</td>\n",
       "      <td>ATR 72-500-72-212-A</td>\n",
       "      <td>9NANC</td>\n",
       "      <td>754</td>\n",
       "      <td>72.0</td>\n",
       "      <td>68.0</td>\n",
       "      <td>4.0</td>\n",
       "      <td>72.0</td>\n",
       "      <td>68.0</td>\n",
       "      <td>4.0</td>\n",
       "      <td>0.0</td>\n",
       "      <td>Before approach, the pilot requested a change ...</td>\n",
       "    </tr>\n",
       "    <tr>\n",
       "      <th>4995</th>\n",
       "      <td>9/16/2023</td>\n",
       "      <td>NaN</td>\n",
       "      <td>Barcelos, Brazil</td>\n",
       "      <td>Manaus Aerotaxi</td>\n",
       "      <td>NaN</td>\n",
       "      <td>NaN</td>\n",
       "      <td>Embraer EMB-110P1 Bandeirante</td>\n",
       "      <td>PT-SOG</td>\n",
       "      <td>110490</td>\n",
       "      <td>14.0</td>\n",
       "      <td>12.0</td>\n",
       "      <td>2.0</td>\n",
       "      <td>14.0</td>\n",
       "      <td>12.0</td>\n",
       "      <td>2.0</td>\n",
       "      <td>0.0</td>\n",
       "      <td>The air taxi crashed in heavy rain while attem...</td>\n",
       "    </tr>\n",
       "    <tr>\n",
       "      <th>4996</th>\n",
       "      <td>10/29/2023</td>\n",
       "      <td>06:30</td>\n",
       "      <td>Rio Branco, Brazil</td>\n",
       "      <td>ART Taxi Aero</td>\n",
       "      <td>NaN</td>\n",
       "      <td>Rio Branco - Envira</td>\n",
       "      <td>Cessna 208B Grand Caravan</td>\n",
       "      <td>PT-MEE</td>\n",
       "      <td>208B0344</td>\n",
       "      <td>12.0</td>\n",
       "      <td>10.0</td>\n",
       "      <td>2.0</td>\n",
       "      <td>12.0</td>\n",
       "      <td>10.0</td>\n",
       "      <td>2.0</td>\n",
       "      <td>0.0</td>\n",
       "      <td>The air taxi crashed into a heavy wooded area ...</td>\n",
       "    </tr>\n",
       "    <tr>\n",
       "      <th>4997</th>\n",
       "      <td>11/01/2023</td>\n",
       "      <td>14:15</td>\n",
       "      <td>Morelos,  Mexico</td>\n",
       "      <td>Jet Rescue Air Ambulance</td>\n",
       "      <td>NaN</td>\n",
       "      <td>Toluca - Cuernavaca Airport</td>\n",
       "      <td>\\tLearjet 35A</td>\n",
       "      <td>XA-IRE</td>\n",
       "      <td>35A-354</td>\n",
       "      <td>4.0</td>\n",
       "      <td>2.0</td>\n",
       "      <td>2.0</td>\n",
       "      <td>4.0</td>\n",
       "      <td>2.0</td>\n",
       "      <td>2.0</td>\n",
       "      <td>0.0</td>\n",
       "      <td>A business jet operating as an air ambulance, ...</td>\n",
       "    </tr>\n",
       "  </tbody>\n",
       "</table>\n",
       "<p>4998 rows × 17 columns</p>\n",
       "</div>"
      ],
      "text/plain": [
       "            Date   Time                            Location  \\\n",
       "0      9/17/1908  17:18                 Fort Myer, Virginia   \n",
       "1     09/07/1909    NaN             Juvisy-sur-Orge, France   \n",
       "2     07/12/1912  06:30           Atlantic City, New Jersey   \n",
       "3     08/06/1913    NaN  Victoria, British Columbia, Canada   \n",
       "4     09/09/1913  18:30                  Over the North Sea   \n",
       "...          ...    ...                                 ...   \n",
       "4993  11/21/2022  10:15                  MedellÌn, Colombia   \n",
       "4994   1/15/2023  10:50                      Pokhara, Nepal   \n",
       "4995   9/16/2023    NaN                    Barcelos, Brazil   \n",
       "4996  10/29/2023  06:30                  Rio Branco, Brazil   \n",
       "4997  11/01/2023  14:15                    Morelos,  Mexico   \n",
       "\n",
       "                      Operator Flight #                        Route  \\\n",
       "0         Military - U.S. Army      NaN                Demonstration   \n",
       "1                          NaN      NaN                     Air show   \n",
       "2         Military - U.S. Navy      NaN                  Test flight   \n",
       "3                      Private      NaN                          NaN   \n",
       "4       Military - German Navy      NaN                          NaN   \n",
       "...                        ...      ...                          ...   \n",
       "4993              AeroPaca SAS      NaN           MedellÌn - Pizarro   \n",
       "4994             Yeti Airlines    YT691          Kathmandu - Pokhara   \n",
       "4995           Manaus Aerotaxi      NaN                          NaN   \n",
       "4996             ART Taxi Aero      NaN          Rio Branco - Envira   \n",
       "4997  Jet Rescue Air Ambulance      NaN  Toluca - Cuernavaca Airport   \n",
       "\n",
       "                               AC Type Registration       cn/ln  Aboard  \\\n",
       "0                     Wright Flyer III          NaN           1     2.0   \n",
       "1                       Wright Byplane          SC1         NaN     1.0   \n",
       "2                            Dirigible          NaN         NaN     5.0   \n",
       "3                     Curtiss seaplane          NaN         NaN     1.0   \n",
       "4               Zeppelin L-1 (airship)          NaN         NaN    20.0   \n",
       "...                                ...          ...         ...     ...   \n",
       "4993  Piper PA-31-350 Navajo Chieftain     HK-5121   31-7652004     8.0   \n",
       "4994               ATR 72-500-72-212-A       9NANC          754    72.0   \n",
       "4995     Embraer EMB-110P1 Bandeirante      PT-SOG       110490    14.0   \n",
       "4996         Cessna 208B Grand Caravan      PT-MEE     208B0344    12.0   \n",
       "4997                     \\tLearjet 35A       XA-IRE     35A-354     4.0   \n",
       "\n",
       "      Aboard Passangers  Aboard Crew  Fatalities  Fatalities Passangers  \\\n",
       "0                   1.0          1.0         1.0                    1.0   \n",
       "1                   0.0          1.0         1.0                    0.0   \n",
       "2                   0.0          5.0         5.0                    0.0   \n",
       "3                   0.0          1.0         1.0                    0.0   \n",
       "4                   NaN          NaN        14.0                    NaN   \n",
       "...                 ...          ...         ...                    ...   \n",
       "4993                6.0          2.0         8.0                    6.0   \n",
       "4994               68.0          4.0        72.0                   68.0   \n",
       "4995               12.0          2.0        14.0                   12.0   \n",
       "4996               10.0          2.0        12.0                   10.0   \n",
       "4997                2.0          2.0         4.0                    2.0   \n",
       "\n",
       "      Fatalities Crew  Ground  \\\n",
       "0                 0.0     0.0   \n",
       "1                 0.0     0.0   \n",
       "2                 5.0     0.0   \n",
       "3                 1.0     0.0   \n",
       "4                 NaN     0.0   \n",
       "...               ...     ...   \n",
       "4993              2.0     0.0   \n",
       "4994              4.0     0.0   \n",
       "4995              2.0     0.0   \n",
       "4996              2.0     0.0   \n",
       "4997              2.0     0.0   \n",
       "\n",
       "                                                Summary  \n",
       "0     During a demonstration flight, a U.S. Army fly...  \n",
       "1     Eugene Lefebvre was the first pilot to ever be...  \n",
       "2     First U.S. dirigible Akron exploded just offsh...  \n",
       "3     The first fatal airplane accident in Canada oc...  \n",
       "4     The airship flew into a thunderstorm and encou...  \n",
       "...                                                 ...  \n",
       "4993  The plane was chartered to carry a team of six...  \n",
       "4994  Before approach, the pilot requested a change ...  \n",
       "4995  The air taxi crashed in heavy rain while attem...  \n",
       "4996  The air taxi crashed into a heavy wooded area ...  \n",
       "4997  A business jet operating as an air ambulance, ...  \n",
       "\n",
       "[4998 rows x 17 columns]"
      ]
     },
     "execution_count": 30,
     "metadata": {},
     "output_type": "execute_result"
    }
   ],
   "source": [
    "import pandas as pd\n",
    "import numpy as np\n",
    "import matplotlib.pyplot as plt\n",
    "import seaborn as sns\n",
    "import scipy.stats as stats\n",
    "from scipy.stats import skew, kurtosis\n",
    "from scipy.stats import ttest_ind, ttest_rel\n",
    "\n",
    "df = pd.read_csv('/Users/teitelbaumsair/Desktop/DI_Bootcamp/W6/D3/DAILY CHALLENGE/Airplane_Crashes_and_Fatalities.csv')\n",
    "df"
   ]
  },
  {
   "cell_type": "code",
   "execution_count": 39,
   "metadata": {},
   "outputs": [
    {
     "name": "stdout",
     "output_type": "stream",
     "text": [
      "Total number of Crashes: 4957\n"
     ]
    }
   ],
   "source": [
    "total_rows = df.shape[0]\n",
    "print(\"Total number of Crashes:\", total_rows)\n",
    "#Total crashes before cleaning data."
   ]
  },
  {
   "cell_type": "code",
   "execution_count": 24,
   "metadata": {},
   "outputs": [
    {
     "name": "stdout",
     "output_type": "stream",
     "text": [
      "<class 'pandas.core.frame.DataFrame'>\n",
      "RangeIndex: 4998 entries, 0 to 4997\n",
      "Data columns (total 17 columns):\n",
      " #   Column                 Non-Null Count  Dtype  \n",
      "---  ------                 --------------  -----  \n",
      " 0   Date                   4998 non-null   object \n",
      " 1   Time                   3486 non-null   object \n",
      " 2   Location               4994 non-null   object \n",
      " 3   Operator               4988 non-null   object \n",
      " 4   Flight #               1329 non-null   object \n",
      " 5   Route                  4221 non-null   object \n",
      " 6   AC Type                4983 non-null   object \n",
      " 7   Registration           4724 non-null   object \n",
      " 8   cn/ln                  4330 non-null   object \n",
      " 9   Aboard                 4980 non-null   float64\n",
      " 10  Aboard Passangers      4769 non-null   float64\n",
      " 11  Aboard Crew            4772 non-null   float64\n",
      " 12  Fatalities             4990 non-null   float64\n",
      " 13  Fatalities Passangers  4756 non-null   float64\n",
      " 14  Fatalities Crew        4757 non-null   float64\n",
      " 15  Ground                 4956 non-null   float64\n",
      " 16  Summary                4934 non-null   object \n",
      "dtypes: float64(7), object(10)\n",
      "memory usage: 663.9+ KB\n"
     ]
    }
   ],
   "source": [
    "df.info()"
   ]
  },
  {
   "cell_type": "code",
   "execution_count": 25,
   "metadata": {},
   "outputs": [
    {
     "data": {
      "text/plain": [
       "Date                        0\n",
       "Time                     1512\n",
       "Location                    4\n",
       "Operator                   10\n",
       "Flight #                 3669\n",
       "Route                     777\n",
       "AC Type                    15\n",
       "Registration              274\n",
       "cn/ln                     668\n",
       "Aboard                     18\n",
       "Aboard Passangers         229\n",
       "Aboard Crew               226\n",
       "Fatalities                  8\n",
       "Fatalities Passangers     242\n",
       "Fatalities Crew           241\n",
       "Ground                     42\n",
       "Summary                    64\n",
       "dtype: int64"
      ]
     },
     "execution_count": 25,
     "metadata": {},
     "output_type": "execute_result"
    }
   ],
   "source": [
    "df.isna().sum() # to check null values"
   ]
  },
  {
   "cell_type": "code",
   "execution_count": 31,
   "metadata": {},
   "outputs": [],
   "source": [
    "#drop rows where operator is null\n",
    "df.dropna(subset=['Operator'], axis=0, inplace=True)\n",
    "df.dropna(subset=['AC Type'], axis=0, inplace=True)\n",
    "df.dropna(subset=['Fatalities'], axis=0, inplace=True)\n",
    "df.dropna(subset=['Aboard'], axis=0, inplace=True)\n",
    "df.dropna(subset=['Location'], axis=0, inplace=True)\n",
    "\n",
    "\n",
    "df.drop(['Flight #'], axis=1, inplace=True)\n",
    "df.drop(['cn/ln'], axis=1, inplace=True)\n",
    "df.drop(['Route'], axis=1, inplace=True)\n",
    "df.drop(['Registration'], axis=1, inplace=True)\n",
    "df.drop(['Time'], axis=1, inplace=True)\n",
    "df.drop(['Ground'], axis=1, inplace=True)\n",
    "\n",
    "\n"
   ]
  },
  {
   "cell_type": "markdown",
   "metadata": {},
   "source": [
    "Before doing a fill na with the mean, plot a box plot or histagram to show the kewness of the data. Then decide which characeristic to impute with. "
   ]
  },
  {
   "cell_type": "code",
   "execution_count": 36,
   "metadata": {},
   "outputs": [],
   "source": [
    "import warnings\n",
    "warnings.filterwarnings('ignore')\n",
    "\n",
    "df['Aboard Passangers'].fillna(df['Aboard Passangers'].mean(), inplace=True)\n",
    "df['Aboard Crew'].fillna(df['Aboard Crew'].mean(), inplace=True)\n",
    "df['Fatalities'].fillna(df['Fatalities'].mean(), inplace=True)\n",
    "df['Fatalities Crew'].fillna(df['Fatalities Crew'].mean(), inplace=True)\n",
    "df['Fatalities Passangers'].fillna(df['Fatalities Passangers'].mean(), inplace=True)\n"
   ]
  },
  {
   "cell_type": "code",
   "execution_count": 38,
   "metadata": {},
   "outputs": [
    {
     "data": {
      "text/plain": [
       "Date                      0\n",
       "Location                  0\n",
       "Operator                  0\n",
       "AC Type                   0\n",
       "Aboard                    0\n",
       "Aboard Passangers         0\n",
       "Aboard Crew               0\n",
       "Fatalities                0\n",
       "Fatalities Passangers     0\n",
       "Fatalities Crew           0\n",
       "Summary                  53\n",
       "Flight Type               0\n",
       "dtype: int64"
      ]
     },
     "execution_count": 38,
     "metadata": {},
     "output_type": "execute_result"
    }
   ],
   "source": [
    "df.isnull().sum() #to check null values"
   ]
  },
  {
   "cell_type": "code",
   "execution_count": 37,
   "metadata": {},
   "outputs": [
    {
     "name": "stdout",
     "output_type": "stream",
     "text": [
      "            Date                            Location  \\\n",
      "0      9/17/1908                 Fort Myer, Virginia   \n",
      "2     07/12/1912           Atlantic City, New Jersey   \n",
      "3     08/06/1913  Victoria, British Columbia, Canada   \n",
      "4     09/09/1913                  Over the North Sea   \n",
      "5     10/17/1913          Near Johannisthal, Germany   \n",
      "...          ...                                 ...   \n",
      "4993  11/21/2022                  MedellÌn, Colombia   \n",
      "4994   1/15/2023                      Pokhara, Nepal   \n",
      "4995   9/16/2023                    Barcelos, Brazil   \n",
      "4996  10/29/2023                  Rio Branco, Brazil   \n",
      "4997  11/01/2023                    Morelos,  Mexico   \n",
      "\n",
      "                      Operator                           AC Type  Aboard  \\\n",
      "0         Military - U.S. Army                  Wright Flyer III     2.0   \n",
      "2         Military - U.S. Navy                         Dirigible     5.0   \n",
      "3                      Private                  Curtiss seaplane     1.0   \n",
      "4       Military - German Navy            Zeppelin L-1 (airship)    20.0   \n",
      "5       Military - German Navy            Zeppelin L-2 (airship)    30.0   \n",
      "...                        ...                               ...     ...   \n",
      "4993              AeroPaca SAS  Piper PA-31-350 Navajo Chieftain     8.0   \n",
      "4994             Yeti Airlines               ATR 72-500-72-212-A    72.0   \n",
      "4995           Manaus Aerotaxi     Embraer EMB-110P1 Bandeirante    14.0   \n",
      "4996             ART Taxi Aero         Cessna 208B Grand Caravan    12.0   \n",
      "4997  Jet Rescue Air Ambulance                     \\tLearjet 35A     4.0   \n",
      "\n",
      "      Aboard Passangers  Aboard Crew  Fatalities  Fatalities Passangers  \\\n",
      "0              1.000000     1.000000         1.0               1.000000   \n",
      "2              0.000000     5.000000         5.0               0.000000   \n",
      "3              0.000000     1.000000         1.0               0.000000   \n",
      "4             27.078023     4.483396        14.0              19.111627   \n",
      "5             27.078023     4.483396        30.0              19.111627   \n",
      "...                 ...          ...         ...                    ...   \n",
      "4993           6.000000     2.000000         8.0               6.000000   \n",
      "4994          68.000000     4.000000        72.0              68.000000   \n",
      "4995          12.000000     2.000000        14.0              12.000000   \n",
      "4996          10.000000     2.000000        12.0              10.000000   \n",
      "4997           2.000000     2.000000         4.0               2.000000   \n",
      "\n",
      "      Fatalities Crew                                            Summary  \\\n",
      "0            0.000000  During a demonstration flight, a U.S. Army fly...   \n",
      "2            5.000000  First U.S. dirigible Akron exploded just offsh...   \n",
      "3            1.000000  The first fatal airplane accident in Canada oc...   \n",
      "4            3.582156  The airship flew into a thunderstorm and encou...   \n",
      "5            3.582156  Hydrogen gas which was being vented was sucked...   \n",
      "...               ...                                                ...   \n",
      "4993         2.000000  The plane was chartered to carry a team of six...   \n",
      "4994         4.000000  Before approach, the pilot requested a change ...   \n",
      "4995         2.000000  The air taxi crashed in heavy rain while attem...   \n",
      "4996         2.000000  The air taxi crashed into a heavy wooded area ...   \n",
      "4997         2.000000  A business jet operating as an air ambulance, ...   \n",
      "\n",
      "     Flight Type  \n",
      "0       Military  \n",
      "2       Military  \n",
      "3          Cargo  \n",
      "4       Military  \n",
      "5       Military  \n",
      "...          ...  \n",
      "4993       Cargo  \n",
      "4994  Commercial  \n",
      "4995       Cargo  \n",
      "4996       Cargo  \n",
      "4997       Cargo  \n",
      "\n",
      "[4957 rows x 12 columns]\n"
     ]
    }
   ],
   "source": [
    "# Function to classify flight type\n",
    "def classify_flight_type(operator):\n",
    "    if any(military_term in operator for military_term in ['Military', 'Air Force', 'Navy', 'Army']):\n",
    "        return 'Military'\n",
    "    elif any(commercial_term in operator for commercial_term in ['Airlines', 'Air Service', 'Transport']):\n",
    "        return 'Commercial'\n",
    "    else:\n",
    "        return 'Cargo'\n",
    "\n",
    "# Apply the function to the 'Operator' column and create a new 'Flight Type' column\n",
    "df['Flight Type'] = df['Operator'].apply(classify_flight_type)\n",
    "\n",
    "print(df)"
   ]
  },
  {
   "cell_type": "markdown",
   "metadata": {},
   "source": [
    "\n",
    "- Use Pandas to explore basic statistics such as:\n",
    "  - Number of crashes\n",
    "  - Fatalities\n",
    "  - Survival rates\n",
    "- Analyze the **frequency of crashes over time** to identify trends."
   ]
  },
  {
   "cell_type": "code",
   "execution_count": 41,
   "metadata": {},
   "outputs": [
    {
     "name": "stdout",
     "output_type": "stream",
     "text": [
      "Total number of Crashes: 4957\n"
     ]
    }
   ],
   "source": [
    "import pandas as pd\n",
    "import numpy as np\n",
    "\n",
    "total_rows = df.shape[0]\n",
    "print(\"Total number of Crashes:\", total_rows)"
   ]
  },
  {
   "cell_type": "code",
   "execution_count": 55,
   "metadata": {},
   "outputs": [
    {
     "data": {
      "text/plain": [
       "np.float64(155109.0)"
      ]
     },
     "execution_count": 55,
     "metadata": {},
     "output_type": "execute_result"
    }
   ],
   "source": [
    "df[\"Aboard\"].sum()"
   ]
  },
  {
   "cell_type": "code",
   "execution_count": 44,
   "metadata": {},
   "outputs": [
    {
     "data": {
      "text/plain": [
       "np.float64(111327.0)"
      ]
     },
     "execution_count": 44,
     "metadata": {},
     "output_type": "execute_result"
    }
   ],
   "source": [
    "df[\"Fatalities\"].sum()"
   ]
  },
  {
   "cell_type": "code",
   "execution_count": 52,
   "metadata": {},
   "outputs": [
    {
     "data": {
      "text/plain": [
       "np.float64(18.187600969305333)"
      ]
     },
     "execution_count": 52,
     "metadata": {},
     "output_type": "execute_result"
    }
   ],
   "source": [
    "#survival rate\n",
    "df['Survival Rate'] = 1 - (df['Fatalities'] / df['Aboard'])\n",
    "df['Survival Rate'] = df['Survival Rate'].round(2)\n",
    "df['Survival Rate'].mean() * 100\n"
   ]
  },
  {
   "cell_type": "markdown",
   "metadata": {},
   "source": [
    "It could also have been a good feature to add destructiveness of the flight column. So once you have the percentage survival rate, you can say what the individual percentage of each crash and the severity of the crash."
   ]
  },
  {
   "cell_type": "code",
   "execution_count": 54,
   "metadata": {},
   "outputs": [
    {
     "data": {
      "image/png": "[encoded data removed]",
      "text/plain": [
       "<Figure size 1000x600 with 1 Axes>"
      ]
     },
     "metadata": {},
     "output_type": "display_data"
    }
   ],
   "source": [
    "#frequency of crashes\n",
    "import pandas as pd\n",
    "import matplotlib.pyplot as plt\n",
    "import numpy as np\n",
    "\n",
    "df['Year'] = pd.to_datetime(df['Date']).dt.year\n",
    "\n",
    "# Group the data by year and count the number of crashes\n",
    "crashes_by_year = df.groupby('Year').size()\n",
    "plt.figure(figsize=(10, 6))\n",
    "# Plot the data\n",
    "plt.bar(crashes_by_year.index, crashes_by_year.values)\n",
    "plt.xlabel('Year')\n",
    "plt.ylabel('Number of Crashes')\n",
    "plt.title('Number of Crashes by Year')\n",
    "plt.show()"
   ]
  },
  {
   "cell_type": "markdown",
   "metadata": {},
   "source": [
    "- Use SciPy to analyze:\n",
    "  - Distribution of fatalities and survival rates.\n",
    "  - Key statistics: **mean**, **median**, and **standard deviation**.\n",
    "- Conduct a **hypothesis test**, e.g., comparing:\n",
    "  - The average number of fatalities across different decades or regions."
   ]
  },
  {
   "cell_type": "code",
   "execution_count": null,
   "metadata": {},
   "outputs": [],
   "source": []
  },
  {
   "cell_type": "markdown",
   "metadata": {},
   "source": [
    "- Create visualizations using Matplotlib and Seaborn:\n",
    "  - Time series plots of crashes over years.\n",
    "  - Bar charts of crashes by region.\n",
    "  - Histograms of fatalities.\n"
   ]
  },
  {
   "cell_type": "code",
   "execution_count": null,
   "metadata": {},
   "outputs": [],
   "source": []
  },
  {
   "cell_type": "markdown",
   "metadata": {},
   "source": [
    "- Summarize findings and provide insights into patterns or anomalies discovered in the data.\n",
    "- Prepare a **well-structured report** including:\n",
    "  - Code\n",
    "  - Visualizations\n",
    "  - Interpretations"
   ]
  },
  {
   "cell_type": "code",
   "execution_count": null,
   "metadata": {},
   "outputs": [],
   "source": []
  }
 ],
 "metadata": {
  "kernelspec": {
   "display_name": "Python 3",
   "language": "python",
   "name": "python3"
  },
  "language_info": {
   "codemirror_mode": {
    "name": "ipython",
    "version": 3
   },
   "file_extension": ".py",
   "mimetype": "text/x-python",
   "name": "python",
   "nbconvert_exporter": "python",
   "pygments_lexer": "ipython3",
   "version": "3.12.6"
  }
 },
 "nbformat": 4,
 "nbformat_minor": 2
}

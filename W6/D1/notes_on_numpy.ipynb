{
 "cells": [
  {
   "cell_type": "markdown",
   "metadata": {},
   "source": [
    "1 dimensional array in numpy"
   ]
  },
  {
   "cell_type": "code",
   "execution_count": null,
   "metadata": {},
   "outputs": [
    {
     "data": {
      "text/plain": [
       "array([1, 2, 3, 4, 5, 6, 7, 8, 9])"
      ]
     },
     "execution_count": 2,
     "metadata": {},
     "output_type": "execute_result"
    }
   ],
   "source": [
    "import numpy as np\n",
    "array_1d = np.array([1,2,3,4,5,6,7,8,9])\n",
    "array_1d"
   ]
  },
  {
   "cell_type": "code",
   "execution_count": null,
   "metadata": {},
   "outputs": [
    {
     "data": {
      "text/plain": [
       "[1, 2, 3, 4, 5, 6, 7, 8, 9]"
      ]
     },
     "execution_count": 3,
     "metadata": {},
     "output_type": "execute_result"
    }
   ],
   "source": [
    "list_1d = [1,2,3,4,5,6,7,8,9]\n",
    "list_1d"
   ]
  },
  {
   "cell_type": "code",
   "execution_count": 4,
   "metadata": {},
   "outputs": [
    {
     "data": {
      "text/plain": [
       "numpy.ndarray"
      ]
     },
     "execution_count": 4,
     "metadata": {},
     "output_type": "execute_result"
    }
   ],
   "source": [
    "type(array_id)"
   ]
  },
  {
   "cell_type": "code",
   "execution_count": 5,
   "metadata": {},
   "outputs": [
    {
     "data": {
      "text/plain": [
       "list"
      ]
     },
     "execution_count": 5,
     "metadata": {},
     "output_type": "execute_result"
    }
   ],
   "source": [
    "type(list_id)"
   ]
  },
  {
   "cell_type": "markdown",
   "metadata": {},
   "source": [
    "2 dimensional array"
   ]
  },
  {
   "cell_type": "code",
   "execution_count": 8,
   "metadata": {},
   "outputs": [
    {
     "data": {
      "text/plain": [
       "array([[1, 2, 3, 4],\n",
       "       [5, 6, 7, 8]])"
      ]
     },
     "execution_count": 8,
     "metadata": {},
     "output_type": "execute_result"
    }
   ],
   "source": [
    "array_2d = np.array([[1,2,3,4],[5,6,7,8]])\n",
    "array_2d"
   ]
  },
  {
   "cell_type": "code",
   "execution_count": 9,
   "metadata": {},
   "outputs": [
    {
     "data": {
      "text/plain": [
       "array([[1, 2, 3],\n",
       "       [4, 5, 6],\n",
       "       [7, 8, 9]])"
      ]
     },
     "execution_count": 9,
     "metadata": {},
     "output_type": "execute_result"
    }
   ],
   "source": [
    "array_3d = np.array([[1,2,3],[4,5,6],[7,8,9]])\n",
    "array_3d"
   ]
  },
  {
   "cell_type": "code",
   "execution_count": 11,
   "metadata": {},
   "outputs": [
    {
     "data": {
      "text/plain": [
       "array([[0., 0., 0.],\n",
       "       [0., 0., 0.]])"
      ]
     },
     "execution_count": 11,
     "metadata": {},
     "output_type": "execute_result"
    }
   ],
   "source": [
    "zeros_array = np.zeros((2,3))\n",
    "zeros_array"
   ]
  },
  {
   "cell_type": "code",
   "execution_count": 12,
   "metadata": {},
   "outputs": [
    {
     "name": "stdout",
     "output_type": "stream",
     "text": [
      "Shape: (2, 4)\n",
      "Size: 8\n",
      "Data Type: int64\n"
     ]
    }
   ],
   "source": [
    "# Array attributes\n",
    "print(\"Shape:\", array_2d.shape)  # Expected Output: Shape: (2, 3) - 2 rows and 3 columns\n",
    "print(\"Size:\", array_2d.size)   # Expected Output: Size: 6 - Total 6 elements\n",
    "print(\"Data Type:\", array_2d.dtype)  # Expected Output: Data Type: int64 (or similar, depending on system)"
   ]
  },
  {
   "cell_type": "markdown",
   "metadata": {},
   "source": [
    "\n",
    "# Data Type: Description\n",
    "- int: \tInteger (e.g., int16, int32, int64)\n",
    "- float:\tFloating-point number (e.g., float16, float32, float64)\n",
    "- bool:\tBoolean (True or False)\n",
    "- complex:\tComplex number (e.g., complex64, complex128)\n",
    "- str:\tString\n",
    "- object:\tPython object type"
   ]
  },
  {
   "cell_type": "markdown",
   "metadata": {},
   "source": [
    "# Reshaping Arrays for Analysis\n"
   ]
  },
  {
   "cell_type": "code",
   "execution_count": 13,
   "metadata": {},
   "outputs": [
    {
     "name": "stdout",
     "output_type": "stream",
     "text": [
      "Reshaped to 3x3:\n",
      " [[1 2 3]\n",
      " [4 5 6]\n",
      " [7 8 9]]\n"
     ]
    }
   ],
   "source": [
    "import numpy as np\n",
    "\n",
    "# Creating a 1D array\n",
    "array = np.arange(1, 10)  # Array of numbers from 1 to 9\n",
    "\n",
    "# Reshaping to a 3x3 matrix\n",
    "reshaped_array = array.reshape(3, 3)\n",
    "print(\"Reshaped to 3x3:\\n\", reshaped_array)"
   ]
  },
  {
   "cell_type": "code",
   "execution_count": 14,
   "metadata": {},
   "outputs": [
    {
     "data": {
      "text/plain": [
       "array([1, 2, 3, 4, 5, 6, 7, 8, 9])"
      ]
     },
     "execution_count": 14,
     "metadata": {},
     "output_type": "execute_result"
    }
   ],
   "source": [
    "array_flat = reshaped_array.flatten()\n",
    "array_flat "
   ]
  },
  {
   "cell_type": "code",
   "execution_count": 17,
   "metadata": {},
   "outputs": [
    {
     "data": {
      "text/plain": [
       "array([[ 1,  2,  3,  4,  5,  6,  7],\n",
       "       [ 8,  9, 10, 11, 12, 13, 14]])"
      ]
     },
     "execution_count": 17,
     "metadata": {},
     "output_type": "execute_result"
    }
   ],
   "source": [
    "array_weekly_sales = np.array([1,2,3,4,5,6,7,8,9,10,11,12,13,14])\n",
    "array_week = array_weekly_sales.reshape(-1,7)\n",
    "array_week"
   ]
  },
  {
   "cell_type": "code",
   "execution_count": 18,
   "metadata": {},
   "outputs": [
    {
     "ename": "ValueError",
     "evalue": "cannot reshape array of size 16 into shape (7)",
     "output_type": "error",
     "traceback": [
      "\u001b[0;31m---------------------------------------------------------------------------\u001b[0m",
      "\u001b[0;31mValueError\u001b[0m                                Traceback (most recent call last)",
      "Cell \u001b[0;32mIn[18], line 2\u001b[0m\n\u001b[1;32m      1\u001b[0m array_weekly_sales \u001b[38;5;241m=\u001b[39m np\u001b[38;5;241m.\u001b[39marray([\u001b[38;5;241m1\u001b[39m,\u001b[38;5;241m2\u001b[39m,\u001b[38;5;241m3\u001b[39m,\u001b[38;5;241m4\u001b[39m,\u001b[38;5;241m5\u001b[39m,\u001b[38;5;241m6\u001b[39m,\u001b[38;5;241m7\u001b[39m,\u001b[38;5;241m8\u001b[39m,\u001b[38;5;241m9\u001b[39m,\u001b[38;5;241m10\u001b[39m,\u001b[38;5;241m11\u001b[39m,\u001b[38;5;241m12\u001b[39m,\u001b[38;5;241m13\u001b[39m,\u001b[38;5;241m14\u001b[39m,\u001b[38;5;241m15\u001b[39m,\u001b[38;5;241m16\u001b[39m])\n\u001b[0;32m----> 2\u001b[0m array_week \u001b[38;5;241m=\u001b[39m \u001b[43marray_weekly_sales\u001b[49m\u001b[38;5;241;43m.\u001b[39;49m\u001b[43mreshape\u001b[49m\u001b[43m(\u001b[49m\u001b[38;5;241;43m-\u001b[39;49m\u001b[38;5;241;43m1\u001b[39;49m\u001b[43m,\u001b[49m\u001b[38;5;241;43m7\u001b[39;49m\u001b[43m)\u001b[49m\n\u001b[1;32m      3\u001b[0m array_week\n",
      "\u001b[0;31mValueError\u001b[0m: cannot reshape array of size 16 into shape (7)"
     ]
    }
   ],
   "source": [
    "array_weekly_sales = np.array([1,2,3,4,5,6,7,8,9,10,11,12,13,14,15,16])\n",
    "array_week = array_weekly_sales.reshape(-1,7)\n",
    "array_week"
   ]
  },
  {
   "cell_type": "code",
   "execution_count": 27,
   "metadata": {},
   "outputs": [
    {
     "data": {
      "text/plain": [
       "array([[ 1,  2,  3,  4],\n",
       "       [ 5,  6,  7,  8],\n",
       "       [ 9, 10, 11, 12]])"
      ]
     },
     "execution_count": 27,
     "metadata": {},
     "output_type": "execute_result"
    }
   ],
   "source": [
    "array_weekly_sales = np.array([1,2,3,4,5,6,7,8,9,10,11,12])\n",
    "array_week = array_weekly_sales.reshape(3,-1)\n",
    "array_week"
   ]
  },
  {
   "cell_type": "code",
   "execution_count": 28,
   "metadata": {},
   "outputs": [
    {
     "data": {
      "text/plain": [
       "array([[1, 2, 3],\n",
       "       [4, 5, 6]])"
      ]
     },
     "execution_count": 28,
     "metadata": {},
     "output_type": "execute_result"
    }
   ],
   "source": [
    "array_weekly_sales = np.array([1,2,3,4,5,6,7,8,9,10,11,12,13,14])\n",
    "array_weekly_sales.resize(2,3)\n",
    "array_weekly_sales"
   ]
  },
  {
   "cell_type": "markdown",
   "metadata": {},
   "source": [
    "Practice:"
   ]
  },
  {
   "cell_type": "code",
   "execution_count": 44,
   "metadata": {},
   "outputs": [
    {
     "data": {
      "text/plain": [
       "array([[30, 32, 31, 29, 28, 27, 26],\n",
       "       [25, 24, 26, 28, 30, 29, 30],\n",
       "       [31, 32, 33, 34, 35, 36, 37],\n",
       "       [38, 39, 40, 41, 42, 43, 44],\n",
       "       [45, 46, 47, 48, 32, 46, 21]])"
      ]
     },
     "execution_count": 44,
     "metadata": {},
     "output_type": "execute_result"
    }
   ],
   "source": [
    "temps = np.array([30, 32, 31, 29, 28, 27, 26, 25, 24, 26, 28, 30, 29, 30, 31, 32, 33, 34, 35, 36, 37, 38, 39, 40,41, 42, 43, 44, 45, 46, 47, 48])\n",
    "temps2 = np.array([30, 32, 31, 29, 28, 27, 26, 25, 24, 26, 28, 30, 29, 30, 31, 32, 33, 34, 35, 36, 37, 38, 39, 40, 41, 42, 43, 44, 45, 46, 47, 48,32,46,21])\n",
    "week_temps = temps2.reshape(-1,7)\n",
    "week_temps"
   ]
  },
  {
   "cell_type": "code",
   "execution_count": 47,
   "metadata": {},
   "outputs": [
    {
     "data": {
      "text/plain": [
       "31"
      ]
     },
     "execution_count": 47,
     "metadata": {},
     "output_type": "execute_result"
    }
   ],
   "source": [
    "temps3 = np.array([30, 32, 31, 29, 28, 27, 26, 25, 24, 26, 28, 30, 29, 30, 31, 32, 33, 34, 35, 36, 37, 38, 39, 40, 41, 42, 43, 44, 45, 46, 4])\n",
    "temps3.size"
   ]
  },
  {
   "cell_type": "code",
   "execution_count": 37,
   "metadata": {},
   "outputs": [
    {
     "data": {
      "text/plain": [
       "(4, 8)"
      ]
     },
     "execution_count": 37,
     "metadata": {},
     "output_type": "execute_result"
    }
   ],
   "source": [
    "week_temps.shape"
   ]
  },
  {
   "cell_type": "code",
   "execution_count": 35,
   "metadata": {},
   "outputs": [
    {
     "data": {
      "text/plain": [
       "array([[30, 32, 31, 29, 28, 27, 26, 25],\n",
       "       [24, 26, 28, 30, 29, 30, 31, 32],\n",
       "       [33, 34, 35, 36, 37, 38, 39, 40],\n",
       "       [41, 42, 43, 44, 45, 46, 47, 48]])"
      ]
     },
     "execution_count": 35,
     "metadata": {},
     "output_type": "execute_result"
    }
   ],
   "source": [
    "week_temps.resize(4, 8)\n",
    "week_temps"
   ]
  },
  {
   "cell_type": "code",
   "execution_count": 48,
   "metadata": {},
   "outputs": [
    {
     "name": "stdout",
     "output_type": "stream",
     "text": [
      "Result of Boolean Indexing: [4 5 6]\n",
      "First element: 10\n",
      "First three elements: [10 20 30]\n"
     ]
    }
   ],
   "source": [
    "import numpy as np\n",
    "\n",
    "# Example array\n",
    "array = np.array([[1, 2], [3, 4], [5, 6]])\n",
    "\n",
    "# Boolean indexing\n",
    "result = array[array > 3]\n",
    "print(\"Result of Boolean Indexing:\", result)  # Output: [4 5 6], a 1D array\n",
    "\n",
    "\n",
    "import numpy as np\n",
    "\n",
    "# Creating a sample array\n",
    "array = np.array([10, 20, 30, 40, 50])\n",
    "\n",
    "# Indexing (accessing a single element)\n",
    "print(\"First element:\", array[0])\n",
    "\n",
    "# Slicing (accessing multiple elements)\n",
    "print(\"First three elements:\", array[:3])"
   ]
  },
  {
   "cell_type": "code",
   "execution_count": 55,
   "metadata": {},
   "outputs": [
    {
     "name": "stdout",
     "output_type": "stream",
     "text": [
      "Sales Data (Pandas DataFrame):\n",
      "          Monday  Tuesday  Wednesday  Thursday  Friday  Saturday  Sunday\n",
      "Store 1     200      220        250       270     300       310     280\n",
      "Store 2     150      160        180       200     210       220     190\n",
      "Store 3     100      110        120       130     140       150     160\n",
      "Store 4     300      320        340       360     400       420     410\n",
      "Store 5      50       60         70        80      90       100     110\n"
     ]
    }
   ],
   "source": [
    "import pandas as pd\n",
    "import numpy as np\n",
    "# Create the sales data as a pandas DataFrame\n",
    "sales_data = pd.DataFrame({\n",
    "    \"Monday\": [200, 150, 100, 300, 50],\n",
    "    \"Tuesday\": [220, 160, 110, 320, 60],\n",
    "    \"Wednesday\": [250, 180, 120, 340, 70],\n",
    "    \"Thursday\": [270, 200, 130, 360, 80],\n",
    "    \"Friday\": [300, 210, 140, 400, 90],\n",
    "    \"Saturday\": [310, 220, 150, 420, 100],\n",
    "    \"Sunday\": [280, 190, 160, 410, 110]\n",
    "}, index=[\"Store 1\", \"Store 2\", \"Store 3\", \"Store 4\", \"Store 5\"])\n",
    "print(\"Sales Data (Pandas DataFrame):\\n\", sales_data)"
   ]
  },
  {
   "cell_type": "code",
   "execution_count": 56,
   "metadata": {},
   "outputs": [
    {
     "data": {
      "text/plain": [
       "array([[200, 220, 250, 270, 300, 310, 280],\n",
       "       [150, 160, 180, 200, 210, 220, 190],\n",
       "       [100, 110, 120, 130, 140, 150, 160],\n",
       "       [300, 320, 340, 360, 400, 420, 410],\n",
       "       [ 50,  60,  70,  80,  90, 100, 110]])"
      ]
     },
     "execution_count": 56,
     "metadata": {},
     "output_type": "execute_result"
    }
   ],
   "source": [
    "sales_data2 = sales_data.to_numpy()\n",
    "sales_data2"
   ]
  },
  {
   "cell_type": "code",
   "execution_count": 64,
   "metadata": {},
   "outputs": [
    {
     "data": {
      "text/plain": [
       "array([300, 320, 340, 360, 400, 420, 410])"
      ]
     },
     "execution_count": 64,
     "metadata": {},
     "output_type": "execute_result"
    }
   ],
   "source": [
    "store_4 = sales_data2[3, :]\n",
    "store_4"
   ]
  },
  {
   "cell_type": "markdown",
   "metadata": {},
   "source": [
    "# AND/OR for finding where store 4 sales is greater than 4"
   ]
  },
  {
   "cell_type": "code",
   "execution_count": 68,
   "metadata": {},
   "outputs": [
    {
     "data": {
      "text/plain": [
       "array([360, 400, 420, 410])"
      ]
     },
     "execution_count": 68,
     "metadata": {},
     "output_type": "execute_result"
    }
   ],
   "source": [
    "store_4 = sales_data2[3,sales_data2[3]>350]\n",
    "store_4\n"
   ]
  },
  {
   "cell_type": "code",
   "execution_count": 66,
   "metadata": {},
   "outputs": [
    {
     "name": "stdout",
     "output_type": "stream",
     "text": [
      "[4 5 6 7]\n"
     ]
    }
   ],
   "source": [
    "store_4_above_350 = np.where(store_4>350)\n",
    "print(store_4_above_350[0]+1)"
   ]
  },
  {
   "cell_type": "code",
   "execution_count": 71,
   "metadata": {},
   "outputs": [
    {
     "data": {
      "text/plain": [
       "['Thursday', 'Friday', 'Saturday', 'Sunday']"
      ]
     },
     "execution_count": 71,
     "metadata": {},
     "output_type": "execute_result"
    }
   ],
   "source": [
    "day_names = sales_data.columns[store_4_above_350].tolist()\n",
    "day_names"
   ]
  }
 ],
 "metadata": {
  "kernelspec": {
   "display_name": "Python 3",
   "language": "python",
   "name": "python3"
  },
  "language_info": {
   "codemirror_mode": {
    "name": "ipython",
    "version": 3
   },
   "file_extension": ".py",
   "mimetype": "text/x-python",
   "name": "python",
   "nbconvert_exporter": "python",
   "pygments_lexer": "ipython3",
   "version": "3.12.6"
  }
 },
 "nbformat": 4,
 "nbformat_minor": 2
}

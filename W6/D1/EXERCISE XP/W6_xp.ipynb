{
 "cells": [
  {
   "cell_type": "markdown",
   "metadata": {},
   "source": [
    "🌟 Exercise 1 : Array Creation and Manipulation\n",
    "Instructions\n",
    "Create a 1D NumPy array containing numbers from 0 to 9.\n",
    "\n",
    "🌟 Exercise 2 : Type Conversion and Array Operations\n",
    "Instructions\n",
    "Convert a list [3.14, 2.17, 0, 1, 2] into a NumPy array and convert its data type to integer.\n",
    "\n",
    "🌟 Exercise 3 : Working with Multi-Dimensional Arrays\n",
    "Instructions\n",
    "Create a 3x3 NumPy array with values ranging from 1 to 9.\n",
    "\n",
    "🌟 Exercise 4 : Creating Multi-Dimensional Array with Random Numbers\n",
    "Instructions\n",
    "Create a 2D NumPy array of shape (4, 5) filled with random numbers.\n",
    "\n",
    "🌟 Exercise 5 : Indexing Arrays\n",
    "Instructions\n",
    "Select the second row from a given 2D NumPy array.\n",
    "\n",
    "🌟 Exercise 6 : Reversing elements\n",
    "Instructions\n",
    "Reverse the order of elements in a given 1D NumPy array (first element becomes last).\n",
    "\n",
    "🌟 Exercise 7 : Identity Matrix\n",
    "Instructions\n",
    "Create a 4x4 identity matrix using NumPy.\n",
    "\n",
    "🌟 Exercise 8 : Simple Aggregate Funcs\n",
    "Instructions\n",
    "Find the sum and average of a given 1D array.\n",
    "\n",
    "🌟 Exercise 9 : Create Array and Change its Structure\n",
    "Instructions\n",
    "Create a NumPy array with elements from 1 to 20; then reshape it into a 4x5 matrix.\n",
    "\n",
    "🌟 Exercise 10 : Conditional Selection of Values\n",
    "Instructions\n",
    "Extract all odd numbers from a given NumPy array."
   ]
  },
  {
   "cell_type": "code",
   "execution_count": 1,
   "metadata": {},
   "outputs": [
    {
     "data": {
      "text/plain": [
       "array([0, 1, 2, 3, 4, 5, 6, 7, 8, 9])"
      ]
     },
     "execution_count": 1,
     "metadata": {},
     "output_type": "execute_result"
    }
   ],
   "source": [
    "# 🌟 Exercise 1 \n",
    "import numpy as np\n",
    "array_1d = np.array([0,1,2,3,4,5,6,7,8,9])\n",
    "array_1d"
   ]
  },
  {
   "cell_type": "code",
   "execution_count": 3,
   "metadata": {},
   "outputs": [
    {
     "data": {
      "text/plain": [
       "array([3, 2, 0, 1, 2])"
      ]
     },
     "execution_count": 3,
     "metadata": {},
     "output_type": "execute_result"
    }
   ],
   "source": [
    "import numpy as np\n",
    "# 🌟 Exercise 2\n",
    "# Convert a list [3.14, 2.17, 0, 1, 2] into a NumPy array and convert its data type to integer.\n",
    "array = np.array([3.14, 2.17, 0, 1, 2])\n",
    "array_int = array.astype(int)\n",
    "array_int"
   ]
  },
  {
   "cell_type": "code",
   "execution_count": 4,
   "metadata": {},
   "outputs": [
    {
     "data": {
      "text/plain": [
       "array([[1, 2, 3],\n",
       "       [4, 5, 6],\n",
       "       [7, 8, 9]])"
      ]
     },
     "execution_count": 4,
     "metadata": {},
     "output_type": "execute_result"
    }
   ],
   "source": [
    "# 🌟 Exercise 3\n",
    "# Create a 3x3 NumPy array with values ranging from 1 to 9.\n",
    "import numpy as np\n",
    "array = np.arange(1,10).reshape(3,3)\n",
    "array"
   ]
  },
  {
   "cell_type": "code",
   "execution_count": 6,
   "metadata": {},
   "outputs": [
    {
     "data": {
      "text/plain": [
       "array([[80, 82, 46, 50, 92],\n",
       "       [68, 27, 43, 45, 78],\n",
       "       [59, 18, 53, 44, 17],\n",
       "       [11, 83, 74, 54,  1]])"
      ]
     },
     "execution_count": 6,
     "metadata": {},
     "output_type": "execute_result"
    }
   ],
   "source": [
    "# 🌟 Exercise 4\n",
    "# Create a 2D NumPy array of shape (4, 5) filled with random numbers.\n",
    "import numpy as np\n",
    "array2d = np.random.randint(1, 100, size=(4, 5))\n",
    "array2d"
   ]
  },
  {
   "cell_type": "code",
   "execution_count": 9,
   "metadata": {},
   "outputs": [
    {
     "data": {
      "text/plain": [
       "array([[0.39016135, 0.05542366, 0.17001299, 0.42180746, 0.0492106 ],\n",
       "       [0.16351694, 0.35340349, 0.48987982, 0.99605093, 0.08564334],\n",
       "       [0.37746876, 0.21743896, 0.43321449, 0.62629419, 0.10603985],\n",
       "       [0.68905893, 0.64632795, 0.10295038, 0.4522847 , 0.48834951]])"
      ]
     },
     "execution_count": 9,
     "metadata": {},
     "output_type": "execute_result"
    }
   ],
   "source": [
    "array2d2 = np.random.rand(4, 5)\n",
    "array2d2"
   ]
  },
  {
   "cell_type": "code",
   "execution_count": 10,
   "metadata": {},
   "outputs": [
    {
     "data": {
      "text/plain": [
       "array([20, 21, 22, 23, 24])"
      ]
     },
     "execution_count": 10,
     "metadata": {},
     "output_type": "execute_result"
    }
   ],
   "source": [
    "# 🌟 Exercise 5\n",
    "# Select the second row from a given 2D NumPy array.\n",
    "\n",
    "array = np.array([[21,22,23,22,22],[20, 21, 22, 23, 24],[21,22,23,22,22]])\n",
    "array[1,:]"
   ]
  },
  {
   "cell_type": "code",
   "execution_count": null,
   "metadata": {},
   "outputs": [
    {
     "data": {
      "text/plain": [
       "array([22, 22, 23, 22, 21])"
      ]
     },
     "execution_count": 21,
     "metadata": {},
     "output_type": "execute_result"
    }
   ],
   "source": [
    "# 🌟 Exercise 6\n",
    "# Reverse the order of elements in a given 1D NumPy array (first element becomes last).\n",
    "A = np.array([21,22,23,22,22])\n",
    "np.flip(A, 0)\n"
   ]
  },
  {
   "cell_type": "code",
   "execution_count": 24,
   "metadata": {},
   "outputs": [
    {
     "data": {
      "text/plain": [
       "array([[1., 0., 0., 0.],\n",
       "       [0., 1., 0., 0.],\n",
       "       [0., 0., 1., 0.],\n",
       "       [0., 0., 0., 1.]])"
      ]
     },
     "execution_count": 24,
     "metadata": {},
     "output_type": "execute_result"
    }
   ],
   "source": [
    "# 🌟 Exercise 7\n",
    "# Create a 4x4 identity matrix using NumPy.\n",
    "Array = np.identity(4)\n",
    "Array"
   ]
  },
  {
   "cell_type": "code",
   "execution_count": 26,
   "metadata": {},
   "outputs": [
    {
     "data": {
      "text/plain": [
       "np.float64(4.5)"
      ]
     },
     "execution_count": 26,
     "metadata": {},
     "output_type": "execute_result"
    }
   ],
   "source": [
    "# 🌟 Exercise 8\n",
    "# Find the sum and average of a given 1D array.\n",
    "array_1d = np.array([0,1,2,3,4,5,6,7,8,9])\n",
    "np.sum(array_1d)\n",
    "np.mean(array_1d)"
   ]
  },
  {
   "cell_type": "code",
   "execution_count": 28,
   "metadata": {},
   "outputs": [
    {
     "data": {
      "text/plain": [
       "array([[ 1,  2,  3,  4,  5],\n",
       "       [ 6,  7,  8,  9, 10],\n",
       "       [11, 12, 13, 14, 15],\n",
       "       [16, 17, 18, 19, 20]])"
      ]
     },
     "execution_count": 28,
     "metadata": {},
     "output_type": "execute_result"
    }
   ],
   "source": [
    "# 🌟 Exercise 9\n",
    "# Create a NumPy array with elements from 1 to 20; then reshape it into a 4x5 matrix.\n",
    "import numpy as np\n",
    "Array = np.array([1,2,3,4,5,6,7,8,9,10,11,12,13,14,15,16,17,18,19,20])\n",
    "Array2 = Array.reshape(4,5)\n",
    "Array2"
   ]
  },
  {
   "cell_type": "code",
   "execution_count": null,
   "metadata": {},
   "outputs": [
    {
     "data": {
      "text/plain": [
       "array([ 1,  3,  5,  7,  9, 11, 13, 15, 17, 19])"
      ]
     },
     "execution_count": 29,
     "metadata": {},
     "output_type": "execute_result"
    }
   ],
   "source": [
    "# 🌟 Exercise 10\n",
    "# Extract all odd numbers from a given NumPy array.\n",
    "Array = np.array([1,2,3,4,5,6,7,8,9,10,11,12,13,14,15,16,17,18,19,20])\n",
    "Array[Array % 2 != 0]\n"
   ]
  }
 ],
 "metadata": {
  "kernelspec": {
   "display_name": "Python 3",
   "language": "python",
   "name": "python3"
  },
  "language_info": {
   "codemirror_mode": {
    "name": "ipython",
    "version": 3
   },
   "file_extension": ".py",
   "mimetype": "text/x-python",
   "name": "python",
   "nbconvert_exporter": "python",
   "pygments_lexer": "ipython3",
   "version": "3.12.6"
  }
 },
 "nbformat": 4,
 "nbformat_minor": 2
}

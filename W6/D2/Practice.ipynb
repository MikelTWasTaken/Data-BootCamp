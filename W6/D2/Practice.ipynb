{
 "cells": [
  {
   "cell_type": "markdown",
   "metadata": {},
   "source": [
    "Exercise Tasks:\n",
    "\n",
    "1. Average Rating Calculation: Compute the average rating for each movie.\n",
    "\n",
    "2. Viewer Preference Analysis: Determine which movie each viewer rated the highest."
   ]
  },
  {
   "cell_type": "code",
   "execution_count": 14,
   "metadata": {},
   "outputs": [
    {
     "data": {
      "text/plain": [
       "(array([3.4, 2.2, 3.4]), array([1, 1, 3, 3, 1]))"
      ]
     },
     "execution_count": 14,
     "metadata": {},
     "output_type": "execute_result"
    }
   ],
   "source": [
    "import numpy as np\n",
    "\n",
    "# Movie ratings matrix (5 viewers, 3 movies)\n",
    "movie_ratings = np.array([\n",
    "    [5, 1, 4],\n",
    "    [4, 4, 2],\n",
    "    [4, 3, 5],\n",
    "    [1, 1, 5],\n",
    "    [3, 2, 1]\n",
    "])\n",
    "\n",
    "average_responses = np.mean(movie_ratings, axis=0)\n",
    "#\n",
    "\n",
    "viewer_preference = np.argmax(movie_ratings.T, axis=0)+1\n",
    "#keep axis as zero because each column is now viewer and their movie rating for each movie by row\n",
    "\n",
    "average_responses, viewer_preference"
   ]
  },
  {
   "cell_type": "code",
   "execution_count": null,
   "metadata": {},
   "outputs": [],
   "source": [
    "import numpy as np\n",
    "from scipy import stats\n",
    "\n",
    "# Sample data (engagement time in minutes)\n",
    "sample_data = np.array([...])  # Example data\n",
    "\n",
    "# Performing a one-sample t-test\n",
    "t_statistic, p_value = stats.ttest_1samp(sample_data, 15)\n",
    "\n",
    "# Interpreting the result\n",
    "alpha = 0.05  # Significance level\n",
    "if p_value < alpha:\n",
    "    print(\"Reject the null hypothesis\")\n",
    "else:\n",
    "    print(\"Fail to reject the null hypothesis\")"
   ]
  },
  {
   "cell_type": "code",
   "execution_count": 1,
   "metadata": {},
   "outputs": [
    {
     "data": {
      "image/png": "[encoded data removed]",
      "text/plain": [
       "<Figure size 640x480 with 1 Axes>"
      ]
     },
     "metadata": {},
     "output_type": "display_data"
    }
   ],
   "source": [
    "import numpy as np\n",
    "import matplotlib.pyplot as plt\n",
    "\n",
    "# Generate a normal distribution\n",
    "mean = 0\n",
    "std_dev = 1\n",
    "samples = np.random.normal(mean, std_dev, 1000)\n",
    "\n",
    "# Plotting the distribution\n",
    "plt.hist(samples, bins=30, density=True)\n",
    "plt.title(\"Normal Distribution\")\n",
    "plt.xlabel(\"Value\")\n",
    "plt.ylabel(\"Frequency\")\n",
    "plt.show()"
   ]
  },
  {
   "cell_type": "code",
   "execution_count": 2,
   "metadata": {},
   "outputs": [
    {
     "name": "stdout",
     "output_type": "stream",
     "text": [
      "Random Sample: [9 2 8 4 3]\n"
     ]
    }
   ],
   "source": [
    "# Random sampling from an array\n",
    "data = np.arange(10)\n",
    "sample = np.random.choice(data, size=5, replace=False)\n",
    "print(\"Random Sample:\", sample)"
   ]
  },
  {
   "cell_type": "code",
   "execution_count": 3,
   "metadata": {},
   "outputs": [
    {
     "name": "stdout",
     "output_type": "stream",
     "text": [
      "Variance: 1.000402814834335\n",
      "Skewness: 0.10120546295726876\n",
      "Kurtosis: 0.19467324442626666\n"
     ]
    }
   ],
   "source": [
    "# Variance\n",
    "variance = np.var(samples)\n",
    "print(\"Variance:\", variance)\n",
    "\n",
    "# Skewness and Kurtosis require scipy\n",
    "from scipy.stats import skew, kurtosis\n",
    "print(\"Skewness:\", skew(samples))\n",
    "print(\"Kurtosis:\", kurtosis(samples))"
   ]
  }
 ],
 "metadata": {
  "kernelspec": {
   "display_name": "Python 3",
   "language": "python",
   "name": "python3"
  },
  "language_info": {
   "codemirror_mode": {
    "name": "ipython",
    "version": 3
   },
   "file_extension": ".py",
   "mimetype": "text/x-python",
   "name": "python",
   "nbconvert_exporter": "python",
   "pygments_lexer": "ipython3",
   "version": "3.12.6"
  }
 },
 "nbformat": 4,
 "nbformat_minor": 2
}

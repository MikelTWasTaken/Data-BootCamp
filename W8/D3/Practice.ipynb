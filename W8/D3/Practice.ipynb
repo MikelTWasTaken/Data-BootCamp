{
 "cells": [
  {
   "cell_type": "markdown",
   "metadata": {},
   "source": [
    "### Exercise: Choosing and Performing an A/B Test\n",
    "- Scenario: Testing Email Campaigns for an Online Store\n",
    "An online store has launched a new email marketing campaign to increase purchases. \n",
    "\n",
    "- They are testing two email designs:\n",
    "Version A: A simple, text-based email.\n",
    "Version B: A visually engaging email with images and bold calls to action.\n",
    "\n",
    "- They have collected the following data after sending the emails to random groups of users:\n",
    "   (picture)\n",
    "**Your job is to determine:**\n",
    "- What type of A/B test to conduct (e.g., proportions or means)?\n",
    "- Write out the null and alternative hypotheses.\n",
    "- Perform a statistical test to determine if Version B performs significantly better than Version A.\n",
    "- Interpret the results."
   ]
  },
  {
   "cell_type": "markdown",
   "metadata": {},
   "source": [
    "Version A: A simple, text-based email.\n",
    "Version B: A visually engaging email with images and bold calls to action.\n",
    "\n",
    "Email version     #emails sent    #of purchases     total rev $\n",
    "a                   500             45                  5000\n",
    "b                   500             55                  6500\n",
    "\n",
    "Use a z test"
   ]
  },
  {
   "cell_type": "markdown",
   "metadata": {},
   "source": [
    "Null Hypothesis The purchase rate for Version B is the same as or less than Version A \n",
    "Alternative Hypothesis The purchase rate for Version B is higher than Version A"
   ]
  },
  {
   "cell_type": "code",
   "execution_count": 3,
   "metadata": {},
   "outputs": [
    {
     "name": "stdout",
     "output_type": "stream",
     "text": [
      "Purchase rate Version A: 0.0900\n",
      "Purchase rate Version B: 0.1100\n",
      "Pooled proportion: 0.1000\n",
      "Standard error: 0.0190\n",
      "Z-score: 1.0541\n",
      "P-value: 0.1459\n",
      "Fail to reject the null hypothesis. There is no significant difference in purchase rates between the two groups.\n"
     ]
    }
   ],
   "source": [
    "import numpy as np\n",
    "from scipy.stats import norm\n",
    "#Data\n",
    "a_purchases = 45\n",
    "b_purchases = 55\n",
    "emails_sent_a = 500\n",
    "emails_sent_b = 500\n",
    "\n",
    "#Purchase rate\n",
    "a_purchase_rate = a_purchases / emails_sent_a\n",
    "b_purchase_rate = b_purchases / emails_sent_b\n",
    "\n",
    "#pooled proportions\n",
    "pooled_proportion = (a_purchases + b_purchases) / (emails_sent_a + emails_sent_b)\n",
    "\n",
    "#standard error\n",
    "standard_error = np.sqrt(pooled_proportion * (1 - pooled_proportion) * (1/emails_sent_a + 1/emails_sent_b))\n",
    "\n",
    "#z-test statistic\n",
    "z_statistic = (b_purchase_rate - a_purchase_rate) / standard_error\n",
    "\n",
    "#p-value\n",
    "p_value = 1 - norm.cdf(z_statistic)\n",
    "\n",
    "#significance level\n",
    "alpha = 0.05\n",
    "\n",
    "#results\n",
    "\n",
    "print(f\"Purchase rate Version A: {a_purchase_rate:.4f}\")\n",
    "print(f\"Purchase rate Version B: {b_purchase_rate:.4f}\")\n",
    "print(f\"Pooled proportion: {pooled_proportion:.4f}\")\n",
    "print(f\"Standard error: {standard_error:.4f}\")\n",
    "print(f\"Z-score: {z_statistic:.4f}\")\n",
    "print(f\"P-value: {p_value:.4f}\")\n",
    "\n",
    "if p_value < alpha:\n",
    "    print(\"Reject the null hypothesis. There is a significant difference in purchase rates between the two groups.\")\n",
    "\n",
    "else:\n",
    "    print(\"Fail to reject the null hypothesis. There is no significant difference in purchase rates between the two groups.\")\n",
    "    "
   ]
  },
  {
   "cell_type": "code",
   "execution_count": 2,
   "metadata": {},
   "outputs": [
    {
     "name": "stdout",
     "output_type": "stream",
     "text": [
      "0.00612\n",
      "0.00034878490793037475\n",
      "[7.05305747]\n",
      "[8.7518881e-13]\n"
     ]
    }
   ],
   "source": [
    "from scipy.stats import norm\n",
    "import numpy as np\n",
    "# Let's define our sample size\n",
    "n=100000\n",
    "p_a = .005  # real underlying probability of each trial for version A\n",
    "p_b = .0075 # same for B\n",
    "# We generate the random binomial samples (number of clicks for 500 ad impressions in each group)\n",
    "s_a = np.random.binomial(n, p_a, 1)\n",
    "s_b = np.random.binomial(n, p_b, 1)\n",
    "# calculate pooled p\n",
    "p=(sum(s_b)+sum(s_a))/(2*n)\n",
    "print(p)\n",
    "# calculate standard error\n",
    "se=np.sqrt(p*(1-p)*(2/n))\n",
    "print(se)\n",
    "# calculate test statistic\n",
    "z=(s_b/n-s_a/n)/se\n",
    "print(z)\n",
    "# get the p-value\n",
    "print(1-norm.cdf(z))"
   ]
  }
 ],
 "metadata": {
  "kernelspec": {
   "display_name": "Python 3",
   "language": "python",
   "name": "python3"
  },
  "language_info": {
   "codemirror_mode": {
    "name": "ipython",
    "version": 3
   },
   "file_extension": ".py",
   "mimetype": "text/x-python",
   "name": "python",
   "nbconvert_exporter": "python",
   "pygments_lexer": "ipython3",
   "version": "3.12.6"
  }
 },
 "nbformat": 4,
 "nbformat_minor": 2
}

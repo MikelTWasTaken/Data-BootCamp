{
  "cells": [
    {
      "cell_type": "markdown",
      "metadata": {
        "id": "DeHt0ZK0kkpI"
      },
      "source": [
        "The AB test is a randomized experiment that is used by most large companies to evaluate the launch of new functionality. Various difficulties may arise in the analysis and conduct of the experiment. Several typical problematic cases from real life are given in this dataset and analysis."
      ]
    },
    {
      "cell_type": "markdown",
      "metadata": {
        "id": "Zm0ogtm1kkpI"
      },
      "source": [
        "### Content\n",
        "1. [Loading and processing data](#Loading)\n",
        "2. [Statistical Analysis](#Statistical)\n",
        "3. [Conclusions](#Conclusions)"
      ]
    },
    {
      "cell_type": "markdown",
      "metadata": {
        "id": "bn40N7ilkkpJ"
      },
      "source": [
        "### Loading and processing data <a name=\"Loading\"/>"
      ]
    },
    {
      "cell_type": "markdown",
      "metadata": {
        "id": "fh03NWZxkkpJ"
      },
      "source": [
        "Let's import the necessary libraries and load the data"
      ]
    },
    {
      "cell_type": "code",
      "execution_count": 15,
      "metadata": {
        "execution": {
          "iopub.execute_input": "2022-09-16T18:23:22.571662Z",
          "iopub.status.busy": "2022-09-16T18:23:22.571234Z",
          "iopub.status.idle": "2022-09-16T18:23:22.579386Z",
          "shell.execute_reply": "2022-09-16T18:23:22.577863Z",
          "shell.execute_reply.started": "2022-09-16T18:23:22.571624Z"
        },
        "id": "jKi9SDP2kkpJ",
        "trusted": true
      },
      "outputs": [],
      "source": [
        "import numpy as np\n",
        "import pandas as pd\n",
        "from scipy.stats import mannwhitneyu\n",
        "from scipy.stats import ttest_ind\n",
        "from scipy.stats import norm\n",
        "import matplotlib.pyplot as plt\n",
        "import seaborn as sns\n",
        "from tqdm.auto import tqdm\n",
        "import seaborn as sns\n",
        "from scipy.stats import pearsonr\n",
        "from scipy.stats import shapiro"
      ]
    },
    {
      "cell_type": "code",
      "execution_count": 16,
      "metadata": {
        "execution": {
          "iopub.execute_input": "2022-09-16T18:23:22.584216Z",
          "iopub.status.busy": "2022-09-16T18:23:22.582829Z",
          "iopub.status.idle": "2022-09-16T18:23:22.604701Z",
          "shell.execute_reply": "2022-09-16T18:23:22.603788Z",
          "shell.execute_reply.started": "2022-09-16T18:23:22.584166Z"
        },
        "id": "5CAgSuFlkkpJ",
        "trusted": true
      },
      "outputs": [],
      "source": [
        "# TODO : import the dataset\n",
        "import pandas as pd\n",
        "df = pd.read_csv('/Users/teitelbaumsair/Desktop/Data Bootcamp/W8/D3/EXERCISE XP/AB_Test_Results.csv')"
      ]
    },
    {
      "cell_type": "code",
      "execution_count": 17,
      "metadata": {},
      "outputs": [
        {
          "data": {
            "text/html": [
              "<div>\n",
              "<style scoped>\n",
              "    .dataframe tbody tr th:only-of-type {\n",
              "        vertical-align: middle;\n",
              "    }\n",
              "\n",
              "    .dataframe tbody tr th {\n",
              "        vertical-align: top;\n",
              "    }\n",
              "\n",
              "    .dataframe thead th {\n",
              "        text-align: right;\n",
              "    }\n",
              "</style>\n",
              "<table border=\"1\" class=\"dataframe\">\n",
              "  <thead>\n",
              "    <tr style=\"text-align: right;\">\n",
              "      <th></th>\n",
              "      <th>USER_ID</th>\n",
              "      <th>VARIANT_NAME</th>\n",
              "      <th>REVENUE</th>\n",
              "    </tr>\n",
              "  </thead>\n",
              "  <tbody>\n",
              "    <tr>\n",
              "      <th>0</th>\n",
              "      <td>737</td>\n",
              "      <td>variant</td>\n",
              "      <td>0.0</td>\n",
              "    </tr>\n",
              "    <tr>\n",
              "      <th>1</th>\n",
              "      <td>2423</td>\n",
              "      <td>control</td>\n",
              "      <td>0.0</td>\n",
              "    </tr>\n",
              "    <tr>\n",
              "      <th>2</th>\n",
              "      <td>9411</td>\n",
              "      <td>control</td>\n",
              "      <td>0.0</td>\n",
              "    </tr>\n",
              "    <tr>\n",
              "      <th>3</th>\n",
              "      <td>7311</td>\n",
              "      <td>control</td>\n",
              "      <td>0.0</td>\n",
              "    </tr>\n",
              "    <tr>\n",
              "      <th>4</th>\n",
              "      <td>6174</td>\n",
              "      <td>variant</td>\n",
              "      <td>0.0</td>\n",
              "    </tr>\n",
              "    <tr>\n",
              "      <th>5</th>\n",
              "      <td>2380</td>\n",
              "      <td>variant</td>\n",
              "      <td>0.0</td>\n",
              "    </tr>\n",
              "    <tr>\n",
              "      <th>6</th>\n",
              "      <td>2849</td>\n",
              "      <td>control</td>\n",
              "      <td>0.0</td>\n",
              "    </tr>\n",
              "    <tr>\n",
              "      <th>7</th>\n",
              "      <td>9168</td>\n",
              "      <td>control</td>\n",
              "      <td>0.0</td>\n",
              "    </tr>\n",
              "    <tr>\n",
              "      <th>8</th>\n",
              "      <td>6205</td>\n",
              "      <td>variant</td>\n",
              "      <td>0.0</td>\n",
              "    </tr>\n",
              "    <tr>\n",
              "      <th>9</th>\n",
              "      <td>7548</td>\n",
              "      <td>control</td>\n",
              "      <td>0.0</td>\n",
              "    </tr>\n",
              "  </tbody>\n",
              "</table>\n",
              "</div>"
            ],
            "text/plain": [
              "   USER_ID VARIANT_NAME  REVENUE\n",
              "0      737      variant      0.0\n",
              "1     2423      control      0.0\n",
              "2     9411      control      0.0\n",
              "3     7311      control      0.0\n",
              "4     6174      variant      0.0\n",
              "5     2380      variant      0.0\n",
              "6     2849      control      0.0\n",
              "7     9168      control      0.0\n",
              "8     6205      variant      0.0\n",
              "9     7548      control      0.0"
            ]
          },
          "execution_count": 17,
          "metadata": {},
          "output_type": "execute_result"
        }
      ],
      "source": [
        "df.head(10)"
      ]
    },
    {
      "cell_type": "code",
      "execution_count": 18,
      "metadata": {
        "execution": {
          "iopub.execute_input": "2022-09-16T18:23:22.607393Z",
          "iopub.status.busy": "2022-09-16T18:23:22.606556Z",
          "iopub.status.idle": "2022-09-16T18:23:22.621022Z",
          "shell.execute_reply": "2022-09-16T18:23:22.619749Z",
          "shell.execute_reply.started": "2022-09-16T18:23:22.607349Z"
        },
        "id": "1nvLy1dIkkpK",
        "trusted": true
      },
      "outputs": [
        {
          "data": {
            "text/html": [
              "<div>\n",
              "<style scoped>\n",
              "    .dataframe tbody tr th:only-of-type {\n",
              "        vertical-align: middle;\n",
              "    }\n",
              "\n",
              "    .dataframe tbody tr th {\n",
              "        vertical-align: top;\n",
              "    }\n",
              "\n",
              "    .dataframe thead th {\n",
              "        text-align: right;\n",
              "    }\n",
              "</style>\n",
              "<table border=\"1\" class=\"dataframe\">\n",
              "  <thead>\n",
              "    <tr style=\"text-align: right;\">\n",
              "      <th></th>\n",
              "      <th>USER_ID</th>\n",
              "      <th>VARIANT_NAME</th>\n",
              "      <th>REVENUE</th>\n",
              "    </tr>\n",
              "  </thead>\n",
              "  <tbody>\n",
              "    <tr>\n",
              "      <th>0</th>\n",
              "      <td>737</td>\n",
              "      <td>variant</td>\n",
              "      <td>0.0</td>\n",
              "    </tr>\n",
              "    <tr>\n",
              "      <th>1</th>\n",
              "      <td>2423</td>\n",
              "      <td>control</td>\n",
              "      <td>0.0</td>\n",
              "    </tr>\n",
              "    <tr>\n",
              "      <th>2</th>\n",
              "      <td>9411</td>\n",
              "      <td>control</td>\n",
              "      <td>0.0</td>\n",
              "    </tr>\n",
              "    <tr>\n",
              "      <th>3</th>\n",
              "      <td>7311</td>\n",
              "      <td>control</td>\n",
              "      <td>0.0</td>\n",
              "    </tr>\n",
              "    <tr>\n",
              "      <th>4</th>\n",
              "      <td>6174</td>\n",
              "      <td>variant</td>\n",
              "      <td>0.0</td>\n",
              "    </tr>\n",
              "  </tbody>\n",
              "</table>\n",
              "</div>"
            ],
            "text/plain": [
              "   USER_ID VARIANT_NAME  REVENUE\n",
              "0      737      variant      0.0\n",
              "1     2423      control      0.0\n",
              "2     9411      control      0.0\n",
              "3     7311      control      0.0\n",
              "4     6174      variant      0.0"
            ]
          },
          "execution_count": 18,
          "metadata": {},
          "output_type": "execute_result"
        }
      ],
      "source": [
        "# TODO : take a quick look at the data\n",
        "df.head()"
      ]
    },
    {
      "cell_type": "code",
      "execution_count": 19,
      "metadata": {},
      "outputs": [
        {
          "data": {
            "text/plain": [
              "(10000, 3)"
            ]
          },
          "execution_count": 19,
          "metadata": {},
          "output_type": "execute_result"
        }
      ],
      "source": [
        "df.shape"
      ]
    },
    {
      "cell_type": "markdown",
      "metadata": {
        "id": "gvcmP9L5kkpL"
      },
      "source": [
        "Let's see if there are users who have two A/B test groups"
      ]
    },
    {
      "cell_type": "code",
      "execution_count": 43,
      "metadata": {
        "execution": {
          "iopub.execute_input": "2022-09-16T18:23:22.660468Z",
          "iopub.status.busy": "2022-09-16T18:23:22.659897Z",
          "iopub.status.idle": "2022-09-16T18:23:22.673751Z",
          "shell.execute_reply": "2022-09-16T18:23:22.672845Z",
          "shell.execute_reply.started": "2022-09-16T18:23:22.660438Z"
        },
        "id": "sQfYwAcWkkpL",
        "trusted": true
      },
      "outputs": [
        {
          "name": "stdout",
          "output_type": "stream",
          "text": [
            "Number of users out of 10,000 with more than one A/B test group: 1541\n",
            "USER_ID\n",
            "3        2\n",
            "10       2\n",
            "18       2\n",
            "25       2\n",
            "40       2\n",
            "        ..\n",
            "9978     2\n",
            "9979     2\n",
            "9982     2\n",
            "9996     2\n",
            "10000    2\n",
            "Name: VARIANT_NAME, Length: 1541, dtype: int64\n"
          ]
        }
      ],
      "source": [
        "# TODO : Look at the distribution of the number of unique groups for each user\n",
        "unique_groups_per_user = df.groupby('USER_ID')['VARIANT_NAME'].nunique()\n",
        "users_with_multiple_groups = unique_groups_per_user[unique_groups_per_user > 1]\n",
        "\n",
        "print(f\"Number of users out of 10,000 with more than one A/B test group: {len(users_with_multiple_groups)}\")\n",
        "print(users_with_multiple_groups)\n"
      ]
    },
    {
      "cell_type": "code",
      "execution_count": 44,
      "metadata": {
        "execution": {
          "iopub.execute_input": "2022-09-16T18:23:22.675698Z",
          "iopub.status.busy": "2022-09-16T18:23:22.675099Z",
          "iopub.status.idle": "2022-09-16T18:23:22.683077Z",
          "shell.execute_reply": "2022-09-16T18:23:22.682019Z",
          "shell.execute_reply.started": "2022-09-16T18:23:22.675666Z"
        },
        "id": "X7D5HpjdkkpM",
        "trusted": true
      },
      "outputs": [
        {
          "name": "stdout",
          "output_type": "stream",
          "text": [
            "Relative Distribution of Unique Groups per User:\n",
            "VARIANT_NAME\n",
            "1    0.756325\n",
            "2    0.243675\n",
            "Name: proportion, dtype: float64\n"
          ]
        },
        {
          "data": {
            "image/png": "[encoded data removed]",
            "text/plain": [
              "<Figure size 1000x600 with 1 Axes>"
            ]
          },
          "metadata": {},
          "output_type": "display_data"
        }
      ],
      "source": [
        "# TODO : Look at the distribution of the number of unique groups for each user in relative terms\n",
        "relative_distribution = unique_groups_per_user.value_counts(normalize=True).sort_index()\n",
        "print(\"Relative Distribution of Unique Groups per User:\")\n",
        "print(relative_distribution)\n",
        "\n",
        "plt.figure(figsize=(10, 6))\n",
        "relative_distribution.plot(kind='bar', color='skyblue', edgecolor='black')\n",
        "plt.title('Relative Distribution of Number of Unique Groups per User')\n",
        "plt.xlabel('Number of Unique Groups')\n",
        "plt.ylabel('Proportion of Users')\n",
        "plt.xticks(rotation=0)\n",
        "plt.show()"
      ]
    },
    {
      "cell_type": "markdown",
      "metadata": {
        "id": "gyhapbJkkkpM"
      },
      "source": [
        "What can you observe ? Should we exclude these users ? Why ?"
      ]
    },
    {
      "cell_type": "code",
      "execution_count": null,
      "metadata": {
        "execution": {
          "iopub.execute_input": "2022-09-16T18:23:22.68523Z",
          "iopub.status.busy": "2022-09-16T18:23:22.684621Z",
          "iopub.status.idle": "2022-09-16T18:23:22.704635Z",
          "shell.execute_reply": "2022-09-16T18:23:22.70344Z",
          "shell.execute_reply.started": "2022-09-16T18:23:22.685198Z"
        },
        "id": "MNRylCuikkpM",
        "trusted": true
      },
      "outputs": [
        {
          "name": "stdout",
          "output_type": "stream",
          "text": [
            "Original unique user count: 6324\n",
            "Filtered unique user count: 4783\n"
          ]
        },
        {
          "data": {
            "text/html": [
              "<div>\n",
              "<style scoped>\n",
              "    .dataframe tbody tr th:only-of-type {\n",
              "        vertical-align: middle;\n",
              "    }\n",
              "\n",
              "    .dataframe tbody tr th {\n",
              "        vertical-align: top;\n",
              "    }\n",
              "\n",
              "    .dataframe thead th {\n",
              "        text-align: right;\n",
              "    }\n",
              "</style>\n",
              "<table border=\"1\" class=\"dataframe\">\n",
              "  <thead>\n",
              "    <tr style=\"text-align: right;\">\n",
              "      <th></th>\n",
              "      <th>USER_ID</th>\n",
              "      <th>VARIANT_NAME</th>\n",
              "      <th>REVENUE</th>\n",
              "    </tr>\n",
              "  </thead>\n",
              "  <tbody>\n",
              "    <tr>\n",
              "      <th>0</th>\n",
              "      <td>737</td>\n",
              "      <td>variant</td>\n",
              "      <td>0.0</td>\n",
              "    </tr>\n",
              "    <tr>\n",
              "      <th>4</th>\n",
              "      <td>6174</td>\n",
              "      <td>variant</td>\n",
              "      <td>0.0</td>\n",
              "    </tr>\n",
              "    <tr>\n",
              "      <th>5</th>\n",
              "      <td>2380</td>\n",
              "      <td>variant</td>\n",
              "      <td>0.0</td>\n",
              "    </tr>\n",
              "    <tr>\n",
              "      <th>7</th>\n",
              "      <td>9168</td>\n",
              "      <td>control</td>\n",
              "      <td>0.0</td>\n",
              "    </tr>\n",
              "    <tr>\n",
              "      <th>9</th>\n",
              "      <td>7548</td>\n",
              "      <td>control</td>\n",
              "      <td>0.0</td>\n",
              "    </tr>\n",
              "  </tbody>\n",
              "</table>\n",
              "</div>"
            ],
            "text/plain": [
              "   USER_ID VARIANT_NAME  REVENUE\n",
              "0      737      variant      0.0\n",
              "4     6174      variant      0.0\n",
              "5     2380      variant      0.0\n",
              "7     9168      control      0.0\n",
              "9     7548      control      0.0"
            ]
          },
          "execution_count": 48,
          "metadata": {},
          "output_type": "execute_result"
        }
      ],
      "source": [
        "# TODO : users have 1 A/B test group ?\n",
        "AB_Test_Results = pd.DataFrame(df)\n",
        "unique_groups_per_user = AB_Test_Results.groupby('USER_ID')['VARIANT_NAME'].nunique()\n",
        "users_with_one_group = unique_groups_per_user[unique_groups_per_user == 1].index\n",
        "filtered_data_one_group = AB_Test_Results[AB_Test_Results['USER_ID'].isin(users_with_one_group)]\n",
        "original_user_count = AB_Test_Results['USER_ID'].nunique()\n",
        "filtered_user_count = filtered_data_one_group['USER_ID'].nunique()\n",
        "print(f\"Original unique user count: {original_user_count}\")\n",
        "print(f\"Filtered unique user count: {filtered_user_count}\")\n",
        "filtered_data_one_group.head()\n",
        "# TODO : Take only these users\n",
        " "
      ]
    },
    {
      "cell_type": "code",
      "execution_count": 49,
      "metadata": {
        "execution": {
          "iopub.execute_input": "2022-09-16T18:23:22.707214Z",
          "iopub.status.busy": "2022-09-16T18:23:22.706067Z",
          "iopub.status.idle": "2022-09-16T18:23:22.721546Z",
          "shell.execute_reply": "2022-09-16T18:23:22.720237Z",
          "shell.execute_reply.started": "2022-09-16T18:23:22.70718Z"
        },
        "id": "4XvAx6ZtkkpM",
        "trusted": true
      },
      "outputs": [
        {
          "name": "stdout",
          "output_type": "stream",
          "text": [
            "User count mismatch! Original: 6324, Filtered: 4783\n"
          ]
        }
      ],
      "source": [
        "# TODO : Leave only records with users with the 1st ab test group\n",
        "\n",
        "# TODO : Check that the number of users matches what it was before the exception\n",
        "\n",
        "unique_groups_per_user = AB_Test_Results.groupby('USER_ID')['VARIANT_NAME'].nunique()\n",
        "users_with_one_group = unique_groups_per_user[unique_groups_per_user == 1].index\n",
        "filtered_data_one_group = AB_Test_Results[AB_Test_Results['USER_ID'].isin(users_with_one_group)]\n",
        "\n",
        "# Verify that the number of users matches before and after the operation\n",
        "original_user_count = AB_Test_Results['USER_ID'].nunique()\n",
        "filtered_user_count = filtered_data_one_group['USER_ID'].nunique()\n",
        "\n",
        "if original_user_count == filtered_user_count:\n",
        "    print(\"User count matches. Filtering successful.\")\n",
        "else:\n",
        "    print(f\"User count mismatch! Original: {original_user_count}, Filtered: {filtered_user_count}\")"
      ]
    },
    {
      "cell_type": "markdown",
      "metadata": {
        "id": "Vpvcse3pkkpM"
      },
      "source": [
        "Let's see how the data is distributed"
      ]
    },
    {
      "cell_type": "code",
      "execution_count": 50,
      "metadata": {
        "execution": {
          "iopub.execute_input": "2022-09-16T18:23:22.723766Z",
          "iopub.status.busy": "2022-09-16T18:23:22.722862Z",
          "iopub.status.idle": "2022-09-16T18:23:22.98119Z",
          "shell.execute_reply": "2022-09-16T18:23:22.980008Z",
          "shell.execute_reply.started": "2022-09-16T18:23:22.723732Z"
        },
        "id": "EW1ZGmsukkpN",
        "trusted": true
      },
      "outputs": [
        {
          "data": {
            "image/png": "[encoded data removed]",
            "text/plain": [
              "<Figure size 800x600 with 1 Axes>"
            ]
          },
          "metadata": {},
          "output_type": "display_data"
        }
      ],
      "source": [
        "# TODO : Check how the data is distributed using a box plot\n",
        "plt.figure(figsize=(8, 6))\n",
        "sns.boxplot(data=AB_Test_Results, x='VARIANT_NAME', y='REVENUE')\n",
        "plt.title('Revenue Distribution by Variant')\n",
        "plt.xlabel('Variant Name')\n",
        "plt.ylabel('Revenue')\n",
        "plt.grid(axis='y', linestyle='--', alpha=0.7)\n",
        "plt.show()"
      ]
    },
    {
      "cell_type": "markdown",
      "metadata": {
        "id": "Hlp3psWykkpN"
      },
      "source": [
        "It can be seen that there is a strong outlier in the data - we will find it by sorting these revenue values in descending order"
      ]
    },
    {
      "cell_type": "code",
      "execution_count": 51,
      "metadata": {
        "execution": {
          "iopub.execute_input": "2022-09-16T18:23:22.987116Z",
          "iopub.status.busy": "2022-09-16T18:23:22.986753Z",
          "iopub.status.idle": "2022-09-16T18:23:23.005356Z",
          "shell.execute_reply": "2022-09-16T18:23:23.004381Z",
          "shell.execute_reply.started": "2022-09-16T18:23:22.987087Z"
        },
        "id": "9O6xaJmOkkpN",
        "trusted": true
      },
      "outputs": [
        {
          "name": "stdout",
          "output_type": "stream",
          "text": [
            "      USER_ID VARIANT_NAME  REVENUE\n",
            "1437     3342      control   196.01\n",
            "6447     2881      variant    58.63\n",
            "7642     7206      variant    57.46\n",
            "9421     6792      control    41.53\n",
            "8168     2166      control    29.32\n",
            "...       ...          ...      ...\n",
            "3356     7969      variant     0.00\n",
            "3357     1184      control     0.00\n",
            "3358     3775      variant     0.00\n",
            "3359     6745      control     0.00\n",
            "9999     9468      control     0.00\n",
            "\n",
            "[10000 rows x 3 columns]\n"
          ]
        }
      ],
      "source": [
        "# TODO : Sort these revenue values in descending order\n",
        "\n",
        "sorted_data = AB_Test_Results.sort_values(by='REVENUE', ascending=False)\n",
        "print(sorted_data)"
      ]
    },
    {
      "cell_type": "code",
      "execution_count": 53,
      "metadata": {
        "execution": {
          "iopub.execute_input": "2022-09-16T18:23:23.009563Z",
          "iopub.status.busy": "2022-09-16T18:23:23.009204Z",
          "iopub.status.idle": "2022-09-16T18:23:23.022364Z",
          "shell.execute_reply": "2022-09-16T18:23:23.020814Z",
          "shell.execute_reply.started": "2022-09-16T18:23:23.009514Z"
        },
        "id": "zzX8JJiIkkpN",
        "trusted": true
      },
      "outputs": [
        {
          "name": "stdout",
          "output_type": "stream",
          "text": [
            "Events for User 3342:\n",
            "       USER_ID VARIANT_NAME  REVENUE\n",
            "1437      3342      control   196.01\n",
            "10000     3342      control  1500.00\n"
          ]
        },
        {
          "data": {
            "image/png": "[encoded data removed]",
            "text/plain": [
              "<Figure size 800x600 with 1 Axes>"
            ]
          },
          "metadata": {},
          "output_type": "display_data"
        }
      ],
      "source": [
        "# TODO : See if user 3342 had other events with a strong outlier\n",
        "new_row = pd.DataFrame({'USER_ID': [3342], 'VARIANT_NAME': ['control'], 'REVENUE': [1500.0]})\n",
        "AB_Test_Results = pd.concat([AB_Test_Results, new_row], ignore_index=True)\n",
        "\n",
        "# Filter the data for user 3342\n",
        "user_3342_data = AB_Test_Results[AB_Test_Results['USER_ID'] == 3342]\n",
        "\n",
        "# Display the data for user 3342\n",
        "print(\"Events for User 3342:\")\n",
        "print(user_3342_data)\n",
        "\n",
        "# Plot a box plot to visually identify outliers\n",
        "plt.figure(figsize=(8, 6))\n",
        "sns.boxplot(data=user_3342_data, x='USER_ID', y='REVENUE')\n",
        "plt.title('Revenue Distribution for User 3342')\n",
        "plt.xlabel('User ID')\n",
        "plt.ylabel('Revenue')\n",
        "plt.grid(axis='y', linestyle='--', alpha=0.7)\n",
        "plt.show()"
      ]
    },
    {
      "cell_type": "markdown",
      "metadata": {
        "id": "rvfqeZW6kkpN"
      },
      "source": [
        "We see that there is only one outlier - in conditions of limited information, we will remove this entry and look at the distribution of data again"
      ]
    },
    {
      "cell_type": "code",
      "execution_count": 54,
      "metadata": {
        "execution": {
          "iopub.execute_input": "2022-09-16T18:23:23.024763Z",
          "iopub.status.busy": "2022-09-16T18:23:23.024282Z",
          "iopub.status.idle": "2022-09-16T18:23:23.031917Z",
          "shell.execute_reply": "2022-09-16T18:23:23.030566Z",
          "shell.execute_reply.started": "2022-09-16T18:23:23.024711Z"
        },
        "id": "9VHXOhaVkkpO",
        "trusted": true
      },
      "outputs": [
        {
          "data": {
            "image/png": "[encoded data removed]",
            "text/plain": [
              "<Figure size 800x600 with 1 Axes>"
            ]
          },
          "metadata": {},
          "output_type": "display_data"
        }
      ],
      "source": [
        "# TODO : We see that there is only one outlier - in conditions of limited information, remove this entry and visualize the distribution of data again.\n",
        "\n",
        "threshold = 3  # Number of standard deviations from the mean to consider as outlier\n",
        "revenue_mean = AB_Test_Results['REVENUE'].mean()\n",
        "revenue_std = AB_Test_Results['REVENUE'].std()\n",
        "\n",
        "# Compute outlier condition\n",
        "outlier_condition = (AB_Test_Results['REVENUE'] - revenue_mean).abs() > threshold * revenue_std\n",
        "\n",
        "# Identify and remove the outlier\n",
        "AB_Test_Results_no_outlier = AB_Test_Results[~outlier_condition]\n",
        "\n",
        "# Visualize the data without the outlier\n",
        "plt.figure(figsize=(8, 6))\n",
        "sns.boxplot(data=AB_Test_Results_no_outlier, x='VARIANT_NAME', y='REVENUE')\n",
        "plt.title('Revenue Distribution Without Outlier')\n",
        "plt.xlabel('Variant Name')\n",
        "plt.ylabel('Revenue')\n",
        "plt.grid(axis='y', linestyle='--', alpha=0.7)\n",
        "plt.show()"
      ]
    },
    {
      "cell_type": "markdown",
      "metadata": {
        "id": "r8pN_6oekkpO"
      },
      "source": [
        "\n",
        "What can you say about the users and their purchases ?"
      ]
    },
    {
      "cell_type": "code",
      "execution_count": 55,
      "metadata": {
        "execution": {
          "iopub.execute_input": "2022-09-16T18:23:23.397266Z",
          "iopub.status.busy": "2022-09-16T18:23:23.396475Z",
          "iopub.status.idle": "2022-09-16T18:23:23.4091Z",
          "shell.execute_reply": "2022-09-16T18:23:23.407843Z",
          "shell.execute_reply.started": "2022-09-16T18:23:23.397231Z"
        },
        "id": "VZ3v8TeekkpO",
        "trusted": true
      },
      "outputs": [
        {
          "name": "stdout",
          "output_type": "stream",
          "text": [
            "Users with both zero and positive revenue:\n",
            "[124, 169, 282, 403, 443, 487, 618, 701, 702, 708, 828, 831, 839, 868, 1035, 1053, 1106, 1252, 1254, 1339, 1883, 1939, 2166, 2181, 2182, 2252, 2364, 2489, 2529, 2767, 2881, 3028, 3198, 3326, 3331, 3566, 3699, 3797, 4113, 4209, 4724, 4858, 4870, 4918, 5046, 5053, 5134, 5205, 5270, 5461, 5597, 5769, 5845, 5900, 6207, 6214, 6271, 6391, 6429, 6430, 6492, 6497, 6614, 6678, 6792, 7206, 7238, 7358, 7613, 7915, 7930, 8020, 8175, 8471, 8479, 8536, 8583, 8700, 8863, 8886, 8920, 8927, 8984, 9150, 9526, 9661, 9669, 9766, 9928, 9942, 9996]\n"
          ]
        }
      ],
      "source": [
        "# TODO : Check if there are users who have records with zero and positive revenue\n",
        "# Group by USER_ID and check if both zero and positive revenue exist\n",
        "user_revenue_summary = AB_Test_Results.groupby('USER_ID')['REVENUE'].apply(lambda x: (x > 0).any() and (x == 0).any())\n",
        "\n",
        "# Filter users with both zero and positive revenue\n",
        "users_with_zero_and_positive_revenue = user_revenue_summary[user_revenue_summary].index\n",
        "records_with_zero_and_positive_revenue = AB_Test_Results[AB_Test_Results['USER_ID'].isin(users_with_zero_and_positive_revenue)]\n",
        "\n",
        "print(\"Users with both zero and positive revenue:\")\n",
        "print(users_with_zero_and_positive_revenue.tolist())"
      ]
    },
    {
      "cell_type": "markdown",
      "metadata": {
        "id": "u_G7PRphkkpO"
      },
      "source": [
        "Can a user have records with both zero and positive revenue ?\n",
        "\n",
        "Let's make the assumption that the records are user visits to the service, and the experimental unit is users.\n"
      ]
    },
    {
      "cell_type": "code",
      "execution_count": 56,
      "metadata": {
        "execution": {
          "iopub.execute_input": "2022-09-16T18:23:23.411317Z",
          "iopub.status.busy": "2022-09-16T18:23:23.410519Z",
          "iopub.status.idle": "2022-09-16T18:23:23.425157Z",
          "shell.execute_reply": "2022-09-16T18:23:23.423982Z",
          "shell.execute_reply.started": "2022-09-16T18:23:23.411275Z"
        },
        "id": "R5GdAtTXkkpP",
        "trusted": true
      },
      "outputs": [
        {
          "name": "stdout",
          "output_type": "stream",
          "text": [
            "Summed revenue for each user:\n",
            "      USER_ID  REVENUE\n",
            "0           2     0.00\n",
            "1           3     0.00\n",
            "2           4     0.00\n",
            "3           5     0.00\n",
            "4           6     0.00\n",
            "...       ...      ...\n",
            "6319     9993     0.00\n",
            "6320     9995     0.00\n",
            "6321     9996     6.46\n",
            "6322     9998     0.00\n",
            "6323    10000     0.00\n",
            "\n",
            "[6324 rows x 2 columns]\n"
          ]
        }
      ],
      "source": [
        "# TODO : Group the data for each user and sum the revenue for each to get one record per user\n",
        "# Group by USER_ID and sum the REVENUE for each user\n",
        "user_revenue_sum = AB_Test_Results.groupby('USER_ID')['REVENUE'].sum().reset_index()\n",
        "\n",
        "# Display the result\n",
        "print(\"Summed revenue for each user:\")\n",
        "print(user_revenue_sum)"
      ]
    },
    {
      "cell_type": "code",
      "execution_count": 57,
      "metadata": {
        "execution": {
          "iopub.execute_input": "2022-09-16T18:23:23.428999Z",
          "iopub.status.busy": "2022-09-16T18:23:23.428689Z",
          "iopub.status.idle": "2022-09-16T18:23:23.783807Z",
          "shell.execute_reply": "2022-09-16T18:23:23.782679Z",
          "shell.execute_reply.started": "2022-09-16T18:23:23.428972Z"
        },
        "id": "Q7H93ZwNkkpP",
        "trusted": true
      },
      "outputs": [
        {
          "data": {
            "image/png": "[encoded data removed]",
            "text/plain": [
              "<Figure size 800x600 with 1 Axes>"
            ]
          },
          "metadata": {},
          "output_type": "display_data"
        },
        {
          "data": {
            "image/png": "[encoded data removed]",
            "text/plain": [
              "<Figure size 800x600 with 1 Axes>"
            ]
          },
          "metadata": {},
          "output_type": "display_data"
        }
      ],
      "source": [
        "# TODO : Visualize the resulting distribution of the data again.\n",
        "\n",
        "user_revenue_sum = AB_Test_Results.groupby('USER_ID')['REVENUE'].sum().reset_index()\n",
        "plt.figure(figsize=(8, 6))\n",
        "\n",
        "sns.boxplot(data=user_revenue_sum, x='REVENUE')\n",
        "plt.title('Distribution of Summed Revenue per User')\n",
        "plt.xlabel('Revenue')\n",
        "plt.show()\n",
        "\n",
        "plt.figure(figsize=(8, 6))\n",
        "sns.histplot(user_revenue_sum['REVENUE'], kde=True, bins=10)\n",
        "plt.title('Histogram of Summed Revenue per User')\n",
        "plt.xlabel('Revenue')\n",
        "plt.ylabel('Frequency')\n",
        "\n",
        "plt.show()"
      ]
    },
    {
      "cell_type": "markdown",
      "metadata": {
        "id": "_NTyRweHkkpP"
      },
      "source": [
        "It should be noted that during the transformation, the quantiles in the test group increased\n",
        "\n",
        "It can be seen that in the test group, almost all quantile statistics, except for the minimum, are at a slightly lower level.\n",
        "\n",
        "Let's look at various statistics in the context of AB test groups for all users"
      ]
    },
    {
      "cell_type": "code",
      "execution_count": 58,
      "metadata": {
        "execution": {
          "iopub.execute_input": "2022-09-16T18:23:23.78594Z",
          "iopub.status.busy": "2022-09-16T18:23:23.785212Z",
          "iopub.status.idle": "2022-09-16T18:23:23.813162Z",
          "shell.execute_reply": "2022-09-16T18:23:23.812388Z",
          "shell.execute_reply.started": "2022-09-16T18:23:23.785905Z"
        },
        "id": "9QF5FZTAkkpP",
        "trusted": true
      },
      "outputs": [
        {
          "name": "stdout",
          "output_type": "stream",
          "text": [
            "  VARIANT_NAME  total_revenue  avg_revenue  user_count  total_records  \\\n",
            "0      control        2143.00      0.42989        3931           4985   \n",
            "1      variant         351.47      0.07007        3934           5016   \n",
            "\n",
            "   relative_change_revenue  relative_change_avg_revenue  \n",
            "0                  0.00000                     0.000000  \n",
            "1                -83.59916                   -83.700521  \n"
          ]
        }
      ],
      "source": [
        "# TODO : get metrics by groups\n",
        "\n",
        "\n",
        "# TODO : create two additional metrics to see relative changes\n",
        "\n",
        "\n",
        "# TODO : add them to the rest of the metrics in a separate group\n",
        "\n",
        "grouped_metrics = AB_Test_Results.groupby('VARIANT_NAME').agg(\n",
        "    total_revenue=('REVENUE', 'sum'),\n",
        "    avg_revenue=('REVENUE', 'mean'),\n",
        "    user_count=('USER_ID', 'nunique'),\n",
        "    total_records=('USER_ID', 'count')\n",
        ").reset_index()\n",
        "\n",
        "control_total_revenue = grouped_metrics[grouped_metrics['VARIANT_NAME'] == 'control']['total_revenue'].values[0]\n",
        "variant_total_revenue = grouped_metrics[grouped_metrics['VARIANT_NAME'] == 'variant']['total_revenue'].values[0]\n",
        "\n",
        "control_avg_revenue = grouped_metrics[grouped_metrics['VARIANT_NAME'] == 'control']['avg_revenue'].values[0]\n",
        "variant_avg_revenue = grouped_metrics[grouped_metrics['VARIANT_NAME'] == 'variant']['avg_revenue'].values[0]\n",
        "\n",
        "relative_change_revenue = ((variant_total_revenue - control_total_revenue) / control_total_revenue) * 100\n",
        "relative_change_avg_revenue = ((variant_avg_revenue - control_avg_revenue) / control_avg_revenue) * 100\n",
        "\n",
        "grouped_metrics['relative_change_revenue'] = grouped_metrics['VARIANT_NAME'].apply(\n",
        "    lambda x: relative_change_revenue if x == 'variant' else 0\n",
        ")\n",
        "grouped_metrics['relative_change_avg_revenue'] = grouped_metrics['VARIANT_NAME'].apply(\n",
        "    lambda x: relative_change_avg_revenue if x == 'variant' else 0\n",
        ")\n",
        "\n",
        "print(grouped_metrics)"
      ]
    },
    {
      "cell_type": "markdown",
      "metadata": {
        "id": "-FEgWEXckkpP"
      },
      "source": [
        "What can you see in the test group about the total amount of revenue, the average check per user, and the number of orders per user slightly increased ?\n",
        "\n",
        "Let's also see how paying users behave :"
      ]
    },
    {
      "cell_type": "code",
      "execution_count": 59,
      "metadata": {
        "execution": {
          "iopub.execute_input": "2022-09-16T18:23:23.814781Z",
          "iopub.status.busy": "2022-09-16T18:23:23.814201Z",
          "iopub.status.idle": "2022-09-16T18:23:23.842362Z",
          "shell.execute_reply": "2022-09-16T18:23:23.841593Z",
          "shell.execute_reply.started": "2022-09-16T18:23:23.814749Z"
        },
        "id": "ZM1LQ1VrkkpQ",
        "trusted": true
      },
      "outputs": [
        {
          "name": "stdout",
          "output_type": "stream",
          "text": [
            "  VARIANT_NAME  total_revenue  avg_revenue  user_count  total_records  \\\n",
            "0      control        2143.00      0.42989        3931           4985   \n",
            "1      variant         351.47      0.07007        3934           5016   \n",
            "\n",
            "   relative_change_revenue  relative_change_avg_revenue  \n",
            "0                  0.00000                     0.000000  \n",
            "1                -83.59916                   -83.700521  \n"
          ]
        }
      ],
      "source": [
        "# TODO : get metrics by groups\n",
        "\n",
        "\n",
        "# TODO : create two additional metrics to see relative changes\n",
        "\n",
        "\n",
        "# TODO : add them to the rest of the metrics in a separate group\n",
        "\n",
        "grouped_metrics = AB_Test_Results.groupby('VARIANT_NAME').agg(\n",
        "    total_revenue=('REVENUE', 'sum'),\n",
        "    avg_revenue=('REVENUE', 'mean'),\n",
        "    user_count=('USER_ID', 'nunique'),\n",
        "    total_records=('USER_ID', 'count')\n",
        ").reset_index()\n",
        "\n",
        "control_total_revenue = grouped_metrics[grouped_metrics['VARIANT_NAME'] == 'control']['total_revenue'].values[0]\n",
        "variant_total_revenue = grouped_metrics[grouped_metrics['VARIANT_NAME'] == 'variant']['total_revenue'].values[0]\n",
        "\n",
        "control_avg_revenue = grouped_metrics[grouped_metrics['VARIANT_NAME'] == 'control']['avg_revenue'].values[0]\n",
        "variant_avg_revenue = grouped_metrics[grouped_metrics['VARIANT_NAME'] == 'variant']['avg_revenue'].values[0]\n",
        "\n",
        "relative_change_revenue = ((variant_total_revenue - control_total_revenue) / control_total_revenue) * 100\n",
        "relative_change_avg_revenue = ((variant_avg_revenue - control_avg_revenue) / control_avg_revenue) * 100\n",
        "\n",
        "relative_change_metrics = pd.DataFrame({\n",
        "    'VARIANT_NAME': ['variant', 'control'],\n",
        "    'relative_change_revenue': [relative_change_revenue, 0],\n",
        "    'relative_change_avg_revenue': [relative_change_avg_revenue, 0]\n",
        "})\n",
        "\n",
        "final_metrics = pd.merge(grouped_metrics, relative_change_metrics, on='VARIANT_NAME', how='left')\n",
        "\n",
        "print(final_metrics)\n"
      ]
    },
    {
      "cell_type": "markdown",
      "metadata": {
        "id": "RozYt1eZkkpQ"
      },
      "source": [
        "Let's look at the distributions of all and only paying users"
      ]
    },
    {
      "cell_type": "code",
      "execution_count": 60,
      "metadata": {
        "execution": {
          "iopub.execute_input": "2022-09-16T18:23:23.844477Z",
          "iopub.status.busy": "2022-09-16T18:23:23.843826Z",
          "iopub.status.idle": "2022-09-16T18:23:24.587221Z",
          "shell.execute_reply": "2022-09-16T18:23:24.585887Z",
          "shell.execute_reply.started": "2022-09-16T18:23:23.844435Z"
        },
        "id": "Xmm-HM-ZkkpQ",
        "trusted": true
      },
      "outputs": [
        {
          "name": "stderr",
          "output_type": "stream",
          "text": [
            "/var/folders/_7/7nx4t_6s6995xg_cj866wrmr0000gn/T/ipykernel_63290/4101851425.py:3: UserWarning: \n",
            "\n",
            "`distplot` is a deprecated function and will be removed in seaborn v0.14.0.\n",
            "\n",
            "Please adapt your code to use either `displot` (a figure-level function with\n",
            "similar flexibility) or `histplot` (an axes-level function for histograms).\n",
            "\n",
            "For a guide to updating your code to use the new functions, please see\n",
            "https://gist.github.com/mwaskom/de44147ed2974457ad6372750bbe5751\n",
            "\n",
            "  sns.distplot(df.loc[df['VARIANT_NAME'] == 'control', 'REVENUE'], ax = axes[0], label='control')\n",
            "/var/folders/_7/7nx4t_6s6995xg_cj866wrmr0000gn/T/ipykernel_63290/4101851425.py:4: UserWarning: \n",
            "\n",
            "`distplot` is a deprecated function and will be removed in seaborn v0.14.0.\n",
            "\n",
            "Please adapt your code to use either `displot` (a figure-level function with\n",
            "similar flexibility) or `histplot` (an axes-level function for histograms).\n",
            "\n",
            "For a guide to updating your code to use the new functions, please see\n",
            "https://gist.github.com/mwaskom/de44147ed2974457ad6372750bbe5751\n",
            "\n",
            "  sns.distplot(df.loc[df['VARIANT_NAME'] == 'variant', 'REVENUE'], ax = axes[0], label='variant')\n",
            "/var/folders/_7/7nx4t_6s6995xg_cj866wrmr0000gn/T/ipykernel_63290/4101851425.py:8: UserWarning: \n",
            "\n",
            "`distplot` is a deprecated function and will be removed in seaborn v0.14.0.\n",
            "\n",
            "Please adapt your code to use either `displot` (a figure-level function with\n",
            "similar flexibility) or `histplot` (an axes-level function for histograms).\n",
            "\n",
            "For a guide to updating your code to use the new functions, please see\n",
            "https://gist.github.com/mwaskom/de44147ed2974457ad6372750bbe5751\n",
            "\n",
            "  sns.distplot(df.loc[(df['VARIANT_NAME'] == 'control') & (df['REVENUE'] > 0), 'REVENUE'], ax = axes[1], label='control' )\n",
            "/var/folders/_7/7nx4t_6s6995xg_cj866wrmr0000gn/T/ipykernel_63290/4101851425.py:9: UserWarning: \n",
            "\n",
            "`distplot` is a deprecated function and will be removed in seaborn v0.14.0.\n",
            "\n",
            "Please adapt your code to use either `displot` (a figure-level function with\n",
            "similar flexibility) or `histplot` (an axes-level function for histograms).\n",
            "\n",
            "For a guide to updating your code to use the new functions, please see\n",
            "https://gist.github.com/mwaskom/de44147ed2974457ad6372750bbe5751\n",
            "\n",
            "  sns.distplot(df.loc[(df['VARIANT_NAME'] == 'variant') & (df['REVENUE'] > 0), 'REVENUE'], ax = axes[1], label='variant' )\n"
          ]
        },
        {
          "data": {
            "image/png": "[encoded data removed]",
            "text/plain": [
              "<Figure size 1000x800 with 2 Axes>"
            ]
          },
          "metadata": {},
          "output_type": "display_data"
        }
      ],
      "source": [
        "f, axes = plt.subplots(2, figsize=(10,8))\n",
        "# build graphs of distributions of all users\n",
        "sns.distplot(df.loc[df['VARIANT_NAME'] == 'control', 'REVENUE'], ax = axes[0], label='control')\n",
        "sns.distplot(df.loc[df['VARIANT_NAME'] == 'variant', 'REVENUE'], ax = axes[0], label='variant')\n",
        "axes[0].set_title('Distribution of revenue of all users')\n",
        "\n",
        "# build graphs of distributions of paying users\n",
        "sns.distplot(df.loc[(df['VARIANT_NAME'] == 'control') & (df['REVENUE'] > 0), 'REVENUE'], ax = axes[1], label='control' )\n",
        "sns.distplot(df.loc[(df['VARIANT_NAME'] == 'variant') & (df['REVENUE'] > 0), 'REVENUE'], ax = axes[1], label='variant' )\n",
        "axes[1].set_title('Paying user revenue distribution')\n",
        "plt.legend()\n",
        "plt.subplots_adjust(hspace = 0.3)"
      ]
    },
    {
      "cell_type": "markdown",
      "metadata": {
        "id": "5vwsQSeVkkpQ"
      },
      "source": [
        "### Statistical Analysis <a name=\"Statistical\"/>"
      ]
    },
    {
      "cell_type": "markdown",
      "metadata": {
        "id": "lJP78Hc_kkpQ"
      },
      "source": [
        "#### Checking if the distribution is normal"
      ]
    },
    {
      "cell_type": "markdown",
      "metadata": {
        "id": "BVRKdz3WkkpQ"
      },
      "source": [
        "Based on their previous graph, we see that the data is not normally distributed."
      ]
    },
    {
      "cell_type": "code",
      "execution_count": 63,
      "metadata": {
        "execution": {
          "iopub.execute_input": "2022-09-16T18:23:24.589024Z",
          "iopub.status.busy": "2022-09-16T18:23:24.588685Z",
          "iopub.status.idle": "2022-09-16T18:23:24.597871Z",
          "shell.execute_reply": "2022-09-16T18:23:24.596794Z",
          "shell.execute_reply.started": "2022-09-16T18:23:24.588995Z"
        },
        "id": "je2NXscMkkpQ",
        "trusted": true
      },
      "outputs": [
        {
          "name": "stdout",
          "output_type": "stream",
          "text": [
            "Control group (all users) p-value: 2.4983285100057203e-95\n",
            "Variant group (all users) p-value: 2.7310104028899288e-95\n",
            "Control group (paying users) p-value: 6.50334178109615e-18\n",
            "Variant group (paying users) p-value: 2.114043206787204e-15\n",
            "Control group (all users) is likely not normally distributed.\n",
            "Variant group (all users) is likely not normally distributed.\n",
            "Control group (paying users) is likely not normally distributed.\n",
            "Variant group (paying users) is likely not normally distributed.\n"
          ]
        },
        {
          "name": "stderr",
          "output_type": "stream",
          "text": [
            "/Library/Frameworks/Python.framework/Versions/3.12/lib/python3.12/site-packages/scipy/stats/_axis_nan_policy.py:573: UserWarning: scipy.stats.shapiro: For N > 5000, computed p-value may not be accurate. Current N is 5016.\n",
            "  res = hypotest_fun_out(*samples, **kwds)\n"
          ]
        }
      ],
      "source": [
        "# TODO : Use the Shapiro-Wilk criterion to confirm it\n",
        "import scipy.stats as stats\n",
        "import seaborn as sns\n",
        "import matplotlib.pyplot as plt\n",
        "# Shapiro-Wilk test for normality\n",
        "# All users (control group)\n",
        "control_all_revenue = df.loc[df['VARIANT_NAME'] == 'control', 'REVENUE']\n",
        "stat, p_value_control_all = stats.shapiro(control_all_revenue)\n",
        "\n",
        "# All users (variant group)\n",
        "variant_all_revenue = df.loc[df['VARIANT_NAME'] == 'variant', 'REVENUE']\n",
        "stat, p_value_variant_all = stats.shapiro(variant_all_revenue)\n",
        "\n",
        "# Paying users (control group)\n",
        "control_paying_revenue = df.loc[(df['VARIANT_NAME'] == 'control') & (df['REVENUE'] > 0), 'REVENUE']\n",
        "stat, p_value_control_paying = stats.shapiro(control_paying_revenue)\n",
        "\n",
        "# Paying users (variant group)\n",
        "variant_paying_revenue = df.loc[(df['VARIANT_NAME'] == 'variant') & (df['REVENUE'] > 0), 'REVENUE']\n",
        "stat, p_value_variant_paying = stats.shapiro(variant_paying_revenue)\n",
        "\n",
        "# Print results\n",
        "print(f\"Control group (all users) p-value: {p_value_control_all}\")\n",
        "print(f\"Variant group (all users) p-value: {p_value_variant_all}\")\n",
        "print(f\"Control group (paying users) p-value: {p_value_control_paying}\")\n",
        "print(f\"Variant group (paying users) p-value: {p_value_variant_paying}\")\n",
        "\n",
        "# Interpretation\n",
        "if p_value_control_all > 0.05:\n",
        "    print(\"Control group (all users) is likely normally distributed.\")\n",
        "else:\n",
        "    print(\"Control group (all users) is likely not normally distributed.\")\n",
        "\n",
        "if p_value_variant_all > 0.05:\n",
        "    print(\"Variant group (all users) is likely normally distributed.\")\n",
        "else:\n",
        "    print(\"Variant group (all users) is likely not normally distributed.\")\n",
        "\n",
        "if p_value_control_paying > 0.05:\n",
        "    print(\"Control group (paying users) is likely normally distributed.\")\n",
        "else:\n",
        "    print(\"Control group (paying users) is likely not normally distributed.\")\n",
        "\n",
        "if p_value_variant_paying > 0.05:\n",
        "    print(\"Variant group (paying users) is likely normally distributed.\")\n",
        "else:\n",
        "    print(\"Variant group (paying users) is likely not normally distributed.\")"
      ]
    },
    {
      "cell_type": "markdown",
      "metadata": {
        "id": "Pq-RbAERkkpR"
      },
      "source": [
        "Is the null hypothesis about the normal distribution of the data rejected ?"
      ]
    },
    {
      "cell_type": "markdown",
      "metadata": {
        "id": "nYxHXTxpkkpR"
      },
      "source": [
        "#### Mann-Whitney test"
      ]
    },
    {
      "cell_type": "markdown",
      "metadata": {
        "id": "eGKBrlFnkkpR"
      },
      "source": [
        "Let's check the value of the statistics of the Mann-Whitney test. Some sources have a limitation of applicability in case of duplicate data. There are a lot of repetitions in our sample, and especially a lot of zero values, so in this case we need to be careful about this criterion."
      ]
    },
    {
      "cell_type": "code",
      "execution_count": 35,
      "metadata": {
        "execution": {
          "iopub.execute_input": "2022-09-16T18:23:24.600052Z",
          "iopub.status.busy": "2022-09-16T18:23:24.599408Z",
          "iopub.status.idle": "2022-09-16T18:23:24.609697Z",
          "shell.execute_reply": "2022-09-16T18:23:24.608442Z",
          "shell.execute_reply.started": "2022-09-16T18:23:24.600019Z"
        },
        "id": "ftj_LlaZkkpR",
        "trusted": true
      },
      "outputs": [
        {
          "data": {
            "text/plain": [
              "REVENUE\n",
              "True     9848\n",
              "False     152\n",
              "Name: count, dtype: int64"
            ]
          },
          "execution_count": 35,
          "metadata": {},
          "output_type": "execute_result"
        }
      ],
      "source": [
        "(df['REVENUE'] == 0).value_counts()"
      ]
    },
    {
      "cell_type": "code",
      "execution_count": 36,
      "metadata": {
        "execution": {
          "iopub.execute_input": "2022-09-16T18:23:24.611478Z",
          "iopub.status.busy": "2022-09-16T18:23:24.611079Z",
          "iopub.status.idle": "2022-09-16T18:23:24.627499Z",
          "shell.execute_reply": "2022-09-16T18:23:24.626266Z",
          "shell.execute_reply.started": "2022-09-16T18:23:24.611448Z"
        },
        "id": "liLsCl00kkpR",
        "trusted": true
      },
      "outputs": [],
      "source": [
        "# TODO : Check on the data of all users the value of the statistics of the Mann-Whitney test"
      ]
    },
    {
      "cell_type": "code",
      "execution_count": 37,
      "metadata": {
        "execution": {
          "iopub.execute_input": "2022-09-16T18:23:24.632496Z",
          "iopub.status.busy": "2022-09-16T18:23:24.632144Z",
          "iopub.status.idle": "2022-09-16T18:23:24.644752Z",
          "shell.execute_reply": "2022-09-16T18:23:24.643569Z",
          "shell.execute_reply.started": "2022-09-16T18:23:24.632466Z"
        },
        "id": "tCCcVEM4kkpS",
        "trusted": true
      },
      "outputs": [],
      "source": [
        "# TODO : Check on the data of only the users that pay, the value of the statistics of the Mann-Whitney test"
      ]
    },
    {
      "cell_type": "markdown",
      "metadata": {
        "execution": {
          "iopub.execute_input": "2022-09-16T17:49:10.365079Z",
          "iopub.status.busy": "2022-09-16T17:49:10.3638Z",
          "iopub.status.idle": "2022-09-16T17:49:10.369587Z",
          "shell.execute_reply": "2022-09-16T17:49:10.368719Z",
          "shell.execute_reply.started": "2022-09-16T17:49:10.365037Z"
        },
        "id": "XBp259a8kkpS"
      },
      "source": [
        "#### Bootstrap"
      ]
    },
    {
      "cell_type": "markdown",
      "metadata": {
        "id": "0xpO-CmekkpS"
      },
      "source": [
        "In order to get more complete information about the differences between the average values of the ab test groups, we will use bootstap.\n",
        "\n",
        "Let's create a function to get back samples and get a confidence interval, and then look at the sample statistics"
      ]
    },
    {
      "cell_type": "code",
      "execution_count": 38,
      "metadata": {
        "execution": {
          "iopub.execute_input": "2022-09-16T18:23:24.646134Z",
          "iopub.status.busy": "2022-09-16T18:23:24.645844Z",
          "iopub.status.idle": "2022-09-16T18:23:24.653955Z",
          "shell.execute_reply": "2022-09-16T18:23:24.652612Z",
          "shell.execute_reply.started": "2022-09-16T18:23:24.646108Z"
        },
        "id": "3yLh1toVkkpS",
        "trusted": true
      },
      "outputs": [],
      "source": [
        "def get_bootstrap_samples(data, n_samples=1000):\n",
        "    indices = np.random.randint(0, len(data), (n_samples, len(data)))\n",
        "    samples = data[indices]\n",
        "    return samples\n",
        "\n",
        "def stat_intervals(stat, alpha=0.05):\n",
        "    boundaries = np.percentile(stat, [100 * alpha / 2., 100 * (1 - alpha / 2.)])\n",
        "    return boundaries"
      ]
    },
    {
      "cell_type": "code",
      "execution_count": 39,
      "metadata": {
        "execution": {
          "iopub.execute_input": "2022-09-16T18:23:24.656775Z",
          "iopub.status.busy": "2022-09-16T18:23:24.656318Z",
          "iopub.status.idle": "2022-09-16T18:23:25.935543Z",
          "shell.execute_reply": "2022-09-16T18:23:25.934505Z",
          "shell.execute_reply.started": "2022-09-16T18:23:24.656733Z"
        },
        "id": "vAgJqb7lkkpS",
        "trusted": true
      },
      "outputs": [],
      "source": [
        "# TODO : Generate samples for all users"
      ]
    },
    {
      "cell_type": "code",
      "execution_count": 40,
      "metadata": {
        "execution": {
          "iopub.execute_input": "2022-09-16T18:23:25.937087Z",
          "iopub.status.busy": "2022-09-16T18:23:25.936759Z",
          "iopub.status.idle": "2022-09-16T18:23:25.964331Z",
          "shell.execute_reply": "2022-09-16T18:23:25.96321Z",
          "shell.execute_reply.started": "2022-09-16T18:23:25.937057Z"
        },
        "id": "pwXNe9H4kkpS",
        "trusted": true
      },
      "outputs": [],
      "source": [
        "# TODO : Generate samples for only paying users"
      ]
    },
    {
      "cell_type": "markdown",
      "metadata": {
        "id": "7OsUPGxnkkpT"
      },
      "source": [
        "Let's look at the distribution of means in the ab test groups"
      ]
    },
    {
      "cell_type": "code",
      "execution_count": 41,
      "metadata": {
        "execution": {
          "iopub.execute_input": "2022-09-16T18:23:25.96576Z",
          "iopub.status.busy": "2022-09-16T18:23:25.965453Z",
          "iopub.status.idle": "2022-09-16T18:23:26.299852Z",
          "shell.execute_reply": "2022-09-16T18:23:26.298725Z",
          "shell.execute_reply.started": "2022-09-16T18:23:25.965732Z"
        },
        "id": "CvNnX2ALkkpT",
        "trusted": true
      },
      "outputs": [
        {
          "ename": "NameError",
          "evalue": "name 'control' is not defined",
          "output_type": "error",
          "traceback": [
            "\u001b[0;31m---------------------------------------------------------------------------\u001b[0m",
            "\u001b[0;31mNameError\u001b[0m                                 Traceback (most recent call last)",
            "Cell \u001b[0;32mIn[41], line 3\u001b[0m\n\u001b[1;32m      1\u001b[0m f, ax \u001b[38;5;241m=\u001b[39m plt\u001b[38;5;241m.\u001b[39msubplots()\n\u001b[1;32m      2\u001b[0m \u001b[38;5;66;03m# plt.figure(figsize=(20,5))\u001b[39;00m\n\u001b[0;32m----> 3\u001b[0m sns\u001b[38;5;241m.\u001b[39mkdeplot(np\u001b[38;5;241m.\u001b[39mmean(\u001b[43mcontrol\u001b[49m, axis\u001b[38;5;241m=\u001b[39m\u001b[38;5;241m1\u001b[39m), shade\u001b[38;5;241m=\u001b[39m\u001b[38;5;28;01mTrue\u001b[39;00m, label\u001b[38;5;241m=\u001b[39m\u001b[38;5;124m'\u001b[39m\u001b[38;5;124mcontrol\u001b[39m\u001b[38;5;124m'\u001b[39m)\n\u001b[1;32m      4\u001b[0m sns\u001b[38;5;241m.\u001b[39mkdeplot(np\u001b[38;5;241m.\u001b[39mmean(variant, axis\u001b[38;5;241m=\u001b[39m\u001b[38;5;241m1\u001b[39m), shade\u001b[38;5;241m=\u001b[39m\u001b[38;5;28;01mTrue\u001b[39;00m, label\u001b[38;5;241m=\u001b[39m\u001b[38;5;124m'\u001b[39m\u001b[38;5;124mvariant\u001b[39m\u001b[38;5;124m'\u001b[39m)\n\u001b[1;32m      5\u001b[0m plt\u001b[38;5;241m.\u001b[39mtitle(\u001b[38;5;124m'\u001b[39m\u001b[38;5;124mSample mean distribution for all users\u001b[39m\u001b[38;5;124m'\u001b[39m)\n",
            "\u001b[0;31mNameError\u001b[0m: name 'control' is not defined"
          ]
        },
        {
          "data": {
            "image/png": "[encoded data removed]",
            "text/plain": [
              "<Figure size 640x480 with 1 Axes>"
            ]
          },
          "metadata": {},
          "output_type": "display_data"
        }
      ],
      "source": [
        "f, ax = plt.subplots()\n",
        "# plt.figure(figsize=(20,5))\n",
        "sns.kdeplot(np.mean(control, axis=1), shade=True, label='control')\n",
        "sns.kdeplot(np.mean(variant, axis=1), shade=True, label='variant')\n",
        "plt.title('Sample mean distribution for all users')"
      ]
    },
    {
      "cell_type": "code",
      "execution_count": null,
      "metadata": {
        "execution": {
          "iopub.execute_input": "2022-09-16T18:23:26.301641Z",
          "iopub.status.busy": "2022-09-16T18:23:26.301272Z",
          "iopub.status.idle": "2022-09-16T18:23:26.62483Z",
          "shell.execute_reply": "2022-09-16T18:23:26.623431Z",
          "shell.execute_reply.started": "2022-09-16T18:23:26.301609Z"
        },
        "id": "v4_qUms4kkpT",
        "trusted": true
      },
      "outputs": [],
      "source": [
        "f, ax = plt.subplots()\n",
        "# plt.figure(figsize=(20,5))\n",
        "sns.kdeplot(np.mean(control_paid, axis=1), shade=True, label='control')\n",
        "sns.kdeplot(np.mean(variant_paid, axis=1), shade=True, label='variant')\n",
        "plt.title('Sample mean distribution for paying users')"
      ]
    },
    {
      "cell_type": "markdown",
      "metadata": {
        "id": "8MXUz0CEkkpT"
      },
      "source": [
        "Do you see any difference ? What about the confidence intervals ? Conclude.\n",
        "\n",
        "Let's evaluate the difference between the groups: look at the distribution of the mean difference and build confidence intervals for it. To do this, we will create a function for visualization"
      ]
    },
    {
      "cell_type": "code",
      "execution_count": null,
      "metadata": {
        "execution": {
          "iopub.execute_input": "2022-09-16T18:23:26.628052Z",
          "iopub.status.busy": "2022-09-16T18:23:26.62643Z",
          "iopub.status.idle": "2022-09-16T18:23:26.639469Z",
          "shell.execute_reply": "2022-09-16T18:23:26.638694Z",
          "shell.execute_reply.started": "2022-09-16T18:23:26.628017Z"
        },
        "id": "bBIz3jkCkkpT",
        "trusted": true
      },
      "outputs": [],
      "source": [
        "def plot_distribution_and_stat_intervals(variant, control, title, alpha=0.05):\n",
        "    \"\"\" Plot the distribution of the mean difference and return the confidence intervals \"\"\"\n",
        "    f, ax = plt.subplots()\n",
        "    # get data for coloring confidence intervals\n",
        "    points = sns.kdeplot(variant - control, shade=True).get_lines()[0].get_data()\n",
        "    x = points[0]\n",
        "    y = points[1]\n",
        "    ymin, ymax = plt.ylim()\n",
        "    # highlight the zero value and the bounds of the confidence interval\n",
        "    plt.vlines(0, 0, ymax, label='0', color='gray')\n",
        "    plt.vlines(stat_intervals(variant - control, alpha)[0], 0, ymax, linestyles=\"dashed\")\n",
        "    plt.vlines(stat_intervals(variant - control, alpha)[1], 0, ymax, linestyles=\"dashed\")\n",
        "    # color the confidence interval and zones outside it\n",
        "    plt.fill_between(x,y,\n",
        "                     where = (x >= stat_intervals(variant - control, alpha)[1]),\n",
        "                     color='gainsboro')\n",
        "    plt.fill_between(x,y,\n",
        "                     where = (x <= stat_intervals(variant - control, alpha)[0]),\n",
        "                     color='gainsboro')\n",
        "    plt.fill_between(x,y,\n",
        "                     where = ((x >= stat_intervals(variant - control, alpha)[0])\n",
        "                              & (x <= stat_intervals(variant - control, alpha)[1])),\n",
        "                     color='red',\n",
        "                     label = '95% confidence interval')\n",
        "    plt.title(f'Distribution of difference between means (variant - control) {title}; {100*(1-alpha)}% Confidence interval for difference of means: {stat_intervals(variant - control, alpha)}')\n",
        "    plt.legend(prop={'size':13})\n",
        "    # return confidence interval data\n",
        "    return stat_intervals(variant - control)"
      ]
    },
    {
      "cell_type": "markdown",
      "metadata": {
        "id": "ZIUmqXtHkkpT"
      },
      "source": [
        "Let's build a graph of the distribution of the difference in the means and get a confidence interval\n",
        "\n",
        "For all users"
      ]
    },
    {
      "cell_type": "code",
      "execution_count": null,
      "metadata": {
        "execution": {
          "iopub.execute_input": "2022-09-16T18:23:26.641004Z",
          "iopub.status.busy": "2022-09-16T18:23:26.640692Z",
          "iopub.status.idle": "2022-09-16T18:23:26.655336Z",
          "shell.execute_reply": "2022-09-16T18:23:26.654163Z",
          "shell.execute_reply.started": "2022-09-16T18:23:26.640977Z"
        },
        "id": "eQq8UewNkkpT",
        "trusted": true
      },
      "outputs": [],
      "source": [
        "plot_distribution_and_stat_intervals(np.mean(variant, axis=1),\n",
        "                                     np.mean(control, axis=1),\n",
        "                                     title='all users')"
      ]
    },
    {
      "cell_type": "code",
      "execution_count": null,
      "metadata": {
        "execution": {
          "iopub.execute_input": "2022-09-16T18:23:26.657231Z",
          "iopub.status.busy": "2022-09-16T18:23:26.656914Z",
          "iopub.status.idle": "2022-09-16T18:23:26.666176Z",
          "shell.execute_reply": "2022-09-16T18:23:26.664922Z",
          "shell.execute_reply.started": "2022-09-16T18:23:26.65719Z"
        },
        "id": "mOb8VkPAkkpT",
        "trusted": true
      },
      "outputs": [],
      "source": [
        "plot_distribution_and_stat_intervals(np.mean(variant_paid, axis=1),\n",
        "                                     np.mean(control_paid, axis=1),\n",
        "                                     title='paying users')"
      ]
    },
    {
      "cell_type": "markdown",
      "metadata": {
        "id": "5KFSGNjOkkpU"
      },
      "source": [
        "What can you observe ? Conclude about the statistical change in average revenue between A/B test groups.\n"
      ]
    }
  ],
  "metadata": {
    "colab": {
      "provenance": []
    },
    "kaggle": {
      "accelerator": "none",
      "dataSources": [
        {
          "datasetId": 2479030,
          "sourceId": 4213024,
          "sourceType": "datasetVersion"
        }
      ],
      "dockerImageVersionId": 30235,
      "isGpuEnabled": false,
      "isInternetEnabled": false,
      "language": "python",
      "sourceType": "notebook"
    },
    "kernelspec": {
      "display_name": "Python 3",
      "language": "python",
      "name": "python3"
    },
    "language_info": {
      "codemirror_mode": {
        "name": "ipython",
        "version": 3
      },
      "file_extension": ".py",
      "mimetype": "text/x-python",
      "name": "python",
      "nbconvert_exporter": "python",
      "pygments_lexer": "ipython3",
      "version": "3.12.6"
    }
  },
  "nbformat": 4,
  "nbformat_minor": 0
}

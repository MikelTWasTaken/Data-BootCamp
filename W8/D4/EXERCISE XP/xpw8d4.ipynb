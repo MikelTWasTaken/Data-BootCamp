{
 "cells": [
  {
   "cell_type": "markdown",
   "metadata": {
    "vscode": {
     "languageId": "plaintext"
    }
   },
   "source": [
    "\n",
    "## 🌟 Exercise 1: Calculating Required Sample Size\n",
    "You are planning an A/B test to evaluate the impact of a new email subject line on the open rate. Based on past data, you expect a small effect size of 0.3 (an increase from 20% to 23% in the open rate). You aim for an 80% chance (power = 0.8) of detecting this effect if it exists, with a 5% significance level (α = 0.05).\n",
    "\n",
    "Calculate the required sample size per group using Python’s statsmodels library.\n",
    "What sample size is needed for each group to ensure your test is properly powered?\n",
    "\n",
    "\n",
    "## 🌟 Exercise 2: Understanding the Relationship Between Effect Size and Sample Size\n",
    "Using the same A/B test setup as in Exercise 1, you want to explore how changing the expected effect size impacts the required sample size.\n",
    "\n",
    "Calculate the required sample size for the following effect sizes: 0.2, 0.4, and 0.5, keeping the significance level and power the same.\n",
    "How does the sample size change as the effect size increases? Explain why this happens.\n",
    "\n",
    "\n",
    "## 🌟 Exercise 3: Exploring the Impact of Statistical Power\n",
    "Imagine you are conducting an A/B test where you expect a small effect size of 0.2. You initially plan for a power of 0.8 but wonder how increasing or decreasing the desired power level impacts the required sample size.\n",
    "\n",
    "Calculate the required sample size for power levels of 0.7, 0.8, and 0.9, keeping the effect size at 0.2 and significance level at 0.05.\n",
    "Question: How does the required sample size change with different levels of statistical power? Why is this understanding important when designing A/B tests?\n",
    "\n",
    "\n",
    "## 🌟 Exercise 4: Implementing Sequential Testing\n",
    "You are running an A/B test on two versions of a product page to increase the purchase rate. You plan to monitor the results weekly and stop the test early if one version shows a significant improvement.\n",
    "\n",
    "Define your stopping criteria.\n",
    "Decide how you would implement sequential testing in this scenario.\n",
    "At the end of week three, Version B has a p-value of 0.02. What would you do next?\n",
    "\n",
    "\n",
    "## 🌟 Exercise 5: Applying Bayesian A/B Testing\n",
    "You’re testing a new feature in your app, and you want to use a Bayesian approach. Initially, you believe the new feature has a 50% chance of improving user engagement. After collecting data, your analysis suggests a 65% probability that the new feature is better.\n",
    "\n",
    "Describe how you would set up your prior belief.\n",
    "After collecting data, how does the updated belief (posterior distribution) influence your decision?\n",
    "What would you do if the posterior probability was only 55%?\n",
    "\n",
    "\n",
    "## 🌟 Exercise 6: Implementing Adaptive Experimentation\n",
    "You’re running a test with three different website layouts to increase user engagement. Initially, each layout gets 33% of the traffic. After the first week, Layout C shows higher engagement.\n",
    "\n",
    "Explain how you would adjust the traffic allocation after the first week.\n",
    "Describe how you would continue to adapt the experiment in the following weeks.\n",
    "What challenges might you face with adaptive experimentation, and how would you address them?"
   ]
  },
  {
   "cell_type": "code",
   "execution_count": null,
   "metadata": {},
   "outputs": [],
   "source": [
    "You are planning an A/B test to evaluate the impact of a new email subject line on the open rate. Based on past data, you expect a small effect size of 0.3 (an increase from 20% to 23% in the open rate). You aim for an 80% chance (power = 0.8) of detecting this effect if it exists, with a 5% significance level (α = 0.05).\n",
    "\n",
    "Calculate the required sample size per group using Python’s statsmodels library.\n",
    "What sample size is needed for each group to ensure your test is properly powered?"
   ]
  },
  {
   "cell_type": "code",
   "execution_count": 1,
   "metadata": {},
   "outputs": [
    {
     "name": "stdout",
     "output_type": "stream",
     "text": [
      "Required sample size per group: 175.38\n"
     ]
    }
   ],
   "source": [
    "from statsmodels.stats.power import tt_ind_solve_power\n",
    "effect_size = 0.3  # Small effect size\n",
    "alpha = 0.05       # Significance level\n",
    "power = 0.8        # Power of the test\n",
    "ratio = 1          # Equal group sizes\n",
    "\n",
    "sample_size_per_group = tt_ind_solve_power(effect_size=effect_size, \n",
    "                                           alpha=alpha, \n",
    "                                           power=power, \n",
    "                                           ratio=ratio, \n",
    "                                           alternative='two-sided')\n",
    "\n",
    "print(f\"Required sample size per group: {sample_size_per_group:.2f}\")"
   ]
  },
  {
   "cell_type": "markdown",
   "metadata": {},
   "source": [
    "Using the same A/B test setup as in Exercise 1, you want to explore how changing the expected effect size impacts the required sample size.\n",
    "\n",
    "Calculate the required sample size for the following effect sizes: 0.2, 0.4, and 0.5, keeping the significance level and power the same.\n",
    "How does the sample size change as the effect size increases? Explain why this happens.\n"
   ]
  },
  {
   "cell_type": "code",
   "execution_count": 6,
   "metadata": {},
   "outputs": [
    {
     "name": "stdout",
     "output_type": "stream",
     "text": [
      "Effect size: 0.2, Required sample size per group: 393.41\n",
      "Effect size: 0.4, Required sample size per group: 99.08\n",
      "Effect size: 0.5, Required sample size per group: 63.77\n"
     ]
    }
   ],
   "source": [
    "from statsmodels.stats.power import tt_ind_solve_power\n",
    "effect_size = [0.2, 0.4, 0.5]\n",
    "for size in effect_size:\n",
    "    sample_size_per_group = tt_ind_solve_power(effect_size=size,\n",
    "                                                  alpha=0.05,\n",
    "                                                  power=0.8,\n",
    "                                                  ratio=1,\n",
    "                                                  alternative='two-sided')\n",
    "    print(f\"Effect size: {size}, Required sample size per group: {sample_size_per_group:.2f}\")\n"
   ]
  },
  {
   "cell_type": "markdown",
   "metadata": {},
   "source": [
    "Imagine you are conducting an A/B test where you expect a small effect size of 0.2. You initially plan for a power of 0.8 but wonder how increasing or decreasing the desired power level impacts the required sample size.\n",
    "\n",
    "Calculate the required sample size for power levels of 0.7, 0.8, and 0.9, keeping the effect size at 0.2 and significance level at 0.05.\n",
    "Question: How does the required sample size change with different levels of statistical power? Why is this understanding important when designing A/B tests?\n"
   ]
  },
  {
   "cell_type": "code",
   "execution_count": 8,
   "metadata": {},
   "outputs": [
    {
     "name": "stdout",
     "output_type": "stream",
     "text": [
      "Required sample size per group: 309.56\n",
      "Required sample size per group: 393.41\n",
      "Required sample size per group: 526.33\n"
     ]
    }
   ],
   "source": [
    "from statsmodels.stats.power import tt_ind_solve_power\n",
    "power = [0.7,0.8, 0.9]\n",
    "for p in power:\n",
    "    sample_size_per_group = tt_ind_solve_power(effect_size=0.2, \n",
    "                                           alpha=0.05, \n",
    "                                           power=p, \n",
    "                                           ratio=1, \n",
    "                                           alternative='two-sided')\n",
    "    print(f\"Required sample size per group: {sample_size_per_group:.2f}\")"
   ]
  },
  {
   "cell_type": "markdown",
   "metadata": {},
   "source": [
    "You are running an A/B test on two versions of a product page to increase the purchase rate. You plan to monitor the results weekly and stop the test early if one version shows a significant improvement.\n",
    "\n",
    "Define your stopping criteria.\n",
    "Decide how you would implement sequential testing in this scenario.\n",
    "At the end of week three, Version B has a p-value of 0.02. What would you do next?"
   ]
  },
  {
   "cell_type": "code",
   "execution_count": 9,
   "metadata": {},
   "outputs": [
    {
     "name": "stdout",
     "output_type": "stream",
     "text": [
      "Look 1: p-value=0.1, reject null hypothesis=False\n",
      "Look 2: p-value=0.03, reject null hypothesis=False\n",
      "Look 3: p-value=0.02, reject null hypothesis=False\n",
      "Continue the test: no significant difference yet.\n"
     ]
    }
   ],
   "source": [
    "from statsmodels.stats.multitest import multipletests\n",
    "import numpy as np\n",
    "\n",
    "# Define parameters\n",
    "alpha = 0.05  # Total significance level\n",
    "n_looks = 3   # Number of planned looks\n",
    "p_values = [0.1, 0.03, 0.02]  # Example p-values from sequential tests\n",
    "\n",
    "# Adjust significance thresholds using Bonferroni correction\n",
    "adjusted_alpha = alpha / n_looks  # Bonferroni threshold for each look\n",
    "\n",
    "# Apply adjustment to p-values\n",
    "results = multipletests(p_values, alpha=alpha, method='bonferroni')\n",
    "\n",
    "# Check if significant at any look\n",
    "for i, (p_val, reject) in enumerate(zip(p_values, results[0])):\n",
    "    print(f\"Look {i+1}: p-value={p_val}, reject null hypothesis={reject}\")\n",
    "\n",
    "# Stop the test if any hypothesis is rejected\n",
    "if any(results[0]):\n",
    "    print(\"Stop the test: a significant difference is detected.\")\n",
    "else:\n",
    "    print(\"Continue the test: no significant difference yet.\")"
   ]
  },
  {
   "cell_type": "markdown",
   "metadata": {},
   "source": [
    "You’re testing a new feature in your app, and you want to use a Bayesian approach. Initially, you believe the new feature has a 50% chance of improving user engagement. After collecting data, your analysis suggests a 65% probability that the new feature is better.\n",
    "\n",
    "Describe how you would set up your prior belief.\n",
    "After collecting data, how does the updated belief (posterior distribution) influence your decision?\n",
    "What would you do if the posterior probability was only 55%?\n"
   ]
  },
  {
   "cell_type": "code",
   "execution_count": null,
   "metadata": {},
   "outputs": [],
   "source": [
    "#In Bayesian analysis, the prior belief represents your initial assumption about the probability of an outcome, before collecting data. For this scenario:\n",
    "# Initial belief: You assign a 50% probability to the new feature improving user engagement, indicating a neutral stance (you are equally likely to believe the feature is better or not better).\n",
    "# Prior distribution: You could use a Beta distribution because it's suitable for modeling probabilities. A common choice for a neutral prior is Beta(1,1) which is a uniform distribution reflecting no strong prior evidence."
   ]
  },
  {
   "cell_type": "code",
   "execution_count": 10,
   "metadata": {},
   "outputs": [
    {
     "data": {
      "image/png": "[encoded data removed]",
      "text/plain": [
       "<Figure size 800x400 with 1 Axes>"
      ]
     },
     "metadata": {},
     "output_type": "display_data"
    },
    {
     "name": "stdout",
     "output_type": "stream",
     "text": [
      "Posterior Probability of Improvement: 99.87%\n"
     ]
    }
   ],
   "source": [
    "import numpy as np\n",
    "import matplotlib.pyplot as plt\n",
    "from scipy.stats import beta\n",
    "\n",
    "# Define prior (neutral belief)\n",
    "alpha_prior = 1\n",
    "beta_prior = 1\n",
    "\n",
    "# Observed data (e.g., 65 successes out of 100 trials)\n",
    "successes = 65\n",
    "trials = 100\n",
    "alpha_post = alpha_prior + successes\n",
    "beta_post = beta_prior + trials - successes\n",
    "\n",
    "# Define the posterior distribution\n",
    "x = np.linspace(0, 1, 100)\n",
    "posterior = beta.pdf(x, alpha_post, beta_post)\n",
    "\n",
    "# Plot the prior and posterior\n",
    "plt.figure(figsize=(8, 4))\n",
    "plt.plot(x, beta.pdf(x, alpha_prior, beta_prior), label=\"Prior\", linestyle=\"--\")\n",
    "plt.plot(x, posterior, label=\"Posterior\", color=\"blue\")\n",
    "plt.title(\"Prior vs Posterior Distribution\")\n",
    "plt.xlabel(\"Probability of Improvement\")\n",
    "plt.ylabel(\"Density\")\n",
    "plt.legend()\n",
    "plt.show()\n",
    "\n",
    "# Calculate the posterior probability that the feature is better than baseline\n",
    "prob_improvement = 1 - beta.cdf(0.5, alpha_post, beta_post)\n",
    "print(f\"Posterior Probability of Improvement: {prob_improvement:.2%}\")"
   ]
  },
  {
   "cell_type": "markdown",
   "metadata": {},
   "source": [
    "You’re running a test with three different website layouts to increase user engagement. Initially, each layout gets 33% of the traffic. After the first week, Layout C shows higher engagement.\n",
    "\n",
    "Explain how you would adjust the traffic allocation after the first week.\n",
    "- Adjusting Traffic Allocation After the First Week with adaptive experimentation where you dynamically allocate more traffic to the better-performing layouts.\n",
    "\n",
    "Describe how you would continue to adapt the experiment in the following weeks.\n",
    "- You would need to continue monitoring engagement, make reallocations when necessary based on updated performance metrics, account for variability, and finally stop the experiment according to clear criteria.\n",
    "\n",
    "What challenges might you face with adaptive experimentation, and how would you address them?\n",
    "-  Bias in results, users might notice changes in layout and adjust behavior, introducing bias.\n",
    "Solution: Use randomized assignment to reduce bias and rotate layouts for returning users."
   ]
  }
 ],
 "metadata": {
  "kernelspec": {
   "display_name": "Python 3",
   "language": "python",
   "name": "python3"
  },
  "language_info": {
   "codemirror_mode": {
    "name": "ipython",
    "version": 3
   },
   "file_extension": ".py",
   "mimetype": "text/x-python",
   "name": "python",
   "nbconvert_exporter": "python",
   "pygments_lexer": "ipython3",
   "version": "3.12.6"
  }
 },
 "nbformat": 4,
 "nbformat_minor": 2
}

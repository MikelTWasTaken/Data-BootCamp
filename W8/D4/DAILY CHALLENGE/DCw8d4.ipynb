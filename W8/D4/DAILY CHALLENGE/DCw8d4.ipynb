{
 "cells": [
  {
   "cell_type": "code",
   "execution_count": null,
   "metadata": {},
   "outputs": [],
   "source": [
    "Your Task\n",
    "Calculate the Required Sample Size:\n",
    "Imagine the current checkout process has a conversion rate of 5%, and the bakery’s team is confident the new process will boost this to 7%.\n",
    "Use Python to calculate the required sample size per group (current vs. new checkout process) with an effect size of 0.2, a significance level of 0.05, and a desired power of 0.8.\n",
    "\n",
    "Analyze the Impact of Effect Size:\n",
    "\n",
    "The bakery’s head chef, always aiming for perfection, wonders what would happen if the effect size were different. Calculate the required sample size for effect sizes of 0.1, 0.2, 0.3, and 0.4.\n",
    "Explain how the sample size requirements change as the effect size changes. Why does this happen?\n",
    "\n",
    "Explain the Relationship:\n",
    "\n",
    "Imagine you’re explaining this to the bakery’s team in a fun, easy-to-understand way. Why is it so important to balance effect size and sample size when planning an A/B test? Help them understand how this ensures they’re not wasting time or resources and how it helps them confidently make decisions that could increase their sweet sales."
   ]
  },
  {
   "cell_type": "code",
   "execution_count": 1,
   "metadata": {},
   "outputs": [
    {
     "name": "stdout",
     "output_type": "stream",
     "text": [
      "Required sample size per group: 393.41\n"
     ]
    }
   ],
   "source": [
    "from statsmodels.stats.power import tt_ind_solve_power\n",
    "effect_size = 0.2  # Small effect size\n",
    "alpha = 0.05       # Significance level\n",
    "power = 0.8        # Power of the test\n",
    "ratio = 1          # Equal group sizes\n",
    "\n",
    "sample_size_per_group = tt_ind_solve_power(effect_size=effect_size, \n",
    "                                           alpha=alpha, \n",
    "                                           power=power, \n",
    "                                           ratio=ratio, \n",
    "                                           alternative='two-sided')\n",
    "\n",
    "print(f\"Required sample size per group: {sample_size_per_group:.2f}\")"
   ]
  },
  {
   "cell_type": "code",
   "execution_count": 2,
   "metadata": {},
   "outputs": [
    {
     "name": "stdout",
     "output_type": "stream",
     "text": [
      "Effect size: 0.1, Required sample size per group: 1570.73\n",
      "Effect size: 0.2, Required sample size per group: 393.41\n",
      "Effect size: 0.3, Required sample size per group: 175.38\n",
      "Effect size: 0.4, Required sample size per group: 99.08\n"
     ]
    }
   ],
   "source": [
    "from statsmodels.stats.power import tt_ind_solve_power\n",
    "effect_size = [0.1, 0.2, 0.3, 0.4]\n",
    "for size in effect_size:\n",
    "    sample_size_per_group = tt_ind_solve_power(effect_size=size,\n",
    "                                                  alpha=0.05,\n",
    "                                                  power=0.8,\n",
    "                                                  ratio=1,\n",
    "                                                  alternative='two-sided')\n",
    "    print(f\"Effect size: {size}, Required sample size per group: {sample_size_per_group:.2f}\")"
   ]
  },
  {
   "cell_type": "markdown",
   "metadata": {},
   "source": [
    "Sample size changes in relation to effect size because as the Effect size is a measure of the mean difference between groups with respect to their pooled standard deviation. Larger effect size = greater power. the greater the power of your dataset, the smaller your sample can needs to be."
   ]
  },
  {
   "cell_type": "code",
   "execution_count": null,
   "metadata": {},
   "outputs": [],
   "source": [
    "# Imagine you’re explaining this to the bakery’s team in a fun, easy-to-understand way. Why is it so important to balance effect size and sample size when planning an A/B test? Help them understand how this ensures they’re not wasting time or resources and how it helps them confidently make decisions that could increase their sweet sales.\n",
    "\n",
    "# Imagine you’re testing two cupcake recipes: chocolate and vanilla. If the difference in customer preference is big, you only need a small taste test to spot the winner. But if the difference is tiny, you’ll need more tasters to be sure you’re right. Balancing the number of tasters (sample size) with the expected difference (effect size) saves you time and ingredients while helping you confidently pick the crowd favorite, boosting your sweet sales! "
   ]
  }
 ],
 "metadata": {
  "kernelspec": {
   "display_name": "Python 3",
   "language": "python",
   "name": "python3"
  },
  "language_info": {
   "codemirror_mode": {
    "name": "ipython",
    "version": 3
   },
   "file_extension": ".py",
   "mimetype": "text/x-python",
   "name": "python",
   "nbconvert_exporter": "python",
   "pygments_lexer": "ipython3",
   "version": "3.12.6"
  }
 },
 "nbformat": 4,
 "nbformat_minor": 2
}

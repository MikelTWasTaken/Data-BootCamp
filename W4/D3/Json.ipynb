{
 "cells": [
  {
   "cell_type": "code",
   "execution_count": 2,
   "metadata": {},
   "outputs": [
    {
     "data": {
      "text/plain": [
       "{'user_id': 12345,\n",
       " 'name': {'first': 'john', 'last': 'doe'},\n",
       " 'orders': [{'order_id': 'Abc123',\n",
       "   'date': '2023-01-15',\n",
       "   'items': [{'product': 'Laptop', 'price': 100, 'quantity': 1},\n",
       "    {'product': 'Iphone', 'price': 200, 'quantity': 1}]},\n",
       "  {'order_id': 'def123',\n",
       "   'date': '2023-01-15',\n",
       "   'items': [{'product': 'Laptop', 'price': 100, 'quantity': 1},\n",
       "    {'product': 'Iphone', 'price': 100, 'quantity': 1}]}]}"
      ]
     },
     "execution_count": 2,
     "metadata": {},
     "output_type": "execute_result"
    }
   ],
   "source": [
    "{ \"user_id\": 12345, \"name\": {\"first\": \"john\", \"last\": \"doe\"}, \"orders\": [ { \"order_id\": \"Abc123\", \"date\": \"2023-01-15\", \"items\": [ {\"product\": \"Laptop\", \"price\": 100, \"quantity\": 1}, {\"product\": \"Iphone\", \"price\": 200, \"quantity\": 1} ], }, { \"order_id\": \"def123\", \"date\": \"2023-01-15\", \"items\": [ {\"product\": \"Laptop\", \"price\": 100, \"quantity\": 1}, {\"product\": \"Iphone\", \"price\": 100, \"quantity\": 1} ], }, ], } "
   ]
  },
  {
   "cell_type": "code",
   "execution_count": null,
   "metadata": {},
   "outputs": [],
   "source": [
    "data = {'user_id': 12345,\n",
    " 'name': {'first': 'john', 'last': 'doe'},\n",
    " 'orders': [{'order_id': 'Abc123',\n",
    "   'date': '2023-01-15',\n",
    "   'items': [{'product': 'Laptop', 'price': 100, 'quantity': 1},\n",
    "    {'product': 'Iphone', 'price': 200, 'quantity': 1}]},\n",
    "  {'order_id': 'def123',\n",
    "   'date': '2023-01-15',\n",
    "   'items': [{'product': 'Laptop', 'price': 100, 'quantity': 1},\n",
    "    {'product': 'Iphone', 'price': 100, 'quantity': 1}]}]}\n",
    "\n",
    "#target order\n",
    "target_order_id = 'Abc123'\n",
    "\n",
    "# function to get into that order id\n",
    "try:\n",
    "    for order in data['orders']:\n",
    "        if order['order_id'].lower() == target_order_id.lower()\n",
    "            second_product_price = int(order['items'][1]['price'])\n",
    "            print(f'The price of the second product is {second_product_price}')\n",
    "        else:\n",
    "            print('Order not found.')\n",
    "except Exception as e:\n",
    "    print(f'An error occurred, {e}')\n",
    "\n"
   ]
  }
 ],
 "metadata": {
  "kernelspec": {
   "display_name": "Python 3",
   "language": "python",
   "name": "python3"
  },
  "language_info": {
   "codemirror_mode": {
    "name": "ipython",
    "version": 3
   },
   "file_extension": ".py",
   "mimetype": "text/x-python",
   "name": "python",
   "nbconvert_exporter": "python",
   "pygments_lexer": "ipython3",
   "version": "3.12.6"
  }
 },
 "nbformat": 4,
 "nbformat_minor": 2
}

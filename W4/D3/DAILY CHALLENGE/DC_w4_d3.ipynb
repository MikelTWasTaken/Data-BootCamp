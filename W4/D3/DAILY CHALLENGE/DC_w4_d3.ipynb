{
 "cells": [
  {
   "cell_type": "code",
   "execution_count": null,
   "metadata": {
    "vscode": {
     "languageId": "plaintext"
    }
   },
   "outputs": [],
   "source": [
    "👩‍🏫 👩🏿‍🏫 What You’ll learn\n",
    "Data Augmentation\n",
    "Data visualization using MatPlotLib or PIL libraries.\n",
    "\n",
    "\n",
    "Your Task\n",
    "Load and Visualize Images using the Flower Color Images dataset\n",
    "\n",
    "\n",
    "from google.colab import files\n",
    "files.upload()\n",
    "\n",
    "!mkdir -p ~/.kaggle\n",
    "!cp kaggle.json ~/.kaggle/\n",
    "!chmod 600 ~/.kaggle/kaggle.json\n",
    "\n",
    "!kaggle datasets download -d olgabelitskaya/flower-color-images\n",
    "\n",
    "\n",
    "!unzip flower-color-images.zip\n",
    "\n",
    "\n",
    "Install the libraries :\n",
    "!pip install tensorflow\n",
    "! pip install keras\n",
    "! pip install pillow\n",
    "\n",
    "\n",
    "import numpy as np\n",
    "from  matplotlib import pyplot as plt\n",
    "import matplotlib.image as mpimg\n",
    "%matplotlib inline\n",
    "import random\n",
    "import os\n",
    "\n",
    "\n",
    "Rotate an image by 90 degrees\n",
    "from scipy.ndimage import rotate\n",
    "def rotate_image_30_degrees(image):\n",
    "return rotate( , , , ) #complete it\n",
    "\n",
    "\n",
    "Flip an image horizontally and then vertically.\n",
    "Zoom in on an image (scale by 1.2x) using .resize(...)\n",
    "Display the original and augmented images side by side for comparison using this function :\n",
    "\n",
    "\n",
    "list_img = []\n",
    "plt.figure(figsize=(20,20))\n",
    "for i in range(5):\n",
    "  file = random.choice(os.listdir('flowers/flowers'))\n",
    "  image_path= os.path.join('flowers/flowers', file)\n",
    "  img=mpimg.imread(image_path)\n",
    "  list_img.append(img)\n",
    "\n",
    "for i, img in enumerate(list_img):\n",
    "  ax=plt.subplot(3,5,i+1)\n",
    "  ax.title.set_text(file)\n",
    "  plt.imshow(img)\n",
    "\n",
    "\n",
    "# To visualize the rotated images : \n",
    "rotated_list = []\n",
    "plt.figure(figsize=(20,20))\n",
    "for img in list_img:\n",
    "  rotated_list.append(rotate_image_30_degrees(img))\n",
    "\n",
    "for i, img in enumerate(rotated_list):\n",
    "    ax=plt.subplot(3,5,i+1)\n",
    "    ax.title.set_text(file)\n",
    "    plt.imshow(img)"
   ]
  },
  {
   "cell_type": "code",
   "execution_count": null,
   "metadata": {
    "vscode": {
     "languageId": "plaintext"
    }
   },
   "outputs": [],
   "source": []
  }
 ],
 "metadata": {
  "language_info": {
   "name": "python"
  }
 },
 "nbformat": 4,
 "nbformat_minor": 2
}

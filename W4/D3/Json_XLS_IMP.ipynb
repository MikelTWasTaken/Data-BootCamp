{
 "cells": [
  {
   "cell_type": "code",
   "execution_count": 16,
   "metadata": {},
   "outputs": [
    {
     "name": "stdout",
     "output_type": "stream",
     "text": [
      "  First Name  Last Name  Gender        Country  Age        Date    Id\n",
      "0                                                                    \n",
      "1      Dulce      Abril  Female  United States   32  15/10/2017  1562\n",
      "2       Mara  Hashimoto  Female  Great Britain   25  16/08/2016  1582\n",
      "3     Philip       Gent    Male         France   36  21/05/2015  2587\n",
      "4   Kathleen     Hanner  Female  United States   25  15/10/2017  3549\n",
      "5    Nereida    Magwood  Female  United States   58  16/08/2016  2468\n"
     ]
    }
   ],
   "source": [
    "import pandas as pd\n",
    "import xlrd\n",
    "\n",
    "excel_data = pd.read_excel('file_example_XLS_10(5).xls', index_col=0)\n",
    "print(excel_data.head())\n"
   ]
  }
 ],
 "metadata": {
  "kernelspec": {
   "display_name": "Python 3",
   "language": "python",
   "name": "python3"
  },
  "language_info": {
   "codemirror_mode": {
    "name": "ipython",
    "version": 3
   },
   "file_extension": ".py",
   "mimetype": "text/x-python",
   "name": "python",
   "nbconvert_exporter": "python",
   "pygments_lexer": "ipython3",
   "version": "3.12.6"
  }
 },
 "nbformat": 4,
 "nbformat_minor": 2
}

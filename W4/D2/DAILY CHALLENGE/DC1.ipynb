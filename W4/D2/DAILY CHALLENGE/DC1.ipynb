{
 "cells": [
  {
   "cell_type": "code",
   "execution_count": null,
   "metadata": {},
   "outputs": [],
   "source": [
    "# Daily challenge: Real-world Data Analysis Scenarios:\n",
    "\n",
    "# What you will learn\n",
    "# Understanding the practical applications of data analysis in real-world scenarios.\n",
    "# Insight into how data analysis drives decision-making and problem-solving.\n",
    "# Knowledge of various data analysis methodologies and their impacts.\n",
    "\n",
    "\n",
    "# What you will create\n",
    "# A detailed analysis of the role and impact of data analysis in the selected story.\n",
    "# A research-based presentation on a chosen real-life case where data analysis played a key role.\n",
    "\n",
    "\n",
    "# Instructions\n",
    "# Group Discussion: Each group should find and present a recent news story or business case study where data analysis played a crucial role. This could involve situations where data analysis led to a breakthrough, influenced a major decision, or uncovered significant trends impacting the business or societal context.\n",
    "\n",
    "# Step 1: Search for a relevant case or news story. Consider sources like business journals, news websites, or scientific publications.\n",
    "\n",
    "# KAMALA HARRIS PRESIDENTIAL RACE 2024 UNDERPREFORM BIDEN 2020 IN ALMOST EVERY COUNTY\n",
    "\n",
    "# Step 2: Analyze the role of data analysis in the chosen story. Pay attention to what data was analyzed, the methods used, and the outcomes or decisions driven by the analysis.\n",
    "\n",
    "#Real time data was gathered and analyzed to give the voters and observers of the US presidential election insight about how the 2024 candidate was perferoming against a repeat adversary of that candidates political party. These results were compared to the 2020 election performance of Joe Biden. It provided the predictive ability for determining who will be the likely winner of the 2024 elecction. \n",
    "\n",
    "# Step 3: Discuss within your group how the data analysis impacted the situation. Consider questions like: What would have been different without data analysis? How did data analysis contribute to solving a problem or making a decision?\n",
    "\n",
    "#the impact was moreso that perceptions regardin the outcome of the election were changed. They contributed by showing the reality that the 2024 candidate was not as strong as the 2020 candidate. It did not solve a problem per se, but did show people the reality of voter turnout and preference in the 2024 election. \n",
    "\n",
    "# Step 4: Present your findings to the class. Focus on explaining the significance of data analysis in the context of your chosen story. https://www.youtube.com/watch?v=K0LA6A2AA74\n",
    "# The aim of this activity is to provide practical insights into how data analysis is applied in real-world scenarios and to appreciate its value in shaping modern decision-making processes."
   ]
  }
 ],
 "metadata": {
  "kernelspec": {
   "display_name": "Python 3",
   "language": "python",
   "name": "python3"
  },
  "language_info": {
   "codemirror_mode": {
    "name": "ipython",
    "version": 3
   },
   "file_extension": ".py",
   "mimetype": "text/x-python",
   "name": "python",
   "nbconvert_exporter": "python",
   "pygments_lexer": "ipython3",
   "version": "3.12.6"
  }
 },
 "nbformat": 4,
 "nbformat_minor": 2
}

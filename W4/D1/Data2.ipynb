{
 "cells": [
  {
   "cell_type": "code",
   "execution_count": 6,
   "metadata": {},
   "outputs": [],
   "source": [
    "import pandas as pd\n",
    "\n",
    "data = {\n",
    "    'Book Title': ['The Great Gatsby', 'To Kill a Mockingbird', '1984', 'Pride and Prejudice', 'The Catcher in the Rye'],\n",
    "    'Author': ['F. Scott Fitzgerald', 'Harper Lee', 'George Orwell', 'Jane Austen', 'J.D. Salinger'],\n",
    "    'Genre': ['Classic', 'Classic', 'Dystopian', 'Classic', 'Classic'],\n",
    "    'Price': [10.99, 8.99, 7.99, 11.99, 9.99],\n",
    "    'Copies Sold': [500, 600, 800, 300, 450]\n",
    "}\n",
    "\n",
    "df = pd.DataFrame(data)\n",
    "pd.options.display.float_format = '{:.2f}'.format\n"
   ]
  },
  {
   "cell_type": "code",
   "execution_count": 2,
   "metadata": {},
   "outputs": [
    {
     "data": {
      "text/html": [
       "<div>\n",
       "<style scoped>\n",
       "    .dataframe tbody tr th:only-of-type {\n",
       "        vertical-align: middle;\n",
       "    }\n",
       "\n",
       "    .dataframe tbody tr th {\n",
       "        vertical-align: top;\n",
       "    }\n",
       "\n",
       "    .dataframe thead th {\n",
       "        text-align: right;\n",
       "    }\n",
       "</style>\n",
       "<table border=\"1\" class=\"dataframe\">\n",
       "  <thead>\n",
       "    <tr style=\"text-align: right;\">\n",
       "      <th></th>\n",
       "      <th>Book Title</th>\n",
       "      <th>Author</th>\n",
       "      <th>Genre</th>\n",
       "      <th>Price</th>\n",
       "      <th>Copies Sold</th>\n",
       "    </tr>\n",
       "  </thead>\n",
       "  <tbody>\n",
       "    <tr>\n",
       "      <th>0</th>\n",
       "      <td>The Great Gatsby</td>\n",
       "      <td>F. Scott Fitzgerald</td>\n",
       "      <td>Classic</td>\n",
       "      <td>10.99</td>\n",
       "      <td>500</td>\n",
       "    </tr>\n",
       "    <tr>\n",
       "      <th>1</th>\n",
       "      <td>To Kill a Mockingbird</td>\n",
       "      <td>Harper Lee</td>\n",
       "      <td>Classic</td>\n",
       "      <td>8.99</td>\n",
       "      <td>600</td>\n",
       "    </tr>\n",
       "    <tr>\n",
       "      <th>2</th>\n",
       "      <td>1984</td>\n",
       "      <td>George Orwell</td>\n",
       "      <td>Dystopian</td>\n",
       "      <td>7.99</td>\n",
       "      <td>800</td>\n",
       "    </tr>\n",
       "    <tr>\n",
       "      <th>3</th>\n",
       "      <td>Pride and Prejudice</td>\n",
       "      <td>Jane Austen</td>\n",
       "      <td>Classic</td>\n",
       "      <td>11.99</td>\n",
       "      <td>300</td>\n",
       "    </tr>\n",
       "    <tr>\n",
       "      <th>4</th>\n",
       "      <td>The Catcher in the Rye</td>\n",
       "      <td>J.D. Salinger</td>\n",
       "      <td>Classic</td>\n",
       "      <td>9.99</td>\n",
       "      <td>450</td>\n",
       "    </tr>\n",
       "  </tbody>\n",
       "</table>\n",
       "</div>"
      ],
      "text/plain": [
       "               Book Title               Author      Genre  Price  Copies Sold\n",
       "0        The Great Gatsby  F. Scott Fitzgerald    Classic  10.99          500\n",
       "1   To Kill a Mockingbird           Harper Lee    Classic   8.99          600\n",
       "2                    1984        George Orwell  Dystopian   7.99          800\n",
       "3     Pride and Prejudice          Jane Austen    Classic  11.99          300\n",
       "4  The Catcher in the Rye        J.D. Salinger    Classic   9.99          450"
      ]
     },
     "execution_count": 2,
     "metadata": {},
     "output_type": "execute_result"
    }
   ],
   "source": [
    "df.head()"
   ]
  },
  {
   "cell_type": "code",
   "execution_count": 7,
   "metadata": {},
   "outputs": [
    {
     "data": {
      "text/html": [
       "<div>\n",
       "<style scoped>\n",
       "    .dataframe tbody tr th:only-of-type {\n",
       "        vertical-align: middle;\n",
       "    }\n",
       "\n",
       "    .dataframe tbody tr th {\n",
       "        vertical-align: top;\n",
       "    }\n",
       "\n",
       "    .dataframe thead th {\n",
       "        text-align: right;\n",
       "    }\n",
       "</style>\n",
       "<table border=\"1\" class=\"dataframe\">\n",
       "  <thead>\n",
       "    <tr style=\"text-align: right;\">\n",
       "      <th></th>\n",
       "      <th>Price</th>\n",
       "      <th>Copies Sold</th>\n",
       "    </tr>\n",
       "  </thead>\n",
       "  <tbody>\n",
       "    <tr>\n",
       "      <th>count</th>\n",
       "      <td>5.00</td>\n",
       "      <td>5.00</td>\n",
       "    </tr>\n",
       "    <tr>\n",
       "      <th>mean</th>\n",
       "      <td>9.99</td>\n",
       "      <td>530.00</td>\n",
       "    </tr>\n",
       "    <tr>\n",
       "      <th>std</th>\n",
       "      <td>1.58</td>\n",
       "      <td>185.74</td>\n",
       "    </tr>\n",
       "    <tr>\n",
       "      <th>min</th>\n",
       "      <td>7.99</td>\n",
       "      <td>300.00</td>\n",
       "    </tr>\n",
       "    <tr>\n",
       "      <th>25%</th>\n",
       "      <td>8.99</td>\n",
       "      <td>450.00</td>\n",
       "    </tr>\n",
       "    <tr>\n",
       "      <th>50%</th>\n",
       "      <td>9.99</td>\n",
       "      <td>500.00</td>\n",
       "    </tr>\n",
       "    <tr>\n",
       "      <th>75%</th>\n",
       "      <td>10.99</td>\n",
       "      <td>600.00</td>\n",
       "    </tr>\n",
       "    <tr>\n",
       "      <th>max</th>\n",
       "      <td>11.99</td>\n",
       "      <td>800.00</td>\n",
       "    </tr>\n",
       "  </tbody>\n",
       "</table>\n",
       "</div>"
      ],
      "text/plain": [
       "       Price  Copies Sold\n",
       "count   5.00         5.00\n",
       "mean    9.99       530.00\n",
       "std     1.58       185.74\n",
       "min     7.99       300.00\n",
       "25%     8.99       450.00\n",
       "50%     9.99       500.00\n",
       "75%    10.99       600.00\n",
       "max    11.99       800.00"
      ]
     },
     "execution_count": 7,
     "metadata": {},
     "output_type": "execute_result"
    }
   ],
   "source": [
    "df.describe()"
   ]
  },
  {
   "cell_type": "code",
   "execution_count": null,
   "metadata": {},
   "outputs": [
    {
     "name": "stdout",
     "output_type": "stream",
     "text": [
      "<class 'pandas.core.frame.DataFrame'>\n",
      "RangeIndex: 5 entries, 0 to 4\n",
      "Data columns (total 5 columns):\n",
      " #   Column       Non-Null Count  Dtype  \n",
      "---  ------       --------------  -----  \n",
      " 0   Book Title   5 non-null      object \n",
      " 1   Author       5 non-null      object \n",
      " 2   Genre        5 non-null      object \n",
      " 3   Price        5 non-null      float64\n",
      " 4   Copies Sold  5 non-null      int64  \n",
      "dtypes: float64(1), int64(1), object(3)\n",
      "memory usage: 332.0+ bytes\n"
     ]
    }
   ],
   "source": [
    "df_info = df.info()\n",
    "print(df_info)"
   ]
  },
  {
   "cell_type": "code",
   "execution_count": 43,
   "metadata": {},
   "outputs": [
    {
     "name": "stdout",
     "output_type": "stream",
     "text": [
      "Sorted by price:                Book Title               Author      Genre  Price  Copies Sold\n",
      "3     Pride and Prejudice          Jane Austen    Classic  11.99          300\n",
      "0        The Great Gatsby  F. Scott Fitzgerald    Classic  10.99          500\n",
      "4  The Catcher in the Rye        J.D. Salinger    Classic   9.99          450\n",
      "1   To Kill a Mockingbird           Harper Lee    Classic   8.99          600\n",
      "2                    1984        George Orwell  Dystopian   7.99          800\n",
      "Sorted by copies:                Book Title               Author      Genre  Price  Copies Sold\n",
      "3     Pride and Prejudice          Jane Austen    Classic  11.99          300\n",
      "4  The Catcher in the Rye        J.D. Salinger    Classic   9.99          450\n",
      "0        The Great Gatsby  F. Scott Fitzgerald    Classic  10.99          500\n",
      "1   To Kill a Mockingbird           Harper Lee    Classic   8.99          600\n",
      "2                    1984        George Orwell  Dystopian   7.99          800\n"
     ]
    }
   ],
   "source": [
    "Sorted_price = df.sort_values(by=\"Price\", ascending=False)\n",
    "Sorted_copies = df.sort_values(by=\"Copies Sold\", ascending=True)\n",
    "\n",
    "print('Sorted by price:', Sorted_price)\n",
    "print('Sorted by copies:', Sorted_copies)"
   ]
  },
  {
   "cell_type": "code",
   "execution_count": null,
   "metadata": {},
   "outputs": [
    {
     "data": {
      "text/html": [
       "<div>\n",
       "<style scoped>\n",
       "    .dataframe tbody tr th:only-of-type {\n",
       "        vertical-align: middle;\n",
       "    }\n",
       "\n",
       "    .dataframe tbody tr th {\n",
       "        vertical-align: top;\n",
       "    }\n",
       "\n",
       "    .dataframe thead th {\n",
       "        text-align: right;\n",
       "    }\n",
       "</style>\n",
       "<table border=\"1\" class=\"dataframe\">\n",
       "  <thead>\n",
       "    <tr style=\"text-align: right;\">\n",
       "      <th></th>\n",
       "      <th>Book Title</th>\n",
       "      <th>Author</th>\n",
       "      <th>Genre</th>\n",
       "      <th>Price</th>\n",
       "      <th>Copies Sold</th>\n",
       "    </tr>\n",
       "  </thead>\n",
       "  <tbody>\n",
       "    <tr>\n",
       "      <th>0</th>\n",
       "      <td>The Great Gatsby</td>\n",
       "      <td>F. Scott Fitzgerald</td>\n",
       "      <td>Classic</td>\n",
       "      <td>10.99</td>\n",
       "      <td>500</td>\n",
       "    </tr>\n",
       "    <tr>\n",
       "      <th>1</th>\n",
       "      <td>To Kill a Mockingbird</td>\n",
       "      <td>Harper Lee</td>\n",
       "      <td>Classic</td>\n",
       "      <td>8.99</td>\n",
       "      <td>600</td>\n",
       "    </tr>\n",
       "    <tr>\n",
       "      <th>3</th>\n",
       "      <td>Pride and Prejudice</td>\n",
       "      <td>Jane Austen</td>\n",
       "      <td>Classic</td>\n",
       "      <td>11.99</td>\n",
       "      <td>300</td>\n",
       "    </tr>\n",
       "    <tr>\n",
       "      <th>4</th>\n",
       "      <td>The Catcher in the Rye</td>\n",
       "      <td>J.D. Salinger</td>\n",
       "      <td>Classic</td>\n",
       "      <td>9.99</td>\n",
       "      <td>450</td>\n",
       "    </tr>\n",
       "  </tbody>\n",
       "</table>\n",
       "</div>"
      ],
      "text/plain": [
       "               Book Title               Author    Genre  Price  Copies Sold\n",
       "0        The Great Gatsby  F. Scott Fitzgerald  Classic  10.99          500\n",
       "1   To Kill a Mockingbird           Harper Lee  Classic   8.99          600\n",
       "3     Pride and Prejudice          Jane Austen  Classic  11.99          300\n",
       "4  The Catcher in the Rye        J.D. Salinger  Classic   9.99          450"
      ]
     },
     "execution_count": 27,
     "metadata": {},
     "output_type": "execute_result"
    }
   ],
   "source": [
    "df_price = df[df['Price'] > 7.99]"
   ]
  },
  {
   "cell_type": "code",
   "execution_count": 33,
   "metadata": {},
   "outputs": [
    {
     "name": "stdout",
     "output_type": "stream",
     "text": [
      "Author\n",
      "F. Scott Fitzgerald    500\n",
      "George Orwell          800\n",
      "Harper Lee             600\n",
      "J.D. Salinger          450\n",
      "Jane Austen            300\n",
      "Name: Copies Sold, dtype: int64\n"
     ]
    }
   ],
   "source": [
    "df_group = df.groupby(by=['Author'])['Copies Sold'].sum()\n",
    "print(df_group)"
   ]
  }
 ],
 "metadata": {
  "kernelspec": {
   "display_name": "Python 3",
   "language": "python",
   "name": "python3"
  },
  "language_info": {
   "codemirror_mode": {
    "name": "ipython",
    "version": 3
   },
   "file_extension": ".py",
   "mimetype": "text/x-python",
   "name": "python",
   "nbconvert_exporter": "python",
   "pygments_lexer": "ipython3",
   "version": "3.12.6"
  }
 },
 "nbformat": 4,
 "nbformat_minor": 2
}

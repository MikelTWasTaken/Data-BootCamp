{
 "cells": [
  {
   "cell_type": "code",
   "execution_count": 9,
   "metadata": {},
   "outputs": [
    {
     "name": "stdout",
     "output_type": "stream",
     "text": [
      "Here is the value I am processing :  A\n",
      "Here is the value I am processing :  B\n",
      "Here is the value I am processing :  C\n",
      "['a' 'b' 'c']\n",
      "  letter  position\n",
      "0      a         1\n",
      "1      b         2\n",
      "2      c         3\n"
     ]
    }
   ],
   "source": [
    "import pandas as pd # the Pandas Libraries is imported and aliased 'pd'.\n",
    "\n",
    "def lower_case(value): \n",
    "    print('Here is the value I am processing : ', value)\n",
    "    return value.lower()\n",
    "\n",
    "data = pd.DataFrame([['A',1],\n",
    "                     ['B',2],\n",
    "                     ['C',3]], columns = ['letter','position'])\n",
    "\n",
    "new_column = data['letter'].apply(lower_case)\n",
    "new_column = new_column.values\n",
    "print(new_column)\n",
    "data['letter'] = new_column\n",
    "print(data)"
   ]
  },
  {
   "cell_type": "code",
   "execution_count": 10,
   "metadata": {},
   "outputs": [
    {
     "name": "stdout",
     "output_type": "stream",
     "text": [
      "/Users/teitelbaumsair/Desktop/DI_Bootcamp/Tableau Prep Course\n"
     ]
    }
   ],
   "source": [
    "import os\n",
    "print(os.getcwd())"
   ]
  },
  {
   "cell_type": "code",
   "execution_count": 11,
   "metadata": {},
   "outputs": [
    {
     "name": "stdout",
     "output_type": "stream",
     "text": [
      "  first name                                   email  date_of_birth  \\\n",
      "0      Leila                       leila@example.com     23/01/1990   \n",
      "1     Samuel                  samuel_329@example.com     20/09/2001   \n",
      "2     Rodney                choupipoune@supermail.eu  12 sept. 1984   \n",
      "3       Marc  marco23@example.com, mc23@supermail.eu     10/02/1978   \n",
      "4      Harry                 helloworld@supermail.eu     04/25/1975   \n",
      "5      Hanna                 hannah2019@supermail.eu     01/01/1970   \n",
      "6     samuël                  samuel_329@example.com            NaN   \n",
      "\n",
      "      country height  \n",
      "0      France  1.49m  \n",
      "1         NaN  1.67m  \n",
      "2  Madagascar  153cm  \n",
      "3          24  1.65m  \n",
      "4     Germany  1.34m  \n",
      "5      Canada  3.45m  \n",
      "6       Benin  1.45m  \n"
     ]
    }
   ],
   "source": [
    "# importation of libraries we will need\n",
    "import pandas as pd\n",
    "import numpy as np\n",
    "import re\n",
    "\n",
    "# loading and display of data\n",
    "data = pd.read_csv('persons.csv')\n",
    "print(data)\n"
   ]
  },
  {
   "cell_type": "code",
   "execution_count": 12,
   "metadata": {},
   "outputs": [],
   "source": [
    "VALID_COUNTRIES = ['France', 'Madagascar', 'Benin', 'Germany', 'Canada']"
   ]
  },
  {
   "cell_type": "code",
   "execution_count": 13,
   "metadata": {},
   "outputs": [],
   "source": [
    "def check_country(country):\n",
    "    if country not in VALID_COUNTRIES:\n",
    "        print(' - \"{}\" is not a valid country, we delete it.' \\\n",
    "            .format(country))\n",
    "        return np.nan\n",
    "    return country"
   ]
  },
  {
   "cell_type": "code",
   "execution_count": 14,
   "metadata": {},
   "outputs": [],
   "source": [
    "def first(string):\n",
    "    parts = string.split(',')\n",
    "    first_part = parts[0]\n",
    "    if len(parts) >= 2:\n",
    "        print(' - There are several parts in \"{}\", we are only keeping {}.'\\\n",
    "            .format(parts,first_part))  \n",
    "    return first_part"
   ]
  },
  {
   "cell_type": "code",
   "execution_count": 15,
   "metadata": {},
   "outputs": [
    {
     "name": "stderr",
     "output_type": "stream",
     "text": [
      "<>:2: SyntaxWarning: invalid escape sequence '\\d'\n",
      "<>:2: SyntaxWarning: invalid escape sequence '\\d'\n",
      "/var/folders/_7/7nx4t_6s6995xg_cj866wrmr0000gn/T/ipykernel_25007/2590968028.py:2: SyntaxWarning: invalid escape sequence '\\d'\n",
      "  found = re.search('\\d\\.\\d{2}m', height)\n"
     ]
    }
   ],
   "source": [
    "def convert_height(height):\n",
    "    found = re.search('\\d\\.\\d{2}m', height)\n",
    "    if found is None:\n",
    "        print('{} is not in the right format. It will be ignored.'.format(height))\n",
    "        return np.nan\n",
    "    else:\n",
    "        value = height[:-1] # the last character is removed: 'm'\n",
    "        return float(value)\n",
    "\n",
    "def fill_height(height, replacement):\n",
    "    if pd.isnull(height):\n",
    "        print('Imputation by the mean : {}'.format(replacement))\n",
    "        return replacement\n",
    "    return height"
   ]
  },
  {
   "cell_type": "code",
   "execution_count": 16,
   "metadata": {},
   "outputs": [
    {
     "name": "stdout",
     "output_type": "stream",
     "text": [
      " - There are several parts in \"['marco23@example.com', ' mc23@supermail.eu']\", we are only keeping marco23@example.com.\n",
      " - \"nan\" is not a valid country, we delete it.\n",
      " - \"24\" is not a valid country, we delete it.\n",
      "153cm is not in the right format. It will be ignored.\n",
      "Imputation by the mean : 1.52\n",
      "Imputation by the mean : 1.52\n",
      "  first name                     email date_of_birth     country  height\n",
      "0      Leila         leila@example.com    1990-01-23      France    1.49\n",
      "1     Samuel    samuel_329@example.com    2001-09-20         NaN    1.67\n",
      "2     Rodney  choupipoune@supermail.eu           NaT  Madagascar    1.52\n",
      "3       Marc       marco23@example.com    1978-02-10         NaN    1.65\n",
      "4      Harry   helloworld@supermail.eu           NaT     Germany    1.34\n",
      "5      Hanna   hannah2019@supermail.eu    1970-01-01      Canada    1.52\n",
      "6     samuël    samuel_329@example.com           NaT       Benin    1.45\n"
     ]
    }
   ],
   "source": [
    "data['email'] = data['email'].apply(first)\n",
    "data['country'] = data['country'].apply(check_country)\n",
    "data['height'] = [convert_height(t) for t in data['height']]\n",
    "data['height'] = [t if t<3 else np.nan for t in data['height']]\n",
    "\n",
    "mean_height = data['height'].mean()\n",
    "data['height'] = [fill_height(t, mean_height) for t in data['height']]\n",
    "data['date_of_birth'] = pd.to_datetime(data['date_of_birth'], \n",
    "                                           format='%d/%m/%Y', errors='coerce')\n",
    "print(data)"
   ]
  },
  {
   "cell_type": "code",
   "execution_count": 17,
   "metadata": {},
   "outputs": [
    {
     "name": "stdout",
     "output_type": "stream",
     "text": [
      "153cm is not in the right format. It will be ignored.\n",
      "153cm is not in the right format. It will be ignored.\n",
      "  first name                                   email  date_of_birth  \\\n",
      "0      Leila                       leila@example.com     23/01/1990   \n",
      "1     Samuel                  samuel_329@example.com     20/09/2001   \n",
      "2     Rodney                choupipoune@supermail.eu  12 sept. 1984   \n",
      "3       Marc  marco23@example.com, mc23@supermail.eu     10/02/1978   \n",
      "4      Harry                 helloworld@supermail.eu     04/25/1975   \n",
      "5      Hanna                 hannah2019@supermail.eu     01/01/1970   \n",
      "6     samuël                  samuel_329@example.com            NaN   \n",
      "\n",
      "      country  height  \n",
      "0      France    1.49  \n",
      "1         NaN    1.67  \n",
      "2  Madagascar     NaN  \n",
      "3          24    1.65  \n",
      "4     Germany    1.34  \n",
      "5      Canada    3.45  \n",
      "6       Benin    1.45  \n"
     ]
    },
    {
     "name": "stderr",
     "output_type": "stream",
     "text": [
      "<>:13: SyntaxWarning: invalid escape sequence '\\d'\n",
      "<>:13: SyntaxWarning: invalid escape sequence '\\d'\n",
      "/var/folders/_7/7nx4t_6s6995xg_cj866wrmr0000gn/T/ipykernel_25007/136857484.py:13: SyntaxWarning: invalid escape sequence '\\d'\n",
      "  found = re.search('\\d\\.\\d{2}m', height)\n"
     ]
    }
   ],
   "source": [
    "data = pd.read_csv('persons.csv')\n",
    "\n",
    "new_column = []\n",
    "for t in data['height']:\n",
    "    new_column.append(convert_height(t))\n",
    "data['height'] = new_column\n",
    "\n",
    "data = pd.read_csv('persons.csv')\n",
    "\n",
    "data['height'] = data['height'].apply(convert_height)\n",
    "\n",
    "def convert_height(height):\n",
    "    found = re.search('\\d\\.\\d{2}m', height)\n",
    "    if found is None:\n",
    "        print('{} is not in the right format. It will be ignored.'.format(height))\n",
    "        return np.NaN\n",
    "    else:\n",
    "        value = height[:-1] # the last character is removed: 'm'\n",
    "        return float(value)\n",
    "print (data)"
   ]
  }
 ],
 "metadata": {
  "kernelspec": {
   "display_name": "Python 3",
   "language": "python",
   "name": "python3"
  },
  "language_info": {
   "codemirror_mode": {
    "name": "ipython",
    "version": 3
   },
   "file_extension": ".py",
   "mimetype": "text/x-python",
   "name": "python",
   "nbconvert_exporter": "python",
   "pygments_lexer": "ipython3",
   "version": "3.12.6"
  }
 },
 "nbformat": 4,
 "nbformat_minor": 2
}

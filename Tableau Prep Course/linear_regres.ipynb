{
 "cells": [
  {
   "cell_type": "code",
   "execution_count": 1,
   "metadata": {},
   "outputs": [
    {
     "ename": "NameError",
     "evalue": "name 'data' is not defined",
     "output_type": "error",
     "traceback": [
      "\u001b[0;31m---------------------------------------------------------------------------\u001b[0m",
      "\u001b[0;31mNameError\u001b[0m                                 Traceback (most recent call last)",
      "Cell \u001b[0;32mIn[1], line 4\u001b[0m\n\u001b[1;32m      1\u001b[0m \u001b[38;5;28;01mimport\u001b[39;00m \u001b[38;5;21;01mdatetime\u001b[39;00m \u001b[38;5;28;01mas\u001b[39;00m \u001b[38;5;21;01mdt\u001b[39;00m\n\u001b[1;32m      3\u001b[0m \u001b[38;5;66;03m# Sub-sample is selected\u001b[39;00m\n\u001b[0;32m----> 4\u001b[0m groceries \u001b[38;5;241m=\u001b[39m \u001b[43mdata\u001b[49m[data\u001b[38;5;241m.\u001b[39mcateg \u001b[38;5;241m==\u001b[39m \u001b[38;5;124m\"\u001b[39m\u001b[38;5;124mGROCERIES\u001b[39m\u001b[38;5;124m\"\u001b[39m]\n\u001b[1;32m      6\u001b[0m \u001b[38;5;66;03m# Transactions are sorted by date\u001b[39;00m\n\u001b[1;32m      7\u001b[0m groceries \u001b[38;5;241m=\u001b[39m groceries\u001b[38;5;241m.\u001b[39msort_values(\u001b[38;5;124m\"\u001b[39m\u001b[38;5;124mtransaction_date\u001b[39m\u001b[38;5;124m\"\u001b[39m)\n",
      "\u001b[0;31mNameError\u001b[0m: name 'data' is not defined"
     ]
    }
   ],
   "source": [
    "import datetime as dt\n",
    "\n",
    "# Sub-sample is selected\n",
    "groceries = data[data.categ == \"GROCERIES\"]\n",
    "\n",
    "# Transactions are sorted by date\n",
    "groceries = groceries.sort_values(\"transaction_date\")\n",
    "\n",
    "# Expenses are converted to positive amounts\n",
    "groceries[\"amount\"] = -groceries[\"amount\"]\n",
    "\n",
    "# Wait variable is calculated \n",
    "r = []\n",
    "last_date = dt.datetime.now()\n",
    "for i,row in groceries.iterrows():\n",
    "    days = (row[\"transaction_date\"]-last_date).days\n",
    "    if days == 0:\n",
    "        r.append(r[-1])\n",
    "    else:\n",
    "        r.append(days)\n",
    "    last_date = row[\"transaction_date\"]\n",
    "groceries[\"wait\"] = r\n",
    "groceries = groceries.iloc[1:,]\n",
    "\n",
    "# transactions made on the same date are grouped together\n",
    "# (groceries bought the same day but in 2 different stores)\n",
    "a = groceries.groupby(\"transaction_date\")[\"amount\"].sum()\n",
    "b = groceries.groupby(\"transaction_date\")[\"wait\"].first()\n",
    "groceries = pd.DataFrame([a for a in zip(a,b)])\n",
    "groceries.columns = [\"amount\",\"wait\"]"
   ]
  }
 ],
 "metadata": {
  "kernelspec": {
   "display_name": "Python 3",
   "language": "python",
   "name": "python3"
  },
  "language_info": {
   "name": "python",
   "version": "3.12.6"
  }
 },
 "nbformat": 4,
 "nbformat_minor": 2
}

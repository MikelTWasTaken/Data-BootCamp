{
 "cells": [
  {
   "cell_type": "markdown",
   "metadata": {},
   "source": [
    "\n",
    "## Instructions\n",
    "\n",
    "1. Use this website: [GitHub Topics](https://github.com/topics).\n",
    "\n",
    "2. **Write a Python script** using the `requests` library to:\n",
    "    - Fetch the HTML content of the chosen website.\n",
    "    - Print the status code of the response to ensure the request was successful using `.status_code`. It should be `200`.\n",
    "    - Print the first 100 characters of the HTML content to verify the response.\n",
    "    - Save the HTML content to a file named `webpage.html`. Ensure you handle the text encoding correctly.\n",
    "\n",
    "3. **Parse the HTML content** using `BeautifulSoup`:\n",
    "    - Load the saved HTML file and parse it.\n",
    "\n",
    "4. **Identify two distinct pieces of information** on the webpage to extract:\n",
    "    - Titles of the topics.\n",
    "    - Descriptions of the topics.\n",
    "\n",
    "5. **Write code to extract** these pieces of information:\n",
    "    - Ensure you identify the correct HTML tags and classes used for these elements on the webpage.\n",
    "\n",
    "6. **Print the extracted data**:\n",
    "    - Print the length and content of each extracted list to verify the extraction process.\n",
    "\n",
    "7. **Structure the extracted data**:\n",
    "    - Create a Python dictionary with keys representing the type of information (e.g., `title` and `description`).\n",
    "\n",
    "8. **Convert the dictionary** into a `pandas` DataFrame:\n",
    "    - Print the DataFrame to confirm its structure and contents.\n"
   ]
  },
  {
   "cell_type": "code",
   "execution_count": 21,
   "metadata": {},
   "outputs": [
    {
     "name": "stdout",
     "output_type": "stream",
     "text": [
      "200\n",
      "\n",
      "\n",
      "<!DOCTYPE html>\n",
      "<html\n",
      "  lang=\"en\"\n",
      "  \n",
      "  data-color-mode=\"auto\" data-light-theme=\"light\" data-dark-t\n"
     ]
    }
   ],
   "source": [
    "import requests\n",
    "from bs4 import BeautifulSoup\n",
    "import pandas as pd\n",
    "\n",
    "url = 'https://github.com/topics/ios'\n",
    "response = requests.get(url)\n",
    "print(response.status_code)\n",
    "\n",
    "ios_soup = BeautifulSoup(response.content, 'html.parser')\n",
    "print(response.text[:100])\n"
   ]
  },
  {
   "cell_type": "code",
   "execution_count": 22,
   "metadata": {},
   "outputs": [],
   "source": [
    "with open('webpage.html', 'w', encoding='utf-8') as file:\n",
    "    file.write(response.text)"
   ]
  },
  {
   "cell_type": "code",
   "execution_count": 28,
   "metadata": {},
   "outputs": [
    {
     "name": "stdout",
     "output_type": "stream",
     "text": [
      "Webpage Title: ios · GitHub Topics · GitHub\n",
      "H2 Headings:\n",
      "- Navigation Menu\n",
      "- Use saved searches to filter your results more quickly\n",
      "- Here are\n",
      "    48,137 public repositories\n",
      "    matching this topic...\n",
      "- Footer\n",
      "\n",
      "H3 Headings:\n",
      "- flutter          /\n",
      "          flutter\n",
      "- facebook          /\n",
      "          react-native\n",
      "- justjavac          /\n",
      "          free-programming-books-zh_CN\n",
      "- Solido          /\n",
      "          awesome-flutter\n",
      "- ultralytics          /\n",
      "          yolov5\n",
      "- FiloSottile          /\n",
      "          mkcert\n",
      "- ionic-team          /\n",
      "          ionic-framework\n",
      "- google          /\n",
      "          material-design-icons\n",
      "- vsouza          /\n",
      "          awesome-ios\n",
      "- appwrite          /\n",
      "          appwrite\n",
      "- dkhamsing          /\n",
      "          open-source-ios-apps\n",
      "- dcloudio          /\n",
      "          uni-app\n",
      "- fastlane          /\n",
      "          fastlane\n",
      "- expo          /\n",
      "          expo\n",
      "- SheetJS          /\n",
      "          sheetjs\n",
      "- xitu          /\n",
      "          gold-miner\n",
      "- bilibili          /\n",
      "          ijkplayer\n",
      "- utmapp          /\n",
      "          UTM\n",
      "- AvaloniaUI          /\n",
      "          Avalonia\n",
      "- quasarframework          /\n",
      "          quasar\n",
      "- Footer navigation\n",
      "\n",
      "H4 Headings:\n",
      "\n"
     ]
    }
   ],
   "source": [
    "with open('webpage.html', 'r', encoding='utf-8') as file:\n",
    "    html_content = file.read()\n",
    "\n",
    "# Parse the HTML content with BeautifulSoup\n",
    "ios_soup = BeautifulSoup(html_content, 'html.parser')\n",
    "\n",
    "# Example: Print the title of the webpage\n",
    "print(\"Webpage Title:\", ios_soup.title.string)\n",
    "\n",
    "\n",
    "for heading_level in ['h2', 'h3', 'h4']:\n",
    "    headings = [heading.text.strip() for heading in soup.find_all(heading_level)]\n",
    "    print(f\"{heading_level.upper()} Headings:\")\n",
    "    for heading in headings:\n",
    "        print(\"-\", heading)\n",
    "    print()"
   ]
  },
  {
   "cell_type": "code",
   "execution_count": 24,
   "metadata": {},
   "outputs": [
    {
     "name": "stdout",
     "output_type": "stream",
     "text": [
      "Unique Tags in the HTML:\n",
      "- a\n",
      "- article\n",
      "- auto-check\n",
      "- body\n",
      "- button\n",
      "- clipboard-copy\n",
      "- cookie-consent-link\n",
      "- custom-scopes\n",
      "- dd\n",
      "- details\n",
      "- details-dialog\n",
      "- details-menu\n",
      "- dialog\n",
      "- dialog-helper\n",
      "- div\n",
      "- dl\n",
      "- dt\n",
      "- footer\n",
      "- form\n",
      "- ghcc-consent\n",
      "- h1\n",
      "- h2\n",
      "- h3\n",
      "- head\n",
      "- header\n",
      "- html\n",
      "- i\n",
      "- img\n",
      "- input\n",
      "- label\n",
      "- li\n",
      "- link\n",
      "- main\n",
      "- meta\n",
      "- modal-dialog\n",
      "- nav\n",
      "- p\n",
      "- path\n",
      "- qbsearch-input\n",
      "- query-builder\n",
      "- react-partial\n",
      "- relative-time\n",
      "- script\n",
      "- scrollable-region\n",
      "- span\n",
      "- summary\n",
      "- svg\n",
      "- template\n",
      "- textarea\n",
      "- title\n",
      "- tool-tip\n",
      "- topic-feeds-toast-trigger\n",
      "- ul\n"
     ]
    }
   ],
   "source": [
    "unique_tags = {tag.name for tag in soup.find_all()}\n",
    "\n",
    "# Print the unique tags\n",
    "print(\"Unique Tags in the HTML:\")\n",
    "for tag in sorted(unique_tags):\n",
    "    print(\"-\", tag)"
   ]
  },
  {
   "cell_type": "code",
   "execution_count": 25,
   "metadata": {},
   "outputs": [
    {
     "name": "stdout",
     "output_type": "stream",
     "text": [
      "Titles:\n",
      "Number of Titles: 0\n",
      "Titles Content: []\n",
      "\n",
      "Details:\n",
      "Number of Details: 0\n",
      "Details Content: []\n"
     ]
    }
   ],
   "source": [
    "titles = [title.text.strip() for title in soup.find_all('p', class_='f3 lh-condensed mb-0 mt-1 Link--primary')]\n",
    "details = [detail.text.strip() for detail in soup.find_all('p', class_='f5 color-fg-muted mb-0 mt-1')]\n",
    "\n",
    "# Print the length and content of each list\n",
    "print(\"Titles:\")\n",
    "print(\"Number of Titles:\", len(titles))\n",
    "print(\"Titles Content:\", titles)\n",
    "\n",
    "print(\"\\nDetails:\")\n",
    "print(\"Number of Details:\", len(details))\n",
    "print(\"Details Content:\", details)"
   ]
  },
  {
   "cell_type": "code",
   "execution_count": 26,
   "metadata": {},
   "outputs": [
    {
     "name": "stdout",
     "output_type": "stream",
     "text": [
      "Extracted Data Dictionary:\n",
      "Title: ['\\nflutter          /\\n          flutter ', '\\nfacebook          /\\n          react-native ', '\\njustjavac          /\\n          free-programming-books-zh_CN ', '\\nSolido          /\\n          awesome-flutter ', '\\nultralytics          /\\n          yolov5 ', '\\nFiloSottile          /\\n          mkcert ', '\\nionic-team          /\\n          ionic-framework ', '\\ngoogle          /\\n          material-design-icons ', '\\nvsouza          /\\n          awesome-ios ', '\\nappwrite          /\\n          appwrite ', '\\ndkhamsing          /\\n          open-source-ios-apps ', '\\ndcloudio          /\\n          uni-app ', '\\nfastlane          /\\n          fastlane ', '\\nexpo          /\\n          expo ', '\\nSheetJS          /\\n          sheetjs ', '\\nxitu          /\\n          gold-miner ', '\\nbilibili          /\\n          ijkplayer ', '\\nutmapp          /\\n          UTM ', '\\nAvaloniaUI          /\\n          Avalonia ', '\\nquasarframework          /\\n          quasar ', 'Footer navigation']\n",
      "Description: ['We read every piece of feedback, and take your input very seriously.', '\\n            To see all available qualifiers, see our documentation.\\n          ', 'iOS is the operating system for all of Apple’s mobile products. The operating system was unveiled at Macworld Conference and Expo\\xa0in 2007 to support the company’s new venture, the iPhone. Since then, the operating system has grown to incorporate other products, including the iPad and iPod Touch.', 'Flutter makes it easy and fast to build beautiful apps for mobile and beyond', 'A framework for building native applications using React', '📚 免费的计算机编程类中文书籍，欢迎投稿', 'An awesome list that curates the best Flutter libraries, tools, tutorials, articles and more.', 'YOLOv5 🚀 in PyTorch > ONNX > CoreML > TFLite', \"A simple zero-config tool to make locally trusted development certificates with any names you'd like.\", 'A powerful cross-platform UI toolkit for building native-quality iOS, Android, and Progressive Web Apps with HTML, CSS, and JavaScript.', 'Material Design icons by Google (Material Symbols)', 'A curated list of awesome iOS ecosystem, including Objective-C and Swift Projects ', 'Your backend, minus the hassle.', '📱 Collaborative List of Open-Source iOS Apps', 'A cross-platform framework using Vue.js', '🚀 The easiest way to automate building and releasing your iOS and Android apps', 'An open-source framework for making universal native apps with React. Expo runs on Android, iOS, and the web.', '📗 SheetJS Spreadsheet Data Toolkit -- New home https://git.sheetjs.com/SheetJS/sheetjs', '🥇掘金翻译计划，可能是世界最大最好的英译中技术社区，最懂读者和译者的翻译平台：', 'Android/iOS video player based on FFmpeg n3.4, with MediaCodec, VideoToolbox support.', 'Virtual machines for iOS and macOS', 'Develop Desktop, Embedded, Mobile and WebAssembly apps with C# and XAML. The most popular .NET UI client technology', 'Quasar Framework - Build high-performance VueJS user interfaces in record time', '\\nCreated by Apple Inc.\\n    ', '\\nReleased June 29, 2007\\n    ']\n"
     ]
    },
    {
     "ename": "ValueError",
     "evalue": "All arrays must be of the same length",
     "output_type": "error",
     "traceback": [
      "\u001b[0;31m---------------------------------------------------------------------------\u001b[0m",
      "\u001b[0;31mValueError\u001b[0m                                Traceback (most recent call last)",
      "Cell \u001b[0;32mIn[26], line 16\u001b[0m\n\u001b[1;32m     13\u001b[0m     \u001b[38;5;28mprint\u001b[39m(\u001b[38;5;124mf\u001b[39m\u001b[38;5;124m\"\u001b[39m\u001b[38;5;132;01m{\u001b[39;00mkey\u001b[38;5;132;01m}\u001b[39;00m\u001b[38;5;124m: \u001b[39m\u001b[38;5;132;01m{\u001b[39;00mvalue\u001b[38;5;132;01m}\u001b[39;00m\u001b[38;5;124m\"\u001b[39m)\n\u001b[1;32m     15\u001b[0m \u001b[38;5;66;03m# Convert the dictionary into a pandas DataFrame\u001b[39;00m\n\u001b[0;32m---> 16\u001b[0m df \u001b[38;5;241m=\u001b[39m \u001b[43mpd\u001b[49m\u001b[38;5;241;43m.\u001b[39;49m\u001b[43mDataFrame\u001b[49m\u001b[43m(\u001b[49m\u001b[43mdata\u001b[49m\u001b[43m)\u001b[49m\n\u001b[1;32m     18\u001b[0m \u001b[38;5;66;03m# Print the DataFrame to confirm its structure and contents\u001b[39;00m\n\u001b[1;32m     19\u001b[0m \u001b[38;5;28mprint\u001b[39m(\u001b[38;5;124m\"\u001b[39m\u001b[38;5;130;01m\\n\u001b[39;00m\u001b[38;5;124mDataFrame:\u001b[39m\u001b[38;5;124m\"\u001b[39m)\n",
      "File \u001b[0;32m/Library/Frameworks/Python.framework/Versions/3.12/lib/python3.12/site-packages/pandas/core/frame.py:778\u001b[0m, in \u001b[0;36mDataFrame.__init__\u001b[0;34m(self, data, index, columns, dtype, copy)\u001b[0m\n\u001b[1;32m    772\u001b[0m     mgr \u001b[38;5;241m=\u001b[39m \u001b[38;5;28mself\u001b[39m\u001b[38;5;241m.\u001b[39m_init_mgr(\n\u001b[1;32m    773\u001b[0m         data, axes\u001b[38;5;241m=\u001b[39m{\u001b[38;5;124m\"\u001b[39m\u001b[38;5;124mindex\u001b[39m\u001b[38;5;124m\"\u001b[39m: index, \u001b[38;5;124m\"\u001b[39m\u001b[38;5;124mcolumns\u001b[39m\u001b[38;5;124m\"\u001b[39m: columns}, dtype\u001b[38;5;241m=\u001b[39mdtype, copy\u001b[38;5;241m=\u001b[39mcopy\n\u001b[1;32m    774\u001b[0m     )\n\u001b[1;32m    776\u001b[0m \u001b[38;5;28;01melif\u001b[39;00m \u001b[38;5;28misinstance\u001b[39m(data, \u001b[38;5;28mdict\u001b[39m):\n\u001b[1;32m    777\u001b[0m     \u001b[38;5;66;03m# GH#38939 de facto copy defaults to False only in non-dict cases\u001b[39;00m\n\u001b[0;32m--> 778\u001b[0m     mgr \u001b[38;5;241m=\u001b[39m \u001b[43mdict_to_mgr\u001b[49m\u001b[43m(\u001b[49m\u001b[43mdata\u001b[49m\u001b[43m,\u001b[49m\u001b[43m \u001b[49m\u001b[43mindex\u001b[49m\u001b[43m,\u001b[49m\u001b[43m \u001b[49m\u001b[43mcolumns\u001b[49m\u001b[43m,\u001b[49m\u001b[43m \u001b[49m\u001b[43mdtype\u001b[49m\u001b[38;5;241;43m=\u001b[39;49m\u001b[43mdtype\u001b[49m\u001b[43m,\u001b[49m\u001b[43m \u001b[49m\u001b[43mcopy\u001b[49m\u001b[38;5;241;43m=\u001b[39;49m\u001b[43mcopy\u001b[49m\u001b[43m,\u001b[49m\u001b[43m \u001b[49m\u001b[43mtyp\u001b[49m\u001b[38;5;241;43m=\u001b[39;49m\u001b[43mmanager\u001b[49m\u001b[43m)\u001b[49m\n\u001b[1;32m    779\u001b[0m \u001b[38;5;28;01melif\u001b[39;00m \u001b[38;5;28misinstance\u001b[39m(data, ma\u001b[38;5;241m.\u001b[39mMaskedArray):\n\u001b[1;32m    780\u001b[0m     \u001b[38;5;28;01mfrom\u001b[39;00m \u001b[38;5;21;01mnumpy\u001b[39;00m\u001b[38;5;21;01m.\u001b[39;00m\u001b[38;5;21;01mma\u001b[39;00m \u001b[38;5;28;01mimport\u001b[39;00m mrecords\n",
      "File \u001b[0;32m/Library/Frameworks/Python.framework/Versions/3.12/lib/python3.12/site-packages/pandas/core/internals/construction.py:503\u001b[0m, in \u001b[0;36mdict_to_mgr\u001b[0;34m(data, index, columns, dtype, typ, copy)\u001b[0m\n\u001b[1;32m    499\u001b[0m     \u001b[38;5;28;01melse\u001b[39;00m:\n\u001b[1;32m    500\u001b[0m         \u001b[38;5;66;03m# dtype check to exclude e.g. range objects, scalars\u001b[39;00m\n\u001b[1;32m    501\u001b[0m         arrays \u001b[38;5;241m=\u001b[39m [x\u001b[38;5;241m.\u001b[39mcopy() \u001b[38;5;28;01mif\u001b[39;00m \u001b[38;5;28mhasattr\u001b[39m(x, \u001b[38;5;124m\"\u001b[39m\u001b[38;5;124mdtype\u001b[39m\u001b[38;5;124m\"\u001b[39m) \u001b[38;5;28;01melse\u001b[39;00m x \u001b[38;5;28;01mfor\u001b[39;00m x \u001b[38;5;129;01min\u001b[39;00m arrays]\n\u001b[0;32m--> 503\u001b[0m \u001b[38;5;28;01mreturn\u001b[39;00m \u001b[43marrays_to_mgr\u001b[49m\u001b[43m(\u001b[49m\u001b[43marrays\u001b[49m\u001b[43m,\u001b[49m\u001b[43m \u001b[49m\u001b[43mcolumns\u001b[49m\u001b[43m,\u001b[49m\u001b[43m \u001b[49m\u001b[43mindex\u001b[49m\u001b[43m,\u001b[49m\u001b[43m \u001b[49m\u001b[43mdtype\u001b[49m\u001b[38;5;241;43m=\u001b[39;49m\u001b[43mdtype\u001b[49m\u001b[43m,\u001b[49m\u001b[43m \u001b[49m\u001b[43mtyp\u001b[49m\u001b[38;5;241;43m=\u001b[39;49m\u001b[43mtyp\u001b[49m\u001b[43m,\u001b[49m\u001b[43m \u001b[49m\u001b[43mconsolidate\u001b[49m\u001b[38;5;241;43m=\u001b[39;49m\u001b[43mcopy\u001b[49m\u001b[43m)\u001b[49m\n",
      "File \u001b[0;32m/Library/Frameworks/Python.framework/Versions/3.12/lib/python3.12/site-packages/pandas/core/internals/construction.py:114\u001b[0m, in \u001b[0;36marrays_to_mgr\u001b[0;34m(arrays, columns, index, dtype, verify_integrity, typ, consolidate)\u001b[0m\n\u001b[1;32m    111\u001b[0m \u001b[38;5;28;01mif\u001b[39;00m verify_integrity:\n\u001b[1;32m    112\u001b[0m     \u001b[38;5;66;03m# figure out the index, if necessary\u001b[39;00m\n\u001b[1;32m    113\u001b[0m     \u001b[38;5;28;01mif\u001b[39;00m index \u001b[38;5;129;01mis\u001b[39;00m \u001b[38;5;28;01mNone\u001b[39;00m:\n\u001b[0;32m--> 114\u001b[0m         index \u001b[38;5;241m=\u001b[39m \u001b[43m_extract_index\u001b[49m\u001b[43m(\u001b[49m\u001b[43marrays\u001b[49m\u001b[43m)\u001b[49m\n\u001b[1;32m    115\u001b[0m     \u001b[38;5;28;01melse\u001b[39;00m:\n\u001b[1;32m    116\u001b[0m         index \u001b[38;5;241m=\u001b[39m ensure_index(index)\n",
      "File \u001b[0;32m/Library/Frameworks/Python.framework/Versions/3.12/lib/python3.12/site-packages/pandas/core/internals/construction.py:677\u001b[0m, in \u001b[0;36m_extract_index\u001b[0;34m(data)\u001b[0m\n\u001b[1;32m    675\u001b[0m lengths \u001b[38;5;241m=\u001b[39m \u001b[38;5;28mlist\u001b[39m(\u001b[38;5;28mset\u001b[39m(raw_lengths))\n\u001b[1;32m    676\u001b[0m \u001b[38;5;28;01mif\u001b[39;00m \u001b[38;5;28mlen\u001b[39m(lengths) \u001b[38;5;241m>\u001b[39m \u001b[38;5;241m1\u001b[39m:\n\u001b[0;32m--> 677\u001b[0m     \u001b[38;5;28;01mraise\u001b[39;00m \u001b[38;5;167;01mValueError\u001b[39;00m(\u001b[38;5;124m\"\u001b[39m\u001b[38;5;124mAll arrays must be of the same length\u001b[39m\u001b[38;5;124m\"\u001b[39m)\n\u001b[1;32m    679\u001b[0m \u001b[38;5;28;01mif\u001b[39;00m have_dicts:\n\u001b[1;32m    680\u001b[0m     \u001b[38;5;28;01mraise\u001b[39;00m \u001b[38;5;167;01mValueError\u001b[39;00m(\n\u001b[1;32m    681\u001b[0m         \u001b[38;5;124m\"\u001b[39m\u001b[38;5;124mMixing dicts with non-Series may lead to ambiguous ordering.\u001b[39m\u001b[38;5;124m\"\u001b[39m\n\u001b[1;32m    682\u001b[0m     )\n",
      "\u001b[0;31mValueError\u001b[0m: All arrays must be of the same length"
     ]
    }
   ],
   "source": [
    "titles = [title.get_text() for title in ios_soup.find_all('h3')]\n",
    "details = [detail.get_text() for detail in ios_soup.find_all('p')]\n",
    "\n",
    "# Create a dictionary with the extracted data\n",
    "data = {\n",
    "    'Title': titles,\n",
    "    'Description': details\n",
    "}\n",
    "\n",
    "# Print the dictionary to verify its structure\n",
    "print(\"Extracted Data Dictionary:\")\n",
    "for key, value in data.items():\n",
    "    print(f\"{key}: {value}\")\n",
    "\n",
    "# Convert the dictionary into a pandas DataFrame\n",
    "df = pd.DataFrame(data)\n",
    "\n",
    "# Print the DataFrame to confirm its structure and contents\n",
    "print(\"\\nDataFrame:\")\n",
    "print(df)"
   ]
  }
 ],
 "metadata": {
  "kernelspec": {
   "display_name": "Python 3",
   "language": "python",
   "name": "python3"
  },
  "language_info": {
   "codemirror_mode": {
    "name": "ipython",
    "version": 3
   },
   "file_extension": ".py",
   "mimetype": "text/x-python",
   "name": "python",
   "nbconvert_exporter": "python",
   "pygments_lexer": "ipython3",
   "version": "3.12.6"
  }
 },
 "nbformat": 4,
 "nbformat_minor": 2
}

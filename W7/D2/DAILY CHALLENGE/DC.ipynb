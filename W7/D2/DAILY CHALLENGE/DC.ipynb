{
 "cells": [
  {
   "cell_type": "markdown",
   "metadata": {
    "vscode": {
     "languageId": "plaintext"
    }
   },
   "source": [
    "# Daily Challenge: Web Scraping and Data Visualization\n",
    "## Your Task \n",
    "\n",
    "### Instructions\n",
    "\n",
    "*Use this webpage : Tel Aviv - BBC Weather*\n",
    "- Scrape the Webpage: Use Python libraries like Selenium to interact with the webpage and BeautifulSoup to parse the HTML, Extract relevant data such as dates, numerical values, categories, etc., Organize the scraped data into a structured format.\n",
    "\n",
    "*Data Analysis with Pandas:*\n",
    "- Load your scraped data into a Pandas DataFrame.\n",
    "- Clean and preprocess the data if necessary (handling missing values, type conversion, etc.).\n",
    "- Perform basic analysis, such as calculating averages, totals, or trends over time.\n",
    "\n",
    "*Data Visualization with Seaborn and Matplotlib:*\n",
    "- Use Seaborn and Matplotlib to create visualizations that provide insights into the data.\n",
    "- Examples of visualizations can include line plots for trends over time, bar charts for comparing categories, or heatmaps for showing data density.\n",
    "- Ensure your visualizations are well-labeled with clear titles, axis labels, and legends where appropriate.\n",
    "\n",
    "*Document Your Findings:*\n",
    "- Create a report summarizing your methodology, analysis, and insights from the visualizations.\n",
    "- Explain any interesting patterns or insights derived from your data."
   ]
  },
  {
   "cell_type": "code",
   "execution_count": 65,
   "metadata": {},
   "outputs": [
    {
     "name": "stdout",
     "output_type": "stream",
     "text": [
      "         Day High Temperature (°C) Low Temperature (°C)           Condition\n",
      "0    Tonight                   20°                   9°               Sunny\n",
      "1   Wed 18th                   22°                   9°               Sunny\n",
      "2   Thu 19th                   21°                  10°               Sunny\n",
      "3   Fri 20th                   18°                  12°  Light Rain Showers\n",
      "4   Sat 21st                   20°                  11°               Sunny\n",
      "5   Sun 22nd                   19°                  11°               Sunny\n",
      "6   Mon 23rd                   18°                  11°    Thundery Showers\n",
      "7   Tue 24th                   18°                  10°     Sunny Intervals\n",
      "8   Wed 25th                   19°                  11°  Light Rain Showers\n",
      "9   Thu 26th                   17°                  11°  Heavy Rain Showers\n",
      "10  Fri 27th                   17°                  10°     Sunny Intervals\n",
      "11  Sat 28th                   17°                  10°  Light Rain Showers\n",
      "12  Sun 29th                   17°                   9°     Sunny Intervals\n",
      "13  Mon 30th                   18°                   7°               Sunny\n"
     ]
    }
   ],
   "source": [
    "from selenium import webdriver\n",
    "from selenium.webdriver.common.by import By\n",
    "from selenium.webdriver.common.keys import Keys\n",
    "from selenium.webdriver.support.ui import WebDriverWait\n",
    "from selenium.webdriver.support import expected_conditions as EC\n",
    "from bs4 import BeautifulSoup\n",
    "import pandas as pd\n",
    "import time\n",
    "\n",
    "options = webdriver.ChromeOptions()\n",
    "options.add_argument(\"--start-maximized\")\n",
    "options.add_argument(\"--no-sandbox\")\n",
    "options.add_argument(\"--disable-dev-shm-usage\")\n",
    "options.add_argument(\"--disable-features=MediaCapabilities\")\n",
    "options.add_argument(\"--lang=en\")\n",
    "driver = webdriver.Chrome(options=options)\n",
    "\n",
    "\n",
    "try:\n",
    "    url = \"https://www.bbc.com/weather/293397\"\n",
    "    driver.get(url)\n",
    "\n",
    "    WebDriverWait(driver, 10).until(\n",
    "        EC.presence_of_element_located((By.CLASS_NAME, \"wr-day\"))\n",
    "    )\n",
    "    time.sleep(5)\n",
    "    soup = BeautifulSoup(driver.page_source, \"html.parser\")\n",
    "\n",
    "    days = soup.find_all(\"li\", class_=\"wr-day\")\n",
    "\n",
    "    weather_data = []\n",
    "\n",
    "    for day in days:\n",
    "        day_name = day.find(\"span\", class_=\"wr-date__longish\")\n",
    "        day_name = day_name.text.strip() if day_name else \"Tonight\"\n",
    "        day_temp = day.find('div', class_=\"wr-day__temperature\")\n",
    "        temp_high_div = day_temp.find(\"div\", class_=\"wr-day-temperature__high\") if day_temp else \"N/A\"\n",
    "\n",
    "        temp_high = temp_high_div.find(\"span\", class_=\"wr-value--temperature--c\").text.strip() if temp_high_div else \"N/A\"\n",
    "        temp_low_div = day.find(\"div\", class_=\"wr-day-temperature__low\")\n",
    "\n",
    "        temp_low = temp_low_div.find(\"span\", class_=\"wr-value--temperature--c\").text.strip() if temp_high_div else \"N/A\"\n",
    "\n",
    "        condition = day.find(\"div\", class_=\"wr-weather-type__text\").text.strip() \n",
    "\n",
    "        weather_data.append({\n",
    "            \"Day\": day_name,\n",
    "            \"High Temperature (°C)\": temp_high,\n",
    "            \"Low Temperature (°C)\": temp_low,\n",
    "            \"Condition\": condition\n",
    "        })\n",
    "\n",
    "    df = pd.DataFrame(weather_data)\n",
    "\n",
    "    df.to_csv(\"bbc_weather_tel_aviv.csv\", index=False)\n",
    "\n",
    "    print(df)\n",
    "\n",
    "finally:\n",
    "    driver.quit()"
   ]
  },
  {
   "cell_type": "code",
   "execution_count": 66,
   "metadata": {},
   "outputs": [
    {
     "data": {
      "application/vnd.plotly.v1+json": {
       "config": {
        "plotlyServerURL": "https://plot.ly"
       },
       "data": [
        {
         "hovertemplate": "Condition=Sunny<br>Day=%{x}<br>Low Temp (°C)=%{y}<br>High Temp (°C)=%{z}<extra></extra>",
         "legendgroup": "Sunny",
         "marker": {
          "color": "#636efa",
          "symbol": "circle"
         },
         "mode": "markers",
         "name": "Sunny",
         "scene": "scene",
         "showlegend": true,
         "type": "scatter3d",
         "x": [
          "Tonight",
          "Wed 18th",
          "Thu 19th",
          "Sat 21st",
          "Sun 22nd",
          "Mon 30th"
         ],
         "y": [
          "9°",
          "9°",
          "10°",
          "11°",
          "11°",
          "7°"
         ],
         "z": [
          "20°",
          "22°",
          "21°",
          "20°",
          "19°",
          "18°"
         ]
        },
        {
         "hovertemplate": "Condition=Light Rain Showers<br>Day=%{x}<br>Low Temp (°C)=%{y}<br>High Temp (°C)=%{z}<extra></extra>",
         "legendgroup": "Light Rain Showers",
         "marker": {
          "color": "#EF553B",
          "symbol": "circle"
         },
         "mode": "markers",
         "name": "Light Rain Showers",
         "scene": "scene",
         "showlegend": true,
         "type": "scatter3d",
         "x": [
          "Fri 20th",
          "Wed 25th",
          "Sat 28th"
         ],
         "y": [
          "12°",
          "11°",
          "10°"
         ],
         "z": [
          "18°",
          "19°",
          "17°"
         ]
        },
        {
         "hovertemplate": "Condition=Thundery Showers<br>Day=%{x}<br>Low Temp (°C)=%{y}<br>High Temp (°C)=%{z}<extra></extra>",
         "legendgroup": "Thundery Showers",
         "marker": {
          "color": "#00cc96",
          "symbol": "circle"
         },
         "mode": "markers",
         "name": "Thundery Showers",
         "scene": "scene",
         "showlegend": true,
         "type": "scatter3d",
         "x": [
          "Mon 23rd"
         ],
         "y": [
          "11°"
         ],
         "z": [
          "18°"
         ]
        },
        {
         "hovertemplate": "Condition=Sunny Intervals<br>Day=%{x}<br>Low Temp (°C)=%{y}<br>High Temp (°C)=%{z}<extra></extra>",
         "legendgroup": "Sunny Intervals",
         "marker": {
          "color": "#ab63fa",
          "symbol": "circle"
         },
         "mode": "markers",
         "name": "Sunny Intervals",
         "scene": "scene",
         "showlegend": true,
         "type": "scatter3d",
         "x": [
          "Tue 24th",
          "Fri 27th",
          "Sun 29th"
         ],
         "y": [
          "10°",
          "10°",
          "9°"
         ],
         "z": [
          "18°",
          "17°",
          "17°"
         ]
        },
        {
         "hovertemplate": "Condition=Heavy Rain Showers<br>Day=%{x}<br>Low Temp (°C)=%{y}<br>High Temp (°C)=%{z}<extra></extra>",
         "legendgroup": "Heavy Rain Showers",
         "marker": {
          "color": "#FFA15A",
          "symbol": "circle"
         },
         "mode": "markers",
         "name": "Heavy Rain Showers",
         "scene": "scene",
         "showlegend": true,
         "type": "scatter3d",
         "x": [
          "Thu 26th"
         ],
         "y": [
          "11°"
         ],
         "z": [
          "17°"
         ]
        }
       ],
       "layout": {
        "legend": {
         "title": {
          "text": "Condition"
         },
         "tracegroupgap": 0
        },
        "margin": {
         "t": 60
        },
        "scene": {
         "domain": {
          "x": [
           0,
           1
          ],
          "y": [
           0,
           1
          ]
         },
         "xaxis": {
          "title": {
           "text": "Day"
          }
         },
         "yaxis": {
          "title": {
           "text": "Low Temp (°C)"
          }
         },
         "zaxis": {
          "title": {
           "text": "High Temp (°C)"
          }
         }
        },
        "template": {
         "data": {
          "bar": [
           {
            "error_x": {
             "color": "#2a3f5f"
            },
            "error_y": {
             "color": "#2a3f5f"
            },
            "marker": {
             "line": {
              "color": "#E5ECF6",
              "width": 0.5
             },
             "pattern": {
              "fillmode": "overlay",
              "size": 10,
              "solidity": 0.2
             }
            },
            "type": "bar"
           }
          ],
          "barpolar": [
           {
            "marker": {
             "line": {
              "color": "#E5ECF6",
              "width": 0.5
             },
             "pattern": {
              "fillmode": "overlay",
              "size": 10,
              "solidity": 0.2
             }
            },
            "type": "barpolar"
           }
          ],
          "carpet": [
           {
            "aaxis": {
             "endlinecolor": "#2a3f5f",
             "gridcolor": "white",
             "linecolor": "white",
             "minorgridcolor": "white",
             "startlinecolor": "#2a3f5f"
            },
            "baxis": {
             "endlinecolor": "#2a3f5f",
             "gridcolor": "white",
             "linecolor": "white",
             "minorgridcolor": "white",
             "startlinecolor": "#2a3f5f"
            },
            "type": "carpet"
           }
          ],
          "choropleth": [
           {
            "colorbar": {
             "outlinewidth": 0,
             "ticks": ""
            },
            "type": "choropleth"
           }
          ],
          "contour": [
           {
            "colorbar": {
             "outlinewidth": 0,
             "ticks": ""
            },
            "colorscale": [
             [
              0,
              "#0d0887"
             ],
             [
              0.1111111111111111,
              "#46039f"
             ],
             [
              0.2222222222222222,
              "#7201a8"
             ],
             [
              0.3333333333333333,
              "#9c179e"
             ],
             [
              0.4444444444444444,
              "#bd3786"
             ],
             [
              0.5555555555555556,
              "#d8576b"
             ],
             [
              0.6666666666666666,
              "#ed7953"
             ],
             [
              0.7777777777777778,
              "#fb9f3a"
             ],
             [
              0.8888888888888888,
              "#fdca26"
             ],
             [
              1,
              "#f0f921"
             ]
            ],
            "type": "contour"
           }
          ],
          "contourcarpet": [
           {
            "colorbar": {
             "outlinewidth": 0,
             "ticks": ""
            },
            "type": "contourcarpet"
           }
          ],
          "heatmap": [
           {
            "colorbar": {
             "outlinewidth": 0,
             "ticks": ""
            },
            "colorscale": [
             [
              0,
              "#0d0887"
             ],
             [
              0.1111111111111111,
              "#46039f"
             ],
             [
              0.2222222222222222,
              "#7201a8"
             ],
             [
              0.3333333333333333,
              "#9c179e"
             ],
             [
              0.4444444444444444,
              "#bd3786"
             ],
             [
              0.5555555555555556,
              "#d8576b"
             ],
             [
              0.6666666666666666,
              "#ed7953"
             ],
             [
              0.7777777777777778,
              "#fb9f3a"
             ],
             [
              0.8888888888888888,
              "#fdca26"
             ],
             [
              1,
              "#f0f921"
             ]
            ],
            "type": "heatmap"
           }
          ],
          "heatmapgl": [
           {
            "colorbar": {
             "outlinewidth": 0,
             "ticks": ""
            },
            "colorscale": [
             [
              0,
              "#0d0887"
             ],
             [
              0.1111111111111111,
              "#46039f"
             ],
             [
              0.2222222222222222,
              "#7201a8"
             ],
             [
              0.3333333333333333,
              "#9c179e"
             ],
             [
              0.4444444444444444,
              "#bd3786"
             ],
             [
              0.5555555555555556,
              "#d8576b"
             ],
             [
              0.6666666666666666,
              "#ed7953"
             ],
             [
              0.7777777777777778,
              "#fb9f3a"
             ],
             [
              0.8888888888888888,
              "#fdca26"
             ],
             [
              1,
              "#f0f921"
             ]
            ],
            "type": "heatmapgl"
           }
          ],
          "histogram": [
           {
            "marker": {
             "pattern": {
              "fillmode": "overlay",
              "size": 10,
              "solidity": 0.2
             }
            },
            "type": "histogram"
           }
          ],
          "histogram2d": [
           {
            "colorbar": {
             "outlinewidth": 0,
             "ticks": ""
            },
            "colorscale": [
             [
              0,
              "#0d0887"
             ],
             [
              0.1111111111111111,
              "#46039f"
             ],
             [
              0.2222222222222222,
              "#7201a8"
             ],
             [
              0.3333333333333333,
              "#9c179e"
             ],
             [
              0.4444444444444444,
              "#bd3786"
             ],
             [
              0.5555555555555556,
              "#d8576b"
             ],
             [
              0.6666666666666666,
              "#ed7953"
             ],
             [
              0.7777777777777778,
              "#fb9f3a"
             ],
             [
              0.8888888888888888,
              "#fdca26"
             ],
             [
              1,
              "#f0f921"
             ]
            ],
            "type": "histogram2d"
           }
          ],
          "histogram2dcontour": [
           {
            "colorbar": {
             "outlinewidth": 0,
             "ticks": ""
            },
            "colorscale": [
             [
              0,
              "#0d0887"
             ],
             [
              0.1111111111111111,
              "#46039f"
             ],
             [
              0.2222222222222222,
              "#7201a8"
             ],
             [
              0.3333333333333333,
              "#9c179e"
             ],
             [
              0.4444444444444444,
              "#bd3786"
             ],
             [
              0.5555555555555556,
              "#d8576b"
             ],
             [
              0.6666666666666666,
              "#ed7953"
             ],
             [
              0.7777777777777778,
              "#fb9f3a"
             ],
             [
              0.8888888888888888,
              "#fdca26"
             ],
             [
              1,
              "#f0f921"
             ]
            ],
            "type": "histogram2dcontour"
           }
          ],
          "mesh3d": [
           {
            "colorbar": {
             "outlinewidth": 0,
             "ticks": ""
            },
            "type": "mesh3d"
           }
          ],
          "parcoords": [
           {
            "line": {
             "colorbar": {
              "outlinewidth": 0,
              "ticks": ""
             }
            },
            "type": "parcoords"
           }
          ],
          "pie": [
           {
            "automargin": true,
            "type": "pie"
           }
          ],
          "scatter": [
           {
            "fillpattern": {
             "fillmode": "overlay",
             "size": 10,
             "solidity": 0.2
            },
            "type": "scatter"
           }
          ],
          "scatter3d": [
           {
            "line": {
             "colorbar": {
              "outlinewidth": 0,
              "ticks": ""
             }
            },
            "marker": {
             "colorbar": {
              "outlinewidth": 0,
              "ticks": ""
             }
            },
            "type": "scatter3d"
           }
          ],
          "scattercarpet": [
           {
            "marker": {
             "colorbar": {
              "outlinewidth": 0,
              "ticks": ""
             }
            },
            "type": "scattercarpet"
           }
          ],
          "scattergeo": [
           {
            "marker": {
             "colorbar": {
              "outlinewidth": 0,
              "ticks": ""
             }
            },
            "type": "scattergeo"
           }
          ],
          "scattergl": [
           {
            "marker": {
             "colorbar": {
              "outlinewidth": 0,
              "ticks": ""
             }
            },
            "type": "scattergl"
           }
          ],
          "scattermapbox": [
           {
            "marker": {
             "colorbar": {
              "outlinewidth": 0,
              "ticks": ""
             }
            },
            "type": "scattermapbox"
           }
          ],
          "scatterpolar": [
           {
            "marker": {
             "colorbar": {
              "outlinewidth": 0,
              "ticks": ""
             }
            },
            "type": "scatterpolar"
           }
          ],
          "scatterpolargl": [
           {
            "marker": {
             "colorbar": {
              "outlinewidth": 0,
              "ticks": ""
             }
            },
            "type": "scatterpolargl"
           }
          ],
          "scatterternary": [
           {
            "marker": {
             "colorbar": {
              "outlinewidth": 0,
              "ticks": ""
             }
            },
            "type": "scatterternary"
           }
          ],
          "surface": [
           {
            "colorbar": {
             "outlinewidth": 0,
             "ticks": ""
            },
            "colorscale": [
             [
              0,
              "#0d0887"
             ],
             [
              0.1111111111111111,
              "#46039f"
             ],
             [
              0.2222222222222222,
              "#7201a8"
             ],
             [
              0.3333333333333333,
              "#9c179e"
             ],
             [
              0.4444444444444444,
              "#bd3786"
             ],
             [
              0.5555555555555556,
              "#d8576b"
             ],
             [
              0.6666666666666666,
              "#ed7953"
             ],
             [
              0.7777777777777778,
              "#fb9f3a"
             ],
             [
              0.8888888888888888,
              "#fdca26"
             ],
             [
              1,
              "#f0f921"
             ]
            ],
            "type": "surface"
           }
          ],
          "table": [
           {
            "cells": {
             "fill": {
              "color": "#EBF0F8"
             },
             "line": {
              "color": "white"
             }
            },
            "header": {
             "fill": {
              "color": "#C8D4E3"
             },
             "line": {
              "color": "white"
             }
            },
            "type": "table"
           }
          ]
         },
         "layout": {
          "annotationdefaults": {
           "arrowcolor": "#2a3f5f",
           "arrowhead": 0,
           "arrowwidth": 1
          },
          "autotypenumbers": "strict",
          "coloraxis": {
           "colorbar": {
            "outlinewidth": 0,
            "ticks": ""
           }
          },
          "colorscale": {
           "diverging": [
            [
             0,
             "#8e0152"
            ],
            [
             0.1,
             "#c51b7d"
            ],
            [
             0.2,
             "#de77ae"
            ],
            [
             0.3,
             "#f1b6da"
            ],
            [
             0.4,
             "#fde0ef"
            ],
            [
             0.5,
             "#f7f7f7"
            ],
            [
             0.6,
             "#e6f5d0"
            ],
            [
             0.7,
             "#b8e186"
            ],
            [
             0.8,
             "#7fbc41"
            ],
            [
             0.9,
             "#4d9221"
            ],
            [
             1,
             "#276419"
            ]
           ],
           "sequential": [
            [
             0,
             "#0d0887"
            ],
            [
             0.1111111111111111,
             "#46039f"
            ],
            [
             0.2222222222222222,
             "#7201a8"
            ],
            [
             0.3333333333333333,
             "#9c179e"
            ],
            [
             0.4444444444444444,
             "#bd3786"
            ],
            [
             0.5555555555555556,
             "#d8576b"
            ],
            [
             0.6666666666666666,
             "#ed7953"
            ],
            [
             0.7777777777777778,
             "#fb9f3a"
            ],
            [
             0.8888888888888888,
             "#fdca26"
            ],
            [
             1,
             "#f0f921"
            ]
           ],
           "sequentialminus": [
            [
             0,
             "#0d0887"
            ],
            [
             0.1111111111111111,
             "#46039f"
            ],
            [
             0.2222222222222222,
             "#7201a8"
            ],
            [
             0.3333333333333333,
             "#9c179e"
            ],
            [
             0.4444444444444444,
             "#bd3786"
            ],
            [
             0.5555555555555556,
             "#d8576b"
            ],
            [
             0.6666666666666666,
             "#ed7953"
            ],
            [
             0.7777777777777778,
             "#fb9f3a"
            ],
            [
             0.8888888888888888,
             "#fdca26"
            ],
            [
             1,
             "#f0f921"
            ]
           ]
          },
          "colorway": [
           "#636efa",
           "#EF553B",
           "#00cc96",
           "#ab63fa",
           "#FFA15A",
           "#19d3f3",
           "#FF6692",
           "#B6E880",
           "#FF97FF",
           "#FECB52"
          ],
          "font": {
           "color": "#2a3f5f"
          },
          "geo": {
           "bgcolor": "white",
           "lakecolor": "white",
           "landcolor": "#E5ECF6",
           "showlakes": true,
           "showland": true,
           "subunitcolor": "white"
          },
          "hoverlabel": {
           "align": "left"
          },
          "hovermode": "closest",
          "mapbox": {
           "style": "light"
          },
          "paper_bgcolor": "white",
          "plot_bgcolor": "#E5ECF6",
          "polar": {
           "angularaxis": {
            "gridcolor": "white",
            "linecolor": "white",
            "ticks": ""
           },
           "bgcolor": "#E5ECF6",
           "radialaxis": {
            "gridcolor": "white",
            "linecolor": "white",
            "ticks": ""
           }
          },
          "scene": {
           "xaxis": {
            "backgroundcolor": "#E5ECF6",
            "gridcolor": "white",
            "gridwidth": 2,
            "linecolor": "white",
            "showbackground": true,
            "ticks": "",
            "zerolinecolor": "white"
           },
           "yaxis": {
            "backgroundcolor": "#E5ECF6",
            "gridcolor": "white",
            "gridwidth": 2,
            "linecolor": "white",
            "showbackground": true,
            "ticks": "",
            "zerolinecolor": "white"
           },
           "zaxis": {
            "backgroundcolor": "#E5ECF6",
            "gridcolor": "white",
            "gridwidth": 2,
            "linecolor": "white",
            "showbackground": true,
            "ticks": "",
            "zerolinecolor": "white"
           }
          },
          "shapedefaults": {
           "line": {
            "color": "#2a3f5f"
           }
          },
          "ternary": {
           "aaxis": {
            "gridcolor": "white",
            "linecolor": "white",
            "ticks": ""
           },
           "baxis": {
            "gridcolor": "white",
            "linecolor": "white",
            "ticks": ""
           },
           "bgcolor": "#E5ECF6",
           "caxis": {
            "gridcolor": "white",
            "linecolor": "white",
            "ticks": ""
           }
          },
          "title": {
           "x": 0.05
          },
          "xaxis": {
           "automargin": true,
           "gridcolor": "white",
           "linecolor": "white",
           "ticks": "",
           "title": {
            "standoff": 15
           },
           "zerolinecolor": "white",
           "zerolinewidth": 2
          },
          "yaxis": {
           "automargin": true,
           "gridcolor": "white",
           "linecolor": "white",
           "ticks": "",
           "title": {
            "standoff": 15
           },
           "zerolinecolor": "white",
           "zerolinewidth": 2
          }
         }
        },
        "title": {
         "text": "3D Weather Data Scatter Plot"
        }
       }
      }
     },
     "metadata": {},
     "output_type": "display_data"
    }
   ],
   "source": [
    "import plotly.express as px\n",
    "import numpy as np\n",
    "import pandas as pd\n",
    "df = pd.read_csv(\"bbc_weather_tel_aviv.csv\")\n",
    "df_clean = df.dropna(subset=[\"High Temperature (°C)\", \"Low Temperature (°C)\", \"Day\", \"Condition\"])\n",
    "\n",
    "# Create a 3D scatter plot\n",
    "fig = px.scatter_3d(df_clean, \n",
    "                    x=\"Day\", \n",
    "                    y=\"Low Temperature (°C)\", \n",
    "                    z=\"High Temperature (°C)\", \n",
    "                    color=\"Condition\", \n",
    "                    labels={\"High Temperature (°C)\": \"High Temp (°C)\", \n",
    "                            \"Low Temperature (°C)\": \"Low Temp (°C)\", \n",
    "                            \"Day\": \"Day\", \n",
    "                            \"Condition\": \"Condition\"})\n",
    "\n",
    "# Set title and show the plot\n",
    "fig.update_layout(title=\"3D Weather Data Scatter Plot\", \n",
    "                  scene=dict(\n",
    "                      xaxis_title=\"Day\",\n",
    "                      yaxis_title=\"Low Temp (°C)\",\n",
    "                      zaxis_title=\"High Temp (°C)\"))\n",
    "\n",
    "fig.show()"
   ]
  },
  {
   "cell_type": "markdown",
   "metadata": {},
   "source": [
    "# Weather Data Analysis\n",
    "- This dataset provides daily weather information for a period from \"Tonight\" through the 29th of the month, with high and low temperatures in Celsius and corresponding weather conditions.\n",
    "\n",
    "*Temperature Trends:*\n",
    "\n",
    "- The high temperatures range from 17°C to 22°C, with a noticeable decrease towards the end of the month, especially after the 26th, when the temperature consistently hovers around 17°C.\n",
    "- The low temperatures fluctuate between 9°C and 12°C, with the cooler nights occurring on the 17th, 18th, and 29th, where the low temperatures drop to 9°C.\n",
    "Weather Conditions:\n",
    "\n",
    "- The majority of the days are categorized as either \"Sunny\" or \"Sunny Intervals,\" indicating generally clear weather with occasional partial cloud cover.\n",
    "- Rainy conditions are present in the middle of the period, with \"Light Rain Showers\" occurring on multiple days (20th, 23rd, 24th, 26th, 27th, 28th) and a \"Heavy Rain Shower\" on the 27th.\n",
    "- The data suggests that while the beginning of the period was mostly sunny, rain became more frequent towards the end of the month.\n",
    "\n",
    "- Summary: Overall, the dataset shows a combination of sunny and mild temperatures, with periods of rain beginning around the 20th and intensifying towards the end of the month. The general trend shows a slight cooling of temperatures as the month progresses, with the final days being marked by cooler temperatures and increasing rainfall."
   ]
  }
 ],
 "metadata": {
  "kernelspec": {
   "display_name": "Python 3",
   "language": "python",
   "name": "python3"
  },
  "language_info": {
   "codemirror_mode": {
    "name": "ipython",
    "version": 3
   },
   "file_extension": ".py",
   "mimetype": "text/x-python",
   "name": "python",
   "nbconvert_exporter": "python",
   "pygments_lexer": "ipython3",
   "version": "3.12.6"
  }
 },
 "nbformat": 4,
 "nbformat_minor": 2
}

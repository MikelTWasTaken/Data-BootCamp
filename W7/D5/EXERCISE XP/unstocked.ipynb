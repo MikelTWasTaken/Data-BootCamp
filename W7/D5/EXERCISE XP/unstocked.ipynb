{
 "cells": [
  {
   "cell_type": "code",
   "execution_count": 2,
   "metadata": {},
   "outputs": [
    {
     "ename": "ImportError",
     "evalue": "cannot import name 'load_Workbook' from 'openpyxl' (/Library/Frameworks/Python.framework/Versions/3.12/lib/python3.12/site-packages/openpyxl/__init__.py)",
     "output_type": "error",
     "traceback": [
      "\u001b[0;31m---------------------------------------------------------------------------\u001b[0m",
      "\u001b[0;31mImportError\u001b[0m                               Traceback (most recent call last)",
      "Cell \u001b[0;32mIn[2], line 2\u001b[0m\n\u001b[1;32m      1\u001b[0m \u001b[38;5;28;01mimport\u001b[39;00m \u001b[38;5;21;01msys\u001b[39;00m\n\u001b[0;32m----> 2\u001b[0m \u001b[38;5;28;01mfrom\u001b[39;00m \u001b[38;5;21;01mopenpyxl\u001b[39;00m \u001b[38;5;28;01mimport\u001b[39;00m load_Workbook\n\u001b[1;32m      4\u001b[0m sys\u001b[38;5;241m.\u001b[39mpath\u001b[38;5;241m.\u001b[39mappend(\u001b[38;5;124mr\u001b[39m\u001b[38;5;124m\"\u001b[39m\u001b[38;5;124m/Users/teitelbaumsair/Desktop/Data Bootcamp/W7/D5/EXERCISE XP/Plants.xlsx\u001b[39m\u001b[38;5;124m\"\u001b[39m)\n\u001b[1;32m      6\u001b[0m plant_book \u001b[38;5;241m=\u001b[39m load_workbook(filename\u001b[38;5;241m=\u001b[39m\u001b[38;5;124mr\u001b[39m\u001b[38;5;124m\"\u001b[39m\u001b[38;5;124m/Users/teitelbaumsair/Desktop/Data Bootcamp/W7/D5/EXERCISE XP/Plants.xlsx\u001b[39m\u001b[38;5;124m\"\u001b[39m)\n",
      "\u001b[0;31mImportError\u001b[0m: cannot import name 'load_Workbook' from 'openpyxl' (/Library/Frameworks/Python.framework/Versions/3.12/lib/python3.12/site-packages/openpyxl/__init__.py)"
     ]
    }
   ],
   "source": [
    "import sys\n",
    "from openpyxl import load_Workbook\n",
    "\n",
    "sys.path.append(r\"/Users/teitelbaumsair/Desktop/Data Bootcamp/W7/D5/EXERCISE XP/Plants.xlsx\")\n",
    "\n",
    "plant_book = load_workbook(filename=r\"/Users/teitelbaumsair/Desktop/Data Bootcamp/W7/D5/EXERCISE XP/Plants.xlsx\")\n",
    "plant_sheet = plant_book[\"Sheet1\"]\n",
    "this_plant = plant_sheet.cell(1,1)\n",
    "\n",
    "int_check = 0\n",
    "while True:\n",
    "\n",
    "    int_check += 1\n",
    "    if int_check > 100:\n",
    "        print(\"Integer check triggered\")\n",
    "        break\n",
    "\n",
    "    this_plant = this_plant.offset(1,0)\n",
    "\n",
    "    if this_plant.value == None:\n",
    "        print(\"\\nThe above plants are not in stock\")\n",
    "        break\n",
    "\n",
    "    stock_cell = this_plant.offset(0,7)\n",
    "    if stock_cell.value == \"No\":\n",
    "        print(this_plant.value)\n",
    "\n",
    "plant_book.close()"
   ]
  }
 ],
 "metadata": {
  "kernelspec": {
   "display_name": "Python 3",
   "language": "python",
   "name": "python3"
  },
  "language_info": {
   "codemirror_mode": {
    "name": "ipython",
    "version": 3
   },
   "file_extension": ".py",
   "mimetype": "text/x-python",
   "name": "python",
   "nbconvert_exporter": "python",
   "pygments_lexer": "ipython3",
   "version": "3.12.6"
  }
 },
 "nbformat": 4,
 "nbformat_minor": 2
}

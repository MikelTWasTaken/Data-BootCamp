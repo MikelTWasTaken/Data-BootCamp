{
 "cells": [
  {
   "cell_type": "markdown",
   "metadata": {
    "vscode": {
     "languageId": "plaintext"
    }
   },
   "source": [
    "Exercise 1 : Use the openpyxl module to create a new workbook and add values/formulae to it\n",
    "Your task for this exercise is to create this simple calculator in Excel:"
   ]
  },
  {
   "cell_type": "code",
   "execution_count": 1,
   "metadata": {},
   "outputs": [],
   "source": [
    "from openpyxl import Workbook\n",
    "from openpyxl.styles import Font\n",
    "\n",
    "# Creating a new Excel workbook and sheet\n",
    "wb = Workbook()\n",
    "ws = wb.active\n",
    "\n",
    "# Automate data entry\n",
    "data = [\n",
    "    ['First Number', 32],\n",
    "    ['Second Number', 28]\n",
    "]\n",
    "\n",
    "for row in data:\n",
    "    ws.append(row)\n",
    "\n",
    "# Calculate the product of the numbers and add it to the worksheet\n",
    "product = data[0][1] * data[1][1]  # Multiplying the values\n",
    "ws.append(['Product', product])\n",
    "\n",
    "# Automate formatting\n",
    "for cell in ws[\"1:1\"]:\n",
    "    cell.font = Font(bold=True)\n",
    "\n",
    "# Saving the workbook\n",
    "wb.save('multiplication.xlsx')"
   ]
  }
 ],
 "metadata": {
  "kernelspec": {
   "display_name": "Python 3",
   "language": "python",
   "name": "python3"
  },
  "language_info": {
   "codemirror_mode": {
    "name": "ipython",
    "version": 3
   },
   "file_extension": ".py",
   "mimetype": "text/x-python",
   "name": "python",
   "nbconvert_exporter": "python",
   "pygments_lexer": "ipython3",
   "version": "3.12.6"
  }
 },
 "nbformat": 4,
 "nbformat_minor": 2
}

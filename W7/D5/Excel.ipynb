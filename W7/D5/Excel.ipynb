{
 "cells": [
  {
   "cell_type": "code",
   "execution_count": 1,
   "metadata": {},
   "outputs": [
    {
     "name": "stdout",
     "output_type": "stream",
     "text": [
      "     Week    Day              Name of course               Name of page Nb XP  \\\n",
      "0  Week 1    NaN  Python and Web Programming                        NaN   NaN   \n",
      "1     NaN  Day 1                         NaN       Starting with Python   NaN   \n",
      "2     NaN    NaN                         NaN            What is Python?   NaN   \n",
      "3     NaN    NaN                         NaN  Thinking like a Developer   NaN   \n",
      "4     NaN    NaN                         NaN       Installing Python...   NaN   \n",
      "\n",
      "   Mandatory Status  \n",
      "0        NaN   Done  \n",
      "1        NaN   Done  \n",
      "2        NaN   Done  \n",
      "3        NaN   Done  \n",
      "4        NaN   Done  \n"
     ]
    }
   ],
   "source": [
    "import pandas as pd\n",
    "df = pd.read_excel('/Users/teitelbaumsair/Desktop/Data Bootcamp/Bootcamp Dashboard.xlsx')\n",
    "print(df.head()) "
   ]
  },
  {
   "cell_type": "code",
   "execution_count": 2,
   "metadata": {},
   "outputs": [],
   "source": [
    "import pandas as pd\n",
    "\n",
    "# Creating a DataFrame\n",
    "data = {'Name': ['John', 'Anna', 'Peter', 'Linda'],\n",
    "        'Age': [28, 24, 35, 32]}\n",
    "df = pd.DataFrame(data)\n",
    "\n",
    "# Writing the DataFrame to an Excel file\n",
    "df.to_excel('output_file.xlsx', index=False)"
   ]
  },
  {
   "cell_type": "code",
   "execution_count": 5,
   "metadata": {},
   "outputs": [],
   "source": [
    "from openpyxl import Workbook\n",
    "from openpyxl.styles import Font\n",
    "\n",
    "# Creating a new Excel workbook and sheet\n",
    "wb = Workbook()\n",
    "ws = wb.active\n",
    "\n",
    "# Automate data entry\n",
    "data = [\n",
    "    ['Name', 'Age'],\n",
    "    ['John', 28],\n",
    "    ['Anna', 24],\n",
    "    ['Peter', 35],\n",
    "    ['Linda', 32],\n",
    "    ['Mike', 31]\n",
    "]\n",
    "\n",
    "for row in data:\n",
    "    ws.append(row)\n",
    "\n",
    "# Automate formatting\n",
    "for cell in ws[\"1:1\"]:\n",
    "    cell.font = Font(bold=True)\n",
    "\n",
    "# Saving the workbook\n",
    "wb.save('automated_task.xlsx')"
   ]
  },
  {
   "cell_type": "code",
   "execution_count": 8,
   "metadata": {},
   "outputs": [],
   "source": [
    "# Performing a simple calculation\n",
    "df['Salary'] = df['Age'] * 1000\n",
    "\n",
    "# Writing the DataFrame with the calculated data to an Excel file\n",
    "df.to_excel('automated_task.xlsx', index=False)"
   ]
  }
 ],
 "metadata": {
  "kernelspec": {
   "display_name": "Python 3",
   "language": "python",
   "name": "python3"
  },
  "language_info": {
   "codemirror_mode": {
    "name": "ipython",
    "version": 3
   },
   "file_extension": ".py",
   "mimetype": "text/x-python",
   "name": "python",
   "nbconvert_exporter": "python",
   "pygments_lexer": "ipython3",
   "version": "3.12.6"
  }
 },
 "nbformat": 4,
 "nbformat_minor": 2
}
